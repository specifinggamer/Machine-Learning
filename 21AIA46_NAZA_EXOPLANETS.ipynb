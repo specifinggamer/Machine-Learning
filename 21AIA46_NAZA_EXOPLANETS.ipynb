{
  "cells": [
    {
      "cell_type": "code",
      "execution_count": 1,
      "metadata": {
        "id": "4_2vGF7E28VL"
      },
      "outputs": [],
      "source": [
        "import numpy as np\n",
        "import pandas as pd\n",
        "import matplotlib.pyplot as plt\n",
        "from sklearn.model_selection import train_test_split\n",
        "from sklearn.preprocessing import StandardScaler\n",
        "from sklearn.tree import DecisionTreeClassifier\n",
        "from sklearn.metrics import confusion_matrix\n",
        "from sklearn.metrics import accuracy_score\n",
        "from sklearn.tree import export_graphviz\n",
        "import graphviz\n",
        "import seaborn as sns\n",
        "from sklearn.preprocessing import LabelEncoder"
      ]
    },
    {
      "cell_type": "code",
      "execution_count": 2,
      "metadata": {
        "id": "mjxuypcT3R6e"
      },
      "outputs": [],
      "source": [
        "df=pd.read_csv (\"Narzo extraplanets.csv\")"
      ]
    },
    {
      "cell_type": "code",
      "source": [
        "col = list(df.columns)"
      ],
      "metadata": {
        "id": "6ByziJraSXJN"
      },
      "execution_count": 3,
      "outputs": []
    },
    {
      "cell_type": "code",
      "source": [
        "from sklearn.preprocessing import LabelEncoder\n",
        "labelencoder = LabelEncoder()\n",
        "for m in col:\n",
        "  df[m]=labelencoder.fit_transform(df[m])\n",
        "df"
      ],
      "metadata": {
        "colab": {
          "base_uri": "https://localhost:8080/",
          "height": 487
        },
        "id": "t4F7H0bdSN8v",
        "outputId": "03ca0106-0e74-4121-83c3-33fe7af36a28"
      },
      "execution_count": 4,
      "outputs": [
        {
          "output_type": "execute_result",
          "data": {
            "text/plain": [
              "      name  distance  stellar_magnitude  planet_type  discovery_year  \\\n",
              "0        0       267                 41            0              14   \n",
              "1        1       346                 48            0              16   \n",
              "2        2       219                 57            0              15   \n",
              "3        3        48                171            0               9   \n",
              "4        4        58                127            0               3   \n",
              "...    ...       ...                ...          ...             ...   \n",
              "5245  5240       583                601            0              26   \n",
              "5246  5242       307                653            0              28   \n",
              "5247  5243         3                919            3              24   \n",
              "5248  5244         3                919            2              24   \n",
              "5249  5245         3                919            2              24   \n",
              "\n",
              "      mass_multiplier  mass_wrt  radius_multiplier  radius_wrt  \\\n",
              "0                1524         1                555           1   \n",
              "1                1441         1                563           1   \n",
              "2                 882         1                605           1   \n",
              "3                1173         1                584           1   \n",
              "4                 561         1                637           1   \n",
              "...               ...       ...                ...         ...   \n",
              "5245              326         1                735           1   \n",
              "5246             1020         1                599           1   \n",
              "5247              322         0                461           0   \n",
              "5248              448         0                539           0   \n",
              "5249              440         0                528           0   \n",
              "\n",
              "      orbital_radius  orbital_period  eccentricity  detection_method  \n",
              "0               2363             919            90                 8  \n",
              "1               2400            1026            42                 8  \n",
              "2               2261             805             3                 8  \n",
              "3               2544            1060           119                 8  \n",
              "4               2415            1034           155                 8  \n",
              "...              ...             ...           ...               ...  \n",
              "5245             471              28            19                 9  \n",
              "5246            2797            1243             3                 1  \n",
              "5247              68              19            29                 8  \n",
              "5248             128              30             3                 8  \n",
              "5249             210              46            37                 8  \n",
              "\n",
              "[5250 rows x 13 columns]"
            ],
            "text/html": [
              "\n",
              "  <div id=\"df-b7369e85-705b-432d-ad58-cdd2c344d976\">\n",
              "    <div class=\"colab-df-container\">\n",
              "      <div>\n",
              "<style scoped>\n",
              "    .dataframe tbody tr th:only-of-type {\n",
              "        vertical-align: middle;\n",
              "    }\n",
              "\n",
              "    .dataframe tbody tr th {\n",
              "        vertical-align: top;\n",
              "    }\n",
              "\n",
              "    .dataframe thead th {\n",
              "        text-align: right;\n",
              "    }\n",
              "</style>\n",
              "<table border=\"1\" class=\"dataframe\">\n",
              "  <thead>\n",
              "    <tr style=\"text-align: right;\">\n",
              "      <th></th>\n",
              "      <th>name</th>\n",
              "      <th>distance</th>\n",
              "      <th>stellar_magnitude</th>\n",
              "      <th>planet_type</th>\n",
              "      <th>discovery_year</th>\n",
              "      <th>mass_multiplier</th>\n",
              "      <th>mass_wrt</th>\n",
              "      <th>radius_multiplier</th>\n",
              "      <th>radius_wrt</th>\n",
              "      <th>orbital_radius</th>\n",
              "      <th>orbital_period</th>\n",
              "      <th>eccentricity</th>\n",
              "      <th>detection_method</th>\n",
              "    </tr>\n",
              "  </thead>\n",
              "  <tbody>\n",
              "    <tr>\n",
              "      <th>0</th>\n",
              "      <td>0</td>\n",
              "      <td>267</td>\n",
              "      <td>41</td>\n",
              "      <td>0</td>\n",
              "      <td>14</td>\n",
              "      <td>1524</td>\n",
              "      <td>1</td>\n",
              "      <td>555</td>\n",
              "      <td>1</td>\n",
              "      <td>2363</td>\n",
              "      <td>919</td>\n",
              "      <td>90</td>\n",
              "      <td>8</td>\n",
              "    </tr>\n",
              "    <tr>\n",
              "      <th>1</th>\n",
              "      <td>1</td>\n",
              "      <td>346</td>\n",
              "      <td>48</td>\n",
              "      <td>0</td>\n",
              "      <td>16</td>\n",
              "      <td>1441</td>\n",
              "      <td>1</td>\n",
              "      <td>563</td>\n",
              "      <td>1</td>\n",
              "      <td>2400</td>\n",
              "      <td>1026</td>\n",
              "      <td>42</td>\n",
              "      <td>8</td>\n",
              "    </tr>\n",
              "    <tr>\n",
              "      <th>2</th>\n",
              "      <td>2</td>\n",
              "      <td>219</td>\n",
              "      <td>57</td>\n",
              "      <td>0</td>\n",
              "      <td>15</td>\n",
              "      <td>882</td>\n",
              "      <td>1</td>\n",
              "      <td>605</td>\n",
              "      <td>1</td>\n",
              "      <td>2261</td>\n",
              "      <td>805</td>\n",
              "      <td>3</td>\n",
              "      <td>8</td>\n",
              "    </tr>\n",
              "    <tr>\n",
              "      <th>3</th>\n",
              "      <td>3</td>\n",
              "      <td>48</td>\n",
              "      <td>171</td>\n",
              "      <td>0</td>\n",
              "      <td>9</td>\n",
              "      <td>1173</td>\n",
              "      <td>1</td>\n",
              "      <td>584</td>\n",
              "      <td>1</td>\n",
              "      <td>2544</td>\n",
              "      <td>1060</td>\n",
              "      <td>119</td>\n",
              "      <td>8</td>\n",
              "    </tr>\n",
              "    <tr>\n",
              "      <th>4</th>\n",
              "      <td>4</td>\n",
              "      <td>58</td>\n",
              "      <td>127</td>\n",
              "      <td>0</td>\n",
              "      <td>3</td>\n",
              "      <td>561</td>\n",
              "      <td>1</td>\n",
              "      <td>637</td>\n",
              "      <td>1</td>\n",
              "      <td>2415</td>\n",
              "      <td>1034</td>\n",
              "      <td>155</td>\n",
              "      <td>8</td>\n",
              "    </tr>\n",
              "    <tr>\n",
              "      <th>...</th>\n",
              "      <td>...</td>\n",
              "      <td>...</td>\n",
              "      <td>...</td>\n",
              "      <td>...</td>\n",
              "      <td>...</td>\n",
              "      <td>...</td>\n",
              "      <td>...</td>\n",
              "      <td>...</td>\n",
              "      <td>...</td>\n",
              "      <td>...</td>\n",
              "      <td>...</td>\n",
              "      <td>...</td>\n",
              "      <td>...</td>\n",
              "    </tr>\n",
              "    <tr>\n",
              "      <th>5245</th>\n",
              "      <td>5240</td>\n",
              "      <td>583</td>\n",
              "      <td>601</td>\n",
              "      <td>0</td>\n",
              "      <td>26</td>\n",
              "      <td>326</td>\n",
              "      <td>1</td>\n",
              "      <td>735</td>\n",
              "      <td>1</td>\n",
              "      <td>471</td>\n",
              "      <td>28</td>\n",
              "      <td>19</td>\n",
              "      <td>9</td>\n",
              "    </tr>\n",
              "    <tr>\n",
              "      <th>5246</th>\n",
              "      <td>5242</td>\n",
              "      <td>307</td>\n",
              "      <td>653</td>\n",
              "      <td>0</td>\n",
              "      <td>28</td>\n",
              "      <td>1020</td>\n",
              "      <td>1</td>\n",
              "      <td>599</td>\n",
              "      <td>1</td>\n",
              "      <td>2797</td>\n",
              "      <td>1243</td>\n",
              "      <td>3</td>\n",
              "      <td>1</td>\n",
              "    </tr>\n",
              "    <tr>\n",
              "      <th>5247</th>\n",
              "      <td>5243</td>\n",
              "      <td>3</td>\n",
              "      <td>919</td>\n",
              "      <td>3</td>\n",
              "      <td>24</td>\n",
              "      <td>322</td>\n",
              "      <td>0</td>\n",
              "      <td>461</td>\n",
              "      <td>0</td>\n",
              "      <td>68</td>\n",
              "      <td>19</td>\n",
              "      <td>29</td>\n",
              "      <td>8</td>\n",
              "    </tr>\n",
              "    <tr>\n",
              "      <th>5248</th>\n",
              "      <td>5244</td>\n",
              "      <td>3</td>\n",
              "      <td>919</td>\n",
              "      <td>2</td>\n",
              "      <td>24</td>\n",
              "      <td>448</td>\n",
              "      <td>0</td>\n",
              "      <td>539</td>\n",
              "      <td>0</td>\n",
              "      <td>128</td>\n",
              "      <td>30</td>\n",
              "      <td>3</td>\n",
              "      <td>8</td>\n",
              "    </tr>\n",
              "    <tr>\n",
              "      <th>5249</th>\n",
              "      <td>5245</td>\n",
              "      <td>3</td>\n",
              "      <td>919</td>\n",
              "      <td>2</td>\n",
              "      <td>24</td>\n",
              "      <td>440</td>\n",
              "      <td>0</td>\n",
              "      <td>528</td>\n",
              "      <td>0</td>\n",
              "      <td>210</td>\n",
              "      <td>46</td>\n",
              "      <td>37</td>\n",
              "      <td>8</td>\n",
              "    </tr>\n",
              "  </tbody>\n",
              "</table>\n",
              "<p>5250 rows × 13 columns</p>\n",
              "</div>\n",
              "      <button class=\"colab-df-convert\" onclick=\"convertToInteractive('df-b7369e85-705b-432d-ad58-cdd2c344d976')\"\n",
              "              title=\"Convert this dataframe to an interactive table.\"\n",
              "              style=\"display:none;\">\n",
              "        \n",
              "  <svg xmlns=\"http://www.w3.org/2000/svg\" height=\"24px\"viewBox=\"0 0 24 24\"\n",
              "       width=\"24px\">\n",
              "    <path d=\"M0 0h24v24H0V0z\" fill=\"none\"/>\n",
              "    <path d=\"M18.56 5.44l.94 2.06.94-2.06 2.06-.94-2.06-.94-.94-2.06-.94 2.06-2.06.94zm-11 1L8.5 8.5l.94-2.06 2.06-.94-2.06-.94L8.5 2.5l-.94 2.06-2.06.94zm10 10l.94 2.06.94-2.06 2.06-.94-2.06-.94-.94-2.06-.94 2.06-2.06.94z\"/><path d=\"M17.41 7.96l-1.37-1.37c-.4-.4-.92-.59-1.43-.59-.52 0-1.04.2-1.43.59L10.3 9.45l-7.72 7.72c-.78.78-.78 2.05 0 2.83L4 21.41c.39.39.9.59 1.41.59.51 0 1.02-.2 1.41-.59l7.78-7.78 2.81-2.81c.8-.78.8-2.07 0-2.86zM5.41 20L4 18.59l7.72-7.72 1.47 1.35L5.41 20z\"/>\n",
              "  </svg>\n",
              "      </button>\n",
              "      \n",
              "  <style>\n",
              "    .colab-df-container {\n",
              "      display:flex;\n",
              "      flex-wrap:wrap;\n",
              "      gap: 12px;\n",
              "    }\n",
              "\n",
              "    .colab-df-convert {\n",
              "      background-color: #E8F0FE;\n",
              "      border: none;\n",
              "      border-radius: 50%;\n",
              "      cursor: pointer;\n",
              "      display: none;\n",
              "      fill: #1967D2;\n",
              "      height: 32px;\n",
              "      padding: 0 0 0 0;\n",
              "      width: 32px;\n",
              "    }\n",
              "\n",
              "    .colab-df-convert:hover {\n",
              "      background-color: #E2EBFA;\n",
              "      box-shadow: 0px 1px 2px rgba(60, 64, 67, 0.3), 0px 1px 3px 1px rgba(60, 64, 67, 0.15);\n",
              "      fill: #174EA6;\n",
              "    }\n",
              "\n",
              "    [theme=dark] .colab-df-convert {\n",
              "      background-color: #3B4455;\n",
              "      fill: #D2E3FC;\n",
              "    }\n",
              "\n",
              "    [theme=dark] .colab-df-convert:hover {\n",
              "      background-color: #434B5C;\n",
              "      box-shadow: 0px 1px 3px 1px rgba(0, 0, 0, 0.15);\n",
              "      filter: drop-shadow(0px 1px 2px rgba(0, 0, 0, 0.3));\n",
              "      fill: #FFFFFF;\n",
              "    }\n",
              "  </style>\n",
              "\n",
              "      <script>\n",
              "        const buttonEl =\n",
              "          document.querySelector('#df-b7369e85-705b-432d-ad58-cdd2c344d976 button.colab-df-convert');\n",
              "        buttonEl.style.display =\n",
              "          google.colab.kernel.accessAllowed ? 'block' : 'none';\n",
              "\n",
              "        async function convertToInteractive(key) {\n",
              "          const element = document.querySelector('#df-b7369e85-705b-432d-ad58-cdd2c344d976');\n",
              "          const dataTable =\n",
              "            await google.colab.kernel.invokeFunction('convertToInteractive',\n",
              "                                                     [key], {});\n",
              "          if (!dataTable) return;\n",
              "\n",
              "          const docLinkHtml = 'Like what you see? Visit the ' +\n",
              "            '<a target=\"_blank\" href=https://colab.research.google.com/notebooks/data_table.ipynb>data table notebook</a>'\n",
              "            + ' to learn more about interactive tables.';\n",
              "          element.innerHTML = '';\n",
              "          dataTable['output_type'] = 'display_data';\n",
              "          await google.colab.output.renderOutput(dataTable, element);\n",
              "          const docLink = document.createElement('div');\n",
              "          docLink.innerHTML = docLinkHtml;\n",
              "          element.appendChild(docLink);\n",
              "        }\n",
              "      </script>\n",
              "    </div>\n",
              "  </div>\n",
              "  "
            ]
          },
          "metadata": {},
          "execution_count": 4
        }
      ]
    },
    {
      "cell_type": "code",
      "execution_count": 5,
      "metadata": {
        "colab": {
          "base_uri": "https://localhost:8080/",
          "height": 270
        },
        "id": "H-KKqsWB3X24",
        "outputId": "aef93778-82b5-424c-fdd4-be0569f3f252"
      },
      "outputs": [
        {
          "output_type": "execute_result",
          "data": {
            "text/plain": [
              "   name  distance  stellar_magnitude  planet_type  discovery_year  \\\n",
              "0     0       267                 41            0              14   \n",
              "1     1       346                 48            0              16   \n",
              "2     2       219                 57            0              15   \n",
              "3     3        48                171            0               9   \n",
              "4     4        58                127            0               3   \n",
              "\n",
              "   mass_multiplier  mass_wrt  radius_multiplier  radius_wrt  orbital_radius  \\\n",
              "0             1524         1                555           1            2363   \n",
              "1             1441         1                563           1            2400   \n",
              "2              882         1                605           1            2261   \n",
              "3             1173         1                584           1            2544   \n",
              "4              561         1                637           1            2415   \n",
              "\n",
              "   orbital_period  eccentricity  detection_method  \n",
              "0             919            90                 8  \n",
              "1            1026            42                 8  \n",
              "2             805             3                 8  \n",
              "3            1060           119                 8  \n",
              "4            1034           155                 8  "
            ],
            "text/html": [
              "\n",
              "  <div id=\"df-4d8fec27-f6f6-4e21-a5a8-02914a0186ba\">\n",
              "    <div class=\"colab-df-container\">\n",
              "      <div>\n",
              "<style scoped>\n",
              "    .dataframe tbody tr th:only-of-type {\n",
              "        vertical-align: middle;\n",
              "    }\n",
              "\n",
              "    .dataframe tbody tr th {\n",
              "        vertical-align: top;\n",
              "    }\n",
              "\n",
              "    .dataframe thead th {\n",
              "        text-align: right;\n",
              "    }\n",
              "</style>\n",
              "<table border=\"1\" class=\"dataframe\">\n",
              "  <thead>\n",
              "    <tr style=\"text-align: right;\">\n",
              "      <th></th>\n",
              "      <th>name</th>\n",
              "      <th>distance</th>\n",
              "      <th>stellar_magnitude</th>\n",
              "      <th>planet_type</th>\n",
              "      <th>discovery_year</th>\n",
              "      <th>mass_multiplier</th>\n",
              "      <th>mass_wrt</th>\n",
              "      <th>radius_multiplier</th>\n",
              "      <th>radius_wrt</th>\n",
              "      <th>orbital_radius</th>\n",
              "      <th>orbital_period</th>\n",
              "      <th>eccentricity</th>\n",
              "      <th>detection_method</th>\n",
              "    </tr>\n",
              "  </thead>\n",
              "  <tbody>\n",
              "    <tr>\n",
              "      <th>0</th>\n",
              "      <td>0</td>\n",
              "      <td>267</td>\n",
              "      <td>41</td>\n",
              "      <td>0</td>\n",
              "      <td>14</td>\n",
              "      <td>1524</td>\n",
              "      <td>1</td>\n",
              "      <td>555</td>\n",
              "      <td>1</td>\n",
              "      <td>2363</td>\n",
              "      <td>919</td>\n",
              "      <td>90</td>\n",
              "      <td>8</td>\n",
              "    </tr>\n",
              "    <tr>\n",
              "      <th>1</th>\n",
              "      <td>1</td>\n",
              "      <td>346</td>\n",
              "      <td>48</td>\n",
              "      <td>0</td>\n",
              "      <td>16</td>\n",
              "      <td>1441</td>\n",
              "      <td>1</td>\n",
              "      <td>563</td>\n",
              "      <td>1</td>\n",
              "      <td>2400</td>\n",
              "      <td>1026</td>\n",
              "      <td>42</td>\n",
              "      <td>8</td>\n",
              "    </tr>\n",
              "    <tr>\n",
              "      <th>2</th>\n",
              "      <td>2</td>\n",
              "      <td>219</td>\n",
              "      <td>57</td>\n",
              "      <td>0</td>\n",
              "      <td>15</td>\n",
              "      <td>882</td>\n",
              "      <td>1</td>\n",
              "      <td>605</td>\n",
              "      <td>1</td>\n",
              "      <td>2261</td>\n",
              "      <td>805</td>\n",
              "      <td>3</td>\n",
              "      <td>8</td>\n",
              "    </tr>\n",
              "    <tr>\n",
              "      <th>3</th>\n",
              "      <td>3</td>\n",
              "      <td>48</td>\n",
              "      <td>171</td>\n",
              "      <td>0</td>\n",
              "      <td>9</td>\n",
              "      <td>1173</td>\n",
              "      <td>1</td>\n",
              "      <td>584</td>\n",
              "      <td>1</td>\n",
              "      <td>2544</td>\n",
              "      <td>1060</td>\n",
              "      <td>119</td>\n",
              "      <td>8</td>\n",
              "    </tr>\n",
              "    <tr>\n",
              "      <th>4</th>\n",
              "      <td>4</td>\n",
              "      <td>58</td>\n",
              "      <td>127</td>\n",
              "      <td>0</td>\n",
              "      <td>3</td>\n",
              "      <td>561</td>\n",
              "      <td>1</td>\n",
              "      <td>637</td>\n",
              "      <td>1</td>\n",
              "      <td>2415</td>\n",
              "      <td>1034</td>\n",
              "      <td>155</td>\n",
              "      <td>8</td>\n",
              "    </tr>\n",
              "  </tbody>\n",
              "</table>\n",
              "</div>\n",
              "      <button class=\"colab-df-convert\" onclick=\"convertToInteractive('df-4d8fec27-f6f6-4e21-a5a8-02914a0186ba')\"\n",
              "              title=\"Convert this dataframe to an interactive table.\"\n",
              "              style=\"display:none;\">\n",
              "        \n",
              "  <svg xmlns=\"http://www.w3.org/2000/svg\" height=\"24px\"viewBox=\"0 0 24 24\"\n",
              "       width=\"24px\">\n",
              "    <path d=\"M0 0h24v24H0V0z\" fill=\"none\"/>\n",
              "    <path d=\"M18.56 5.44l.94 2.06.94-2.06 2.06-.94-2.06-.94-.94-2.06-.94 2.06-2.06.94zm-11 1L8.5 8.5l.94-2.06 2.06-.94-2.06-.94L8.5 2.5l-.94 2.06-2.06.94zm10 10l.94 2.06.94-2.06 2.06-.94-2.06-.94-.94-2.06-.94 2.06-2.06.94z\"/><path d=\"M17.41 7.96l-1.37-1.37c-.4-.4-.92-.59-1.43-.59-.52 0-1.04.2-1.43.59L10.3 9.45l-7.72 7.72c-.78.78-.78 2.05 0 2.83L4 21.41c.39.39.9.59 1.41.59.51 0 1.02-.2 1.41-.59l7.78-7.78 2.81-2.81c.8-.78.8-2.07 0-2.86zM5.41 20L4 18.59l7.72-7.72 1.47 1.35L5.41 20z\"/>\n",
              "  </svg>\n",
              "      </button>\n",
              "      \n",
              "  <style>\n",
              "    .colab-df-container {\n",
              "      display:flex;\n",
              "      flex-wrap:wrap;\n",
              "      gap: 12px;\n",
              "    }\n",
              "\n",
              "    .colab-df-convert {\n",
              "      background-color: #E8F0FE;\n",
              "      border: none;\n",
              "      border-radius: 50%;\n",
              "      cursor: pointer;\n",
              "      display: none;\n",
              "      fill: #1967D2;\n",
              "      height: 32px;\n",
              "      padding: 0 0 0 0;\n",
              "      width: 32px;\n",
              "    }\n",
              "\n",
              "    .colab-df-convert:hover {\n",
              "      background-color: #E2EBFA;\n",
              "      box-shadow: 0px 1px 2px rgba(60, 64, 67, 0.3), 0px 1px 3px 1px rgba(60, 64, 67, 0.15);\n",
              "      fill: #174EA6;\n",
              "    }\n",
              "\n",
              "    [theme=dark] .colab-df-convert {\n",
              "      background-color: #3B4455;\n",
              "      fill: #D2E3FC;\n",
              "    }\n",
              "\n",
              "    [theme=dark] .colab-df-convert:hover {\n",
              "      background-color: #434B5C;\n",
              "      box-shadow: 0px 1px 3px 1px rgba(0, 0, 0, 0.15);\n",
              "      filter: drop-shadow(0px 1px 2px rgba(0, 0, 0, 0.3));\n",
              "      fill: #FFFFFF;\n",
              "    }\n",
              "  </style>\n",
              "\n",
              "      <script>\n",
              "        const buttonEl =\n",
              "          document.querySelector('#df-4d8fec27-f6f6-4e21-a5a8-02914a0186ba button.colab-df-convert');\n",
              "        buttonEl.style.display =\n",
              "          google.colab.kernel.accessAllowed ? 'block' : 'none';\n",
              "\n",
              "        async function convertToInteractive(key) {\n",
              "          const element = document.querySelector('#df-4d8fec27-f6f6-4e21-a5a8-02914a0186ba');\n",
              "          const dataTable =\n",
              "            await google.colab.kernel.invokeFunction('convertToInteractive',\n",
              "                                                     [key], {});\n",
              "          if (!dataTable) return;\n",
              "\n",
              "          const docLinkHtml = 'Like what you see? Visit the ' +\n",
              "            '<a target=\"_blank\" href=https://colab.research.google.com/notebooks/data_table.ipynb>data table notebook</a>'\n",
              "            + ' to learn more about interactive tables.';\n",
              "          element.innerHTML = '';\n",
              "          dataTable['output_type'] = 'display_data';\n",
              "          await google.colab.output.renderOutput(dataTable, element);\n",
              "          const docLink = document.createElement('div');\n",
              "          docLink.innerHTML = docLinkHtml;\n",
              "          element.appendChild(docLink);\n",
              "        }\n",
              "      </script>\n",
              "    </div>\n",
              "  </div>\n",
              "  "
            ]
          },
          "metadata": {},
          "execution_count": 5
        }
      ],
      "source": [
        "df.head()"
      ]
    },
    {
      "cell_type": "code",
      "execution_count": 6,
      "metadata": {
        "colab": {
          "base_uri": "https://localhost:8080/",
          "height": 270
        },
        "id": "yN5JxDdn3aYz",
        "outputId": "280ae61c-1471-4be9-e9cc-21f35b2060c8"
      },
      "outputs": [
        {
          "output_type": "execute_result",
          "data": {
            "text/plain": [
              "      name  distance  stellar_magnitude  planet_type  discovery_year  \\\n",
              "5245  5240       583                601            0              26   \n",
              "5246  5242       307                653            0              28   \n",
              "5247  5243         3                919            3              24   \n",
              "5248  5244         3                919            2              24   \n",
              "5249  5245         3                919            2              24   \n",
              "\n",
              "      mass_multiplier  mass_wrt  radius_multiplier  radius_wrt  \\\n",
              "5245              326         1                735           1   \n",
              "5246             1020         1                599           1   \n",
              "5247              322         0                461           0   \n",
              "5248              448         0                539           0   \n",
              "5249              440         0                528           0   \n",
              "\n",
              "      orbital_radius  orbital_period  eccentricity  detection_method  \n",
              "5245             471              28            19                 9  \n",
              "5246            2797            1243             3                 1  \n",
              "5247              68              19            29                 8  \n",
              "5248             128              30             3                 8  \n",
              "5249             210              46            37                 8  "
            ],
            "text/html": [
              "\n",
              "  <div id=\"df-e551436d-8722-49f7-aa76-546585abe3a4\">\n",
              "    <div class=\"colab-df-container\">\n",
              "      <div>\n",
              "<style scoped>\n",
              "    .dataframe tbody tr th:only-of-type {\n",
              "        vertical-align: middle;\n",
              "    }\n",
              "\n",
              "    .dataframe tbody tr th {\n",
              "        vertical-align: top;\n",
              "    }\n",
              "\n",
              "    .dataframe thead th {\n",
              "        text-align: right;\n",
              "    }\n",
              "</style>\n",
              "<table border=\"1\" class=\"dataframe\">\n",
              "  <thead>\n",
              "    <tr style=\"text-align: right;\">\n",
              "      <th></th>\n",
              "      <th>name</th>\n",
              "      <th>distance</th>\n",
              "      <th>stellar_magnitude</th>\n",
              "      <th>planet_type</th>\n",
              "      <th>discovery_year</th>\n",
              "      <th>mass_multiplier</th>\n",
              "      <th>mass_wrt</th>\n",
              "      <th>radius_multiplier</th>\n",
              "      <th>radius_wrt</th>\n",
              "      <th>orbital_radius</th>\n",
              "      <th>orbital_period</th>\n",
              "      <th>eccentricity</th>\n",
              "      <th>detection_method</th>\n",
              "    </tr>\n",
              "  </thead>\n",
              "  <tbody>\n",
              "    <tr>\n",
              "      <th>5245</th>\n",
              "      <td>5240</td>\n",
              "      <td>583</td>\n",
              "      <td>601</td>\n",
              "      <td>0</td>\n",
              "      <td>26</td>\n",
              "      <td>326</td>\n",
              "      <td>1</td>\n",
              "      <td>735</td>\n",
              "      <td>1</td>\n",
              "      <td>471</td>\n",
              "      <td>28</td>\n",
              "      <td>19</td>\n",
              "      <td>9</td>\n",
              "    </tr>\n",
              "    <tr>\n",
              "      <th>5246</th>\n",
              "      <td>5242</td>\n",
              "      <td>307</td>\n",
              "      <td>653</td>\n",
              "      <td>0</td>\n",
              "      <td>28</td>\n",
              "      <td>1020</td>\n",
              "      <td>1</td>\n",
              "      <td>599</td>\n",
              "      <td>1</td>\n",
              "      <td>2797</td>\n",
              "      <td>1243</td>\n",
              "      <td>3</td>\n",
              "      <td>1</td>\n",
              "    </tr>\n",
              "    <tr>\n",
              "      <th>5247</th>\n",
              "      <td>5243</td>\n",
              "      <td>3</td>\n",
              "      <td>919</td>\n",
              "      <td>3</td>\n",
              "      <td>24</td>\n",
              "      <td>322</td>\n",
              "      <td>0</td>\n",
              "      <td>461</td>\n",
              "      <td>0</td>\n",
              "      <td>68</td>\n",
              "      <td>19</td>\n",
              "      <td>29</td>\n",
              "      <td>8</td>\n",
              "    </tr>\n",
              "    <tr>\n",
              "      <th>5248</th>\n",
              "      <td>5244</td>\n",
              "      <td>3</td>\n",
              "      <td>919</td>\n",
              "      <td>2</td>\n",
              "      <td>24</td>\n",
              "      <td>448</td>\n",
              "      <td>0</td>\n",
              "      <td>539</td>\n",
              "      <td>0</td>\n",
              "      <td>128</td>\n",
              "      <td>30</td>\n",
              "      <td>3</td>\n",
              "      <td>8</td>\n",
              "    </tr>\n",
              "    <tr>\n",
              "      <th>5249</th>\n",
              "      <td>5245</td>\n",
              "      <td>3</td>\n",
              "      <td>919</td>\n",
              "      <td>2</td>\n",
              "      <td>24</td>\n",
              "      <td>440</td>\n",
              "      <td>0</td>\n",
              "      <td>528</td>\n",
              "      <td>0</td>\n",
              "      <td>210</td>\n",
              "      <td>46</td>\n",
              "      <td>37</td>\n",
              "      <td>8</td>\n",
              "    </tr>\n",
              "  </tbody>\n",
              "</table>\n",
              "</div>\n",
              "      <button class=\"colab-df-convert\" onclick=\"convertToInteractive('df-e551436d-8722-49f7-aa76-546585abe3a4')\"\n",
              "              title=\"Convert this dataframe to an interactive table.\"\n",
              "              style=\"display:none;\">\n",
              "        \n",
              "  <svg xmlns=\"http://www.w3.org/2000/svg\" height=\"24px\"viewBox=\"0 0 24 24\"\n",
              "       width=\"24px\">\n",
              "    <path d=\"M0 0h24v24H0V0z\" fill=\"none\"/>\n",
              "    <path d=\"M18.56 5.44l.94 2.06.94-2.06 2.06-.94-2.06-.94-.94-2.06-.94 2.06-2.06.94zm-11 1L8.5 8.5l.94-2.06 2.06-.94-2.06-.94L8.5 2.5l-.94 2.06-2.06.94zm10 10l.94 2.06.94-2.06 2.06-.94-2.06-.94-.94-2.06-.94 2.06-2.06.94z\"/><path d=\"M17.41 7.96l-1.37-1.37c-.4-.4-.92-.59-1.43-.59-.52 0-1.04.2-1.43.59L10.3 9.45l-7.72 7.72c-.78.78-.78 2.05 0 2.83L4 21.41c.39.39.9.59 1.41.59.51 0 1.02-.2 1.41-.59l7.78-7.78 2.81-2.81c.8-.78.8-2.07 0-2.86zM5.41 20L4 18.59l7.72-7.72 1.47 1.35L5.41 20z\"/>\n",
              "  </svg>\n",
              "      </button>\n",
              "      \n",
              "  <style>\n",
              "    .colab-df-container {\n",
              "      display:flex;\n",
              "      flex-wrap:wrap;\n",
              "      gap: 12px;\n",
              "    }\n",
              "\n",
              "    .colab-df-convert {\n",
              "      background-color: #E8F0FE;\n",
              "      border: none;\n",
              "      border-radius: 50%;\n",
              "      cursor: pointer;\n",
              "      display: none;\n",
              "      fill: #1967D2;\n",
              "      height: 32px;\n",
              "      padding: 0 0 0 0;\n",
              "      width: 32px;\n",
              "    }\n",
              "\n",
              "    .colab-df-convert:hover {\n",
              "      background-color: #E2EBFA;\n",
              "      box-shadow: 0px 1px 2px rgba(60, 64, 67, 0.3), 0px 1px 3px 1px rgba(60, 64, 67, 0.15);\n",
              "      fill: #174EA6;\n",
              "    }\n",
              "\n",
              "    [theme=dark] .colab-df-convert {\n",
              "      background-color: #3B4455;\n",
              "      fill: #D2E3FC;\n",
              "    }\n",
              "\n",
              "    [theme=dark] .colab-df-convert:hover {\n",
              "      background-color: #434B5C;\n",
              "      box-shadow: 0px 1px 3px 1px rgba(0, 0, 0, 0.15);\n",
              "      filter: drop-shadow(0px 1px 2px rgba(0, 0, 0, 0.3));\n",
              "      fill: #FFFFFF;\n",
              "    }\n",
              "  </style>\n",
              "\n",
              "      <script>\n",
              "        const buttonEl =\n",
              "          document.querySelector('#df-e551436d-8722-49f7-aa76-546585abe3a4 button.colab-df-convert');\n",
              "        buttonEl.style.display =\n",
              "          google.colab.kernel.accessAllowed ? 'block' : 'none';\n",
              "\n",
              "        async function convertToInteractive(key) {\n",
              "          const element = document.querySelector('#df-e551436d-8722-49f7-aa76-546585abe3a4');\n",
              "          const dataTable =\n",
              "            await google.colab.kernel.invokeFunction('convertToInteractive',\n",
              "                                                     [key], {});\n",
              "          if (!dataTable) return;\n",
              "\n",
              "          const docLinkHtml = 'Like what you see? Visit the ' +\n",
              "            '<a target=\"_blank\" href=https://colab.research.google.com/notebooks/data_table.ipynb>data table notebook</a>'\n",
              "            + ' to learn more about interactive tables.';\n",
              "          element.innerHTML = '';\n",
              "          dataTable['output_type'] = 'display_data';\n",
              "          await google.colab.output.renderOutput(dataTable, element);\n",
              "          const docLink = document.createElement('div');\n",
              "          docLink.innerHTML = docLinkHtml;\n",
              "          element.appendChild(docLink);\n",
              "        }\n",
              "      </script>\n",
              "    </div>\n",
              "  </div>\n",
              "  "
            ]
          },
          "metadata": {},
          "execution_count": 6
        }
      ],
      "source": [
        "df.tail()"
      ]
    },
    {
      "cell_type": "code",
      "execution_count": 7,
      "metadata": {
        "colab": {
          "base_uri": "https://localhost:8080/"
        },
        "id": "bQoA8lfm3dQh",
        "outputId": "5910f91a-972e-4b21-c562-59b9237bd18b"
      },
      "outputs": [
        {
          "output_type": "stream",
          "name": "stdout",
          "text": [
            "<class 'pandas.core.frame.DataFrame'>\n",
            "RangeIndex: 5250 entries, 0 to 5249\n",
            "Data columns (total 13 columns):\n",
            " #   Column             Non-Null Count  Dtype\n",
            "---  ------             --------------  -----\n",
            " 0   name               5250 non-null   int64\n",
            " 1   distance           5250 non-null   int64\n",
            " 2   stellar_magnitude  5250 non-null   int64\n",
            " 3   planet_type        5250 non-null   int64\n",
            " 4   discovery_year     5250 non-null   int64\n",
            " 5   mass_multiplier    5250 non-null   int64\n",
            " 6   mass_wrt           5250 non-null   int64\n",
            " 7   radius_multiplier  5250 non-null   int64\n",
            " 8   radius_wrt         5250 non-null   int64\n",
            " 9   orbital_radius     5250 non-null   int64\n",
            " 10  orbital_period     5250 non-null   int64\n",
            " 11  eccentricity       5250 non-null   int64\n",
            " 12  detection_method   5250 non-null   int64\n",
            "dtypes: int64(13)\n",
            "memory usage: 533.3 KB\n"
          ]
        }
      ],
      "source": [
        "df.info()"
      ]
    },
    {
      "cell_type": "code",
      "execution_count": 8,
      "metadata": {
        "colab": {
          "base_uri": "https://localhost:8080/"
        },
        "id": "E2Akk26F3gvM",
        "outputId": "d1c41716-6d6f-4e0f-b964-37efe38d662e"
      },
      "outputs": [
        {
          "output_type": "execute_result",
          "data": {
            "text/plain": [
              "(5250, 13)"
            ]
          },
          "metadata": {},
          "execution_count": 8
        }
      ],
      "source": [
        "df.shape"
      ]
    },
    {
      "cell_type": "code",
      "execution_count": 9,
      "metadata": {
        "colab": {
          "base_uri": "https://localhost:8080/",
          "height": 364
        },
        "id": "qBswliU43kC1",
        "outputId": "ded2e923-5fac-4816-adb6-3f482c6b695b"
      },
      "outputs": [
        {
          "output_type": "execute_result",
          "data": {
            "text/plain": [
              "              name     distance  stellar_magnitude  planet_type  \\\n",
              "count  5250.000000  5250.000000        5250.000000  5250.000000   \n",
              "mean   2624.500000  1046.770286        1466.484381     1.070476   \n",
              "std    1515.688787   753.723254         857.989969     0.875561   \n",
              "min       0.000000     0.000000           0.000000     0.000000   \n",
              "25%    1312.250000   333.000000         692.250000     0.000000   \n",
              "50%    2624.500000   970.000000        1493.500000     1.000000   \n",
              "75%    3936.750000  1668.750000        2211.750000     2.000000   \n",
              "max    5249.000000  2542.000000        2875.000000     4.000000   \n",
              "\n",
              "       discovery_year  mass_multiplier     mass_wrt  radius_multiplier  \\\n",
              "count     5250.000000      5250.000000  5250.000000        5250.000000   \n",
              "mean        22.732571       856.944571     0.321333         500.579810   \n",
              "std          4.305281       414.470867     0.476323         327.215254   \n",
              "min          0.000000         0.000000     0.000000           0.000000   \n",
              "25%         21.000000       565.000000     0.000000         125.000000   \n",
              "50%         23.000000       840.500000     0.000000         586.500000   \n",
              "75%         25.000000      1169.000000     1.000000         753.750000   \n",
              "max         30.000000      1721.000000     2.000000        1032.000000   \n",
              "\n",
              "        radius_wrt  orbital_radius  orbital_period  eccentricity  \\\n",
              "count  5250.000000     5250.000000     5250.000000   5250.000000   \n",
              "mean      0.636952     1352.147429      316.259619     24.112952   \n",
              "std       0.487612      828.453990      375.402349     39.276060   \n",
              "min       0.000000        0.000000        0.000000      0.000000   \n",
              "25%       0.000000      661.000000       45.000000      3.000000   \n",
              "50%       1.000000     1208.500000      125.000000      3.000000   \n",
              "75%       1.000000     2058.750000      466.750000     29.000000   \n",
              "max       2.000000     2827.000000     1277.000000    177.000000   \n",
              "\n",
              "       detection_method  \n",
              "count       5250.000000  \n",
              "mean           8.532000  \n",
              "std            1.291643  \n",
              "min            0.000000  \n",
              "25%            9.000000  \n",
              "50%            9.000000  \n",
              "75%            9.000000  \n",
              "max           10.000000  "
            ],
            "text/html": [
              "\n",
              "  <div id=\"df-967ecfb5-288d-416e-bcf9-e287cf735358\">\n",
              "    <div class=\"colab-df-container\">\n",
              "      <div>\n",
              "<style scoped>\n",
              "    .dataframe tbody tr th:only-of-type {\n",
              "        vertical-align: middle;\n",
              "    }\n",
              "\n",
              "    .dataframe tbody tr th {\n",
              "        vertical-align: top;\n",
              "    }\n",
              "\n",
              "    .dataframe thead th {\n",
              "        text-align: right;\n",
              "    }\n",
              "</style>\n",
              "<table border=\"1\" class=\"dataframe\">\n",
              "  <thead>\n",
              "    <tr style=\"text-align: right;\">\n",
              "      <th></th>\n",
              "      <th>name</th>\n",
              "      <th>distance</th>\n",
              "      <th>stellar_magnitude</th>\n",
              "      <th>planet_type</th>\n",
              "      <th>discovery_year</th>\n",
              "      <th>mass_multiplier</th>\n",
              "      <th>mass_wrt</th>\n",
              "      <th>radius_multiplier</th>\n",
              "      <th>radius_wrt</th>\n",
              "      <th>orbital_radius</th>\n",
              "      <th>orbital_period</th>\n",
              "      <th>eccentricity</th>\n",
              "      <th>detection_method</th>\n",
              "    </tr>\n",
              "  </thead>\n",
              "  <tbody>\n",
              "    <tr>\n",
              "      <th>count</th>\n",
              "      <td>5250.000000</td>\n",
              "      <td>5250.000000</td>\n",
              "      <td>5250.000000</td>\n",
              "      <td>5250.000000</td>\n",
              "      <td>5250.000000</td>\n",
              "      <td>5250.000000</td>\n",
              "      <td>5250.000000</td>\n",
              "      <td>5250.000000</td>\n",
              "      <td>5250.000000</td>\n",
              "      <td>5250.000000</td>\n",
              "      <td>5250.000000</td>\n",
              "      <td>5250.000000</td>\n",
              "      <td>5250.000000</td>\n",
              "    </tr>\n",
              "    <tr>\n",
              "      <th>mean</th>\n",
              "      <td>2624.500000</td>\n",
              "      <td>1046.770286</td>\n",
              "      <td>1466.484381</td>\n",
              "      <td>1.070476</td>\n",
              "      <td>22.732571</td>\n",
              "      <td>856.944571</td>\n",
              "      <td>0.321333</td>\n",
              "      <td>500.579810</td>\n",
              "      <td>0.636952</td>\n",
              "      <td>1352.147429</td>\n",
              "      <td>316.259619</td>\n",
              "      <td>24.112952</td>\n",
              "      <td>8.532000</td>\n",
              "    </tr>\n",
              "    <tr>\n",
              "      <th>std</th>\n",
              "      <td>1515.688787</td>\n",
              "      <td>753.723254</td>\n",
              "      <td>857.989969</td>\n",
              "      <td>0.875561</td>\n",
              "      <td>4.305281</td>\n",
              "      <td>414.470867</td>\n",
              "      <td>0.476323</td>\n",
              "      <td>327.215254</td>\n",
              "      <td>0.487612</td>\n",
              "      <td>828.453990</td>\n",
              "      <td>375.402349</td>\n",
              "      <td>39.276060</td>\n",
              "      <td>1.291643</td>\n",
              "    </tr>\n",
              "    <tr>\n",
              "      <th>min</th>\n",
              "      <td>0.000000</td>\n",
              "      <td>0.000000</td>\n",
              "      <td>0.000000</td>\n",
              "      <td>0.000000</td>\n",
              "      <td>0.000000</td>\n",
              "      <td>0.000000</td>\n",
              "      <td>0.000000</td>\n",
              "      <td>0.000000</td>\n",
              "      <td>0.000000</td>\n",
              "      <td>0.000000</td>\n",
              "      <td>0.000000</td>\n",
              "      <td>0.000000</td>\n",
              "      <td>0.000000</td>\n",
              "    </tr>\n",
              "    <tr>\n",
              "      <th>25%</th>\n",
              "      <td>1312.250000</td>\n",
              "      <td>333.000000</td>\n",
              "      <td>692.250000</td>\n",
              "      <td>0.000000</td>\n",
              "      <td>21.000000</td>\n",
              "      <td>565.000000</td>\n",
              "      <td>0.000000</td>\n",
              "      <td>125.000000</td>\n",
              "      <td>0.000000</td>\n",
              "      <td>661.000000</td>\n",
              "      <td>45.000000</td>\n",
              "      <td>3.000000</td>\n",
              "      <td>9.000000</td>\n",
              "    </tr>\n",
              "    <tr>\n",
              "      <th>50%</th>\n",
              "      <td>2624.500000</td>\n",
              "      <td>970.000000</td>\n",
              "      <td>1493.500000</td>\n",
              "      <td>1.000000</td>\n",
              "      <td>23.000000</td>\n",
              "      <td>840.500000</td>\n",
              "      <td>0.000000</td>\n",
              "      <td>586.500000</td>\n",
              "      <td>1.000000</td>\n",
              "      <td>1208.500000</td>\n",
              "      <td>125.000000</td>\n",
              "      <td>3.000000</td>\n",
              "      <td>9.000000</td>\n",
              "    </tr>\n",
              "    <tr>\n",
              "      <th>75%</th>\n",
              "      <td>3936.750000</td>\n",
              "      <td>1668.750000</td>\n",
              "      <td>2211.750000</td>\n",
              "      <td>2.000000</td>\n",
              "      <td>25.000000</td>\n",
              "      <td>1169.000000</td>\n",
              "      <td>1.000000</td>\n",
              "      <td>753.750000</td>\n",
              "      <td>1.000000</td>\n",
              "      <td>2058.750000</td>\n",
              "      <td>466.750000</td>\n",
              "      <td>29.000000</td>\n",
              "      <td>9.000000</td>\n",
              "    </tr>\n",
              "    <tr>\n",
              "      <th>max</th>\n",
              "      <td>5249.000000</td>\n",
              "      <td>2542.000000</td>\n",
              "      <td>2875.000000</td>\n",
              "      <td>4.000000</td>\n",
              "      <td>30.000000</td>\n",
              "      <td>1721.000000</td>\n",
              "      <td>2.000000</td>\n",
              "      <td>1032.000000</td>\n",
              "      <td>2.000000</td>\n",
              "      <td>2827.000000</td>\n",
              "      <td>1277.000000</td>\n",
              "      <td>177.000000</td>\n",
              "      <td>10.000000</td>\n",
              "    </tr>\n",
              "  </tbody>\n",
              "</table>\n",
              "</div>\n",
              "      <button class=\"colab-df-convert\" onclick=\"convertToInteractive('df-967ecfb5-288d-416e-bcf9-e287cf735358')\"\n",
              "              title=\"Convert this dataframe to an interactive table.\"\n",
              "              style=\"display:none;\">\n",
              "        \n",
              "  <svg xmlns=\"http://www.w3.org/2000/svg\" height=\"24px\"viewBox=\"0 0 24 24\"\n",
              "       width=\"24px\">\n",
              "    <path d=\"M0 0h24v24H0V0z\" fill=\"none\"/>\n",
              "    <path d=\"M18.56 5.44l.94 2.06.94-2.06 2.06-.94-2.06-.94-.94-2.06-.94 2.06-2.06.94zm-11 1L8.5 8.5l.94-2.06 2.06-.94-2.06-.94L8.5 2.5l-.94 2.06-2.06.94zm10 10l.94 2.06.94-2.06 2.06-.94-2.06-.94-.94-2.06-.94 2.06-2.06.94z\"/><path d=\"M17.41 7.96l-1.37-1.37c-.4-.4-.92-.59-1.43-.59-.52 0-1.04.2-1.43.59L10.3 9.45l-7.72 7.72c-.78.78-.78 2.05 0 2.83L4 21.41c.39.39.9.59 1.41.59.51 0 1.02-.2 1.41-.59l7.78-7.78 2.81-2.81c.8-.78.8-2.07 0-2.86zM5.41 20L4 18.59l7.72-7.72 1.47 1.35L5.41 20z\"/>\n",
              "  </svg>\n",
              "      </button>\n",
              "      \n",
              "  <style>\n",
              "    .colab-df-container {\n",
              "      display:flex;\n",
              "      flex-wrap:wrap;\n",
              "      gap: 12px;\n",
              "    }\n",
              "\n",
              "    .colab-df-convert {\n",
              "      background-color: #E8F0FE;\n",
              "      border: none;\n",
              "      border-radius: 50%;\n",
              "      cursor: pointer;\n",
              "      display: none;\n",
              "      fill: #1967D2;\n",
              "      height: 32px;\n",
              "      padding: 0 0 0 0;\n",
              "      width: 32px;\n",
              "    }\n",
              "\n",
              "    .colab-df-convert:hover {\n",
              "      background-color: #E2EBFA;\n",
              "      box-shadow: 0px 1px 2px rgba(60, 64, 67, 0.3), 0px 1px 3px 1px rgba(60, 64, 67, 0.15);\n",
              "      fill: #174EA6;\n",
              "    }\n",
              "\n",
              "    [theme=dark] .colab-df-convert {\n",
              "      background-color: #3B4455;\n",
              "      fill: #D2E3FC;\n",
              "    }\n",
              "\n",
              "    [theme=dark] .colab-df-convert:hover {\n",
              "      background-color: #434B5C;\n",
              "      box-shadow: 0px 1px 3px 1px rgba(0, 0, 0, 0.15);\n",
              "      filter: drop-shadow(0px 1px 2px rgba(0, 0, 0, 0.3));\n",
              "      fill: #FFFFFF;\n",
              "    }\n",
              "  </style>\n",
              "\n",
              "      <script>\n",
              "        const buttonEl =\n",
              "          document.querySelector('#df-967ecfb5-288d-416e-bcf9-e287cf735358 button.colab-df-convert');\n",
              "        buttonEl.style.display =\n",
              "          google.colab.kernel.accessAllowed ? 'block' : 'none';\n",
              "\n",
              "        async function convertToInteractive(key) {\n",
              "          const element = document.querySelector('#df-967ecfb5-288d-416e-bcf9-e287cf735358');\n",
              "          const dataTable =\n",
              "            await google.colab.kernel.invokeFunction('convertToInteractive',\n",
              "                                                     [key], {});\n",
              "          if (!dataTable) return;\n",
              "\n",
              "          const docLinkHtml = 'Like what you see? Visit the ' +\n",
              "            '<a target=\"_blank\" href=https://colab.research.google.com/notebooks/data_table.ipynb>data table notebook</a>'\n",
              "            + ' to learn more about interactive tables.';\n",
              "          element.innerHTML = '';\n",
              "          dataTable['output_type'] = 'display_data';\n",
              "          await google.colab.output.renderOutput(dataTable, element);\n",
              "          const docLink = document.createElement('div');\n",
              "          docLink.innerHTML = docLinkHtml;\n",
              "          element.appendChild(docLink);\n",
              "        }\n",
              "      </script>\n",
              "    </div>\n",
              "  </div>\n",
              "  "
            ]
          },
          "metadata": {},
          "execution_count": 9
        }
      ],
      "source": [
        "df.describe()"
      ]
    },
    {
      "cell_type": "code",
      "execution_count": 10,
      "metadata": {
        "id": "Xq4YEeF33nwJ",
        "colab": {
          "base_uri": "https://localhost:8080/"
        },
        "outputId": "4d403133-3aca-4c52-c4d4-32ee87b2380c"
      },
      "outputs": [
        {
          "output_type": "execute_result",
          "data": {
            "text/plain": [
              "name                 5250\n",
              "distance             2543\n",
              "stellar_magnitude    2876\n",
              "planet_type             5\n",
              "discovery_year         31\n",
              "mass_multiplier      1722\n",
              "mass_wrt                3\n",
              "radius_multiplier    1033\n",
              "radius_wrt              3\n",
              "orbital_radius       2828\n",
              "orbital_period       1278\n",
              "eccentricity          178\n",
              "detection_method       11\n",
              "dtype: int64"
            ]
          },
          "metadata": {},
          "execution_count": 10
        }
      ],
      "source": [
        "df.nunique()"
      ]
    },
    {
      "cell_type": "code",
      "execution_count": 11,
      "metadata": {
        "colab": {
          "base_uri": "https://localhost:8080/"
        },
        "id": "sqQtFl5c3qZD",
        "outputId": "f8e7ae14-10ce-443d-cb42-5a3c0d8e63e8"
      },
      "outputs": [
        {
          "output_type": "execute_result",
          "data": {
            "text/plain": [
              "name                 0\n",
              "distance             0\n",
              "stellar_magnitude    0\n",
              "planet_type          0\n",
              "discovery_year       0\n",
              "mass_multiplier      0\n",
              "mass_wrt             0\n",
              "radius_multiplier    0\n",
              "radius_wrt           0\n",
              "orbital_radius       0\n",
              "orbital_period       0\n",
              "eccentricity         0\n",
              "detection_method     0\n",
              "dtype: int64"
            ]
          },
          "metadata": {},
          "execution_count": 11
        }
      ],
      "source": [
        "df.isnull().sum()"
      ]
    },
    {
      "cell_type": "code",
      "execution_count": 12,
      "metadata": {
        "id": "ThGSU7Tg3uGd",
        "colab": {
          "base_uri": "https://localhost:8080/",
          "height": 487
        },
        "outputId": "f7797a9d-80b6-44d8-eb4a-ce3c58d9b13d"
      },
      "outputs": [
        {
          "output_type": "execute_result",
          "data": {
            "text/plain": [
              "       name  distance  stellar_magnitude  planet_type  discovery_year  \\\n",
              "0     False     False              False        False           False   \n",
              "1     False     False              False        False           False   \n",
              "2     False     False              False        False           False   \n",
              "3     False     False              False        False           False   \n",
              "4     False     False              False        False           False   \n",
              "...     ...       ...                ...          ...             ...   \n",
              "5245  False     False              False        False           False   \n",
              "5246  False     False              False        False           False   \n",
              "5247  False     False              False        False           False   \n",
              "5248  False     False              False        False           False   \n",
              "5249  False     False              False        False           False   \n",
              "\n",
              "      mass_multiplier  mass_wrt  radius_multiplier  radius_wrt  \\\n",
              "0               False     False              False       False   \n",
              "1               False     False              False       False   \n",
              "2               False     False              False       False   \n",
              "3               False     False              False       False   \n",
              "4               False     False              False       False   \n",
              "...               ...       ...                ...         ...   \n",
              "5245            False     False              False       False   \n",
              "5246            False     False              False       False   \n",
              "5247            False     False              False       False   \n",
              "5248            False     False              False       False   \n",
              "5249            False     False              False       False   \n",
              "\n",
              "      orbital_radius  orbital_period  eccentricity  detection_method  \n",
              "0              False           False         False             False  \n",
              "1              False           False         False             False  \n",
              "2              False           False         False             False  \n",
              "3              False           False         False             False  \n",
              "4              False           False         False             False  \n",
              "...              ...             ...           ...               ...  \n",
              "5245           False           False         False             False  \n",
              "5246           False           False         False             False  \n",
              "5247           False           False         False             False  \n",
              "5248           False           False         False             False  \n",
              "5249           False           False         False             False  \n",
              "\n",
              "[5250 rows x 13 columns]"
            ],
            "text/html": [
              "\n",
              "  <div id=\"df-f8062459-3889-4ee8-bafb-6d74272a8d11\">\n",
              "    <div class=\"colab-df-container\">\n",
              "      <div>\n",
              "<style scoped>\n",
              "    .dataframe tbody tr th:only-of-type {\n",
              "        vertical-align: middle;\n",
              "    }\n",
              "\n",
              "    .dataframe tbody tr th {\n",
              "        vertical-align: top;\n",
              "    }\n",
              "\n",
              "    .dataframe thead th {\n",
              "        text-align: right;\n",
              "    }\n",
              "</style>\n",
              "<table border=\"1\" class=\"dataframe\">\n",
              "  <thead>\n",
              "    <tr style=\"text-align: right;\">\n",
              "      <th></th>\n",
              "      <th>name</th>\n",
              "      <th>distance</th>\n",
              "      <th>stellar_magnitude</th>\n",
              "      <th>planet_type</th>\n",
              "      <th>discovery_year</th>\n",
              "      <th>mass_multiplier</th>\n",
              "      <th>mass_wrt</th>\n",
              "      <th>radius_multiplier</th>\n",
              "      <th>radius_wrt</th>\n",
              "      <th>orbital_radius</th>\n",
              "      <th>orbital_period</th>\n",
              "      <th>eccentricity</th>\n",
              "      <th>detection_method</th>\n",
              "    </tr>\n",
              "  </thead>\n",
              "  <tbody>\n",
              "    <tr>\n",
              "      <th>0</th>\n",
              "      <td>False</td>\n",
              "      <td>False</td>\n",
              "      <td>False</td>\n",
              "      <td>False</td>\n",
              "      <td>False</td>\n",
              "      <td>False</td>\n",
              "      <td>False</td>\n",
              "      <td>False</td>\n",
              "      <td>False</td>\n",
              "      <td>False</td>\n",
              "      <td>False</td>\n",
              "      <td>False</td>\n",
              "      <td>False</td>\n",
              "    </tr>\n",
              "    <tr>\n",
              "      <th>1</th>\n",
              "      <td>False</td>\n",
              "      <td>False</td>\n",
              "      <td>False</td>\n",
              "      <td>False</td>\n",
              "      <td>False</td>\n",
              "      <td>False</td>\n",
              "      <td>False</td>\n",
              "      <td>False</td>\n",
              "      <td>False</td>\n",
              "      <td>False</td>\n",
              "      <td>False</td>\n",
              "      <td>False</td>\n",
              "      <td>False</td>\n",
              "    </tr>\n",
              "    <tr>\n",
              "      <th>2</th>\n",
              "      <td>False</td>\n",
              "      <td>False</td>\n",
              "      <td>False</td>\n",
              "      <td>False</td>\n",
              "      <td>False</td>\n",
              "      <td>False</td>\n",
              "      <td>False</td>\n",
              "      <td>False</td>\n",
              "      <td>False</td>\n",
              "      <td>False</td>\n",
              "      <td>False</td>\n",
              "      <td>False</td>\n",
              "      <td>False</td>\n",
              "    </tr>\n",
              "    <tr>\n",
              "      <th>3</th>\n",
              "      <td>False</td>\n",
              "      <td>False</td>\n",
              "      <td>False</td>\n",
              "      <td>False</td>\n",
              "      <td>False</td>\n",
              "      <td>False</td>\n",
              "      <td>False</td>\n",
              "      <td>False</td>\n",
              "      <td>False</td>\n",
              "      <td>False</td>\n",
              "      <td>False</td>\n",
              "      <td>False</td>\n",
              "      <td>False</td>\n",
              "    </tr>\n",
              "    <tr>\n",
              "      <th>4</th>\n",
              "      <td>False</td>\n",
              "      <td>False</td>\n",
              "      <td>False</td>\n",
              "      <td>False</td>\n",
              "      <td>False</td>\n",
              "      <td>False</td>\n",
              "      <td>False</td>\n",
              "      <td>False</td>\n",
              "      <td>False</td>\n",
              "      <td>False</td>\n",
              "      <td>False</td>\n",
              "      <td>False</td>\n",
              "      <td>False</td>\n",
              "    </tr>\n",
              "    <tr>\n",
              "      <th>...</th>\n",
              "      <td>...</td>\n",
              "      <td>...</td>\n",
              "      <td>...</td>\n",
              "      <td>...</td>\n",
              "      <td>...</td>\n",
              "      <td>...</td>\n",
              "      <td>...</td>\n",
              "      <td>...</td>\n",
              "      <td>...</td>\n",
              "      <td>...</td>\n",
              "      <td>...</td>\n",
              "      <td>...</td>\n",
              "      <td>...</td>\n",
              "    </tr>\n",
              "    <tr>\n",
              "      <th>5245</th>\n",
              "      <td>False</td>\n",
              "      <td>False</td>\n",
              "      <td>False</td>\n",
              "      <td>False</td>\n",
              "      <td>False</td>\n",
              "      <td>False</td>\n",
              "      <td>False</td>\n",
              "      <td>False</td>\n",
              "      <td>False</td>\n",
              "      <td>False</td>\n",
              "      <td>False</td>\n",
              "      <td>False</td>\n",
              "      <td>False</td>\n",
              "    </tr>\n",
              "    <tr>\n",
              "      <th>5246</th>\n",
              "      <td>False</td>\n",
              "      <td>False</td>\n",
              "      <td>False</td>\n",
              "      <td>False</td>\n",
              "      <td>False</td>\n",
              "      <td>False</td>\n",
              "      <td>False</td>\n",
              "      <td>False</td>\n",
              "      <td>False</td>\n",
              "      <td>False</td>\n",
              "      <td>False</td>\n",
              "      <td>False</td>\n",
              "      <td>False</td>\n",
              "    </tr>\n",
              "    <tr>\n",
              "      <th>5247</th>\n",
              "      <td>False</td>\n",
              "      <td>False</td>\n",
              "      <td>False</td>\n",
              "      <td>False</td>\n",
              "      <td>False</td>\n",
              "      <td>False</td>\n",
              "      <td>False</td>\n",
              "      <td>False</td>\n",
              "      <td>False</td>\n",
              "      <td>False</td>\n",
              "      <td>False</td>\n",
              "      <td>False</td>\n",
              "      <td>False</td>\n",
              "    </tr>\n",
              "    <tr>\n",
              "      <th>5248</th>\n",
              "      <td>False</td>\n",
              "      <td>False</td>\n",
              "      <td>False</td>\n",
              "      <td>False</td>\n",
              "      <td>False</td>\n",
              "      <td>False</td>\n",
              "      <td>False</td>\n",
              "      <td>False</td>\n",
              "      <td>False</td>\n",
              "      <td>False</td>\n",
              "      <td>False</td>\n",
              "      <td>False</td>\n",
              "      <td>False</td>\n",
              "    </tr>\n",
              "    <tr>\n",
              "      <th>5249</th>\n",
              "      <td>False</td>\n",
              "      <td>False</td>\n",
              "      <td>False</td>\n",
              "      <td>False</td>\n",
              "      <td>False</td>\n",
              "      <td>False</td>\n",
              "      <td>False</td>\n",
              "      <td>False</td>\n",
              "      <td>False</td>\n",
              "      <td>False</td>\n",
              "      <td>False</td>\n",
              "      <td>False</td>\n",
              "      <td>False</td>\n",
              "    </tr>\n",
              "  </tbody>\n",
              "</table>\n",
              "<p>5250 rows × 13 columns</p>\n",
              "</div>\n",
              "      <button class=\"colab-df-convert\" onclick=\"convertToInteractive('df-f8062459-3889-4ee8-bafb-6d74272a8d11')\"\n",
              "              title=\"Convert this dataframe to an interactive table.\"\n",
              "              style=\"display:none;\">\n",
              "        \n",
              "  <svg xmlns=\"http://www.w3.org/2000/svg\" height=\"24px\"viewBox=\"0 0 24 24\"\n",
              "       width=\"24px\">\n",
              "    <path d=\"M0 0h24v24H0V0z\" fill=\"none\"/>\n",
              "    <path d=\"M18.56 5.44l.94 2.06.94-2.06 2.06-.94-2.06-.94-.94-2.06-.94 2.06-2.06.94zm-11 1L8.5 8.5l.94-2.06 2.06-.94-2.06-.94L8.5 2.5l-.94 2.06-2.06.94zm10 10l.94 2.06.94-2.06 2.06-.94-2.06-.94-.94-2.06-.94 2.06-2.06.94z\"/><path d=\"M17.41 7.96l-1.37-1.37c-.4-.4-.92-.59-1.43-.59-.52 0-1.04.2-1.43.59L10.3 9.45l-7.72 7.72c-.78.78-.78 2.05 0 2.83L4 21.41c.39.39.9.59 1.41.59.51 0 1.02-.2 1.41-.59l7.78-7.78 2.81-2.81c.8-.78.8-2.07 0-2.86zM5.41 20L4 18.59l7.72-7.72 1.47 1.35L5.41 20z\"/>\n",
              "  </svg>\n",
              "      </button>\n",
              "      \n",
              "  <style>\n",
              "    .colab-df-container {\n",
              "      display:flex;\n",
              "      flex-wrap:wrap;\n",
              "      gap: 12px;\n",
              "    }\n",
              "\n",
              "    .colab-df-convert {\n",
              "      background-color: #E8F0FE;\n",
              "      border: none;\n",
              "      border-radius: 50%;\n",
              "      cursor: pointer;\n",
              "      display: none;\n",
              "      fill: #1967D2;\n",
              "      height: 32px;\n",
              "      padding: 0 0 0 0;\n",
              "      width: 32px;\n",
              "    }\n",
              "\n",
              "    .colab-df-convert:hover {\n",
              "      background-color: #E2EBFA;\n",
              "      box-shadow: 0px 1px 2px rgba(60, 64, 67, 0.3), 0px 1px 3px 1px rgba(60, 64, 67, 0.15);\n",
              "      fill: #174EA6;\n",
              "    }\n",
              "\n",
              "    [theme=dark] .colab-df-convert {\n",
              "      background-color: #3B4455;\n",
              "      fill: #D2E3FC;\n",
              "    }\n",
              "\n",
              "    [theme=dark] .colab-df-convert:hover {\n",
              "      background-color: #434B5C;\n",
              "      box-shadow: 0px 1px 3px 1px rgba(0, 0, 0, 0.15);\n",
              "      filter: drop-shadow(0px 1px 2px rgba(0, 0, 0, 0.3));\n",
              "      fill: #FFFFFF;\n",
              "    }\n",
              "  </style>\n",
              "\n",
              "      <script>\n",
              "        const buttonEl =\n",
              "          document.querySelector('#df-f8062459-3889-4ee8-bafb-6d74272a8d11 button.colab-df-convert');\n",
              "        buttonEl.style.display =\n",
              "          google.colab.kernel.accessAllowed ? 'block' : 'none';\n",
              "\n",
              "        async function convertToInteractive(key) {\n",
              "          const element = document.querySelector('#df-f8062459-3889-4ee8-bafb-6d74272a8d11');\n",
              "          const dataTable =\n",
              "            await google.colab.kernel.invokeFunction('convertToInteractive',\n",
              "                                                     [key], {});\n",
              "          if (!dataTable) return;\n",
              "\n",
              "          const docLinkHtml = 'Like what you see? Visit the ' +\n",
              "            '<a target=\"_blank\" href=https://colab.research.google.com/notebooks/data_table.ipynb>data table notebook</a>'\n",
              "            + ' to learn more about interactive tables.';\n",
              "          element.innerHTML = '';\n",
              "          dataTable['output_type'] = 'display_data';\n",
              "          await google.colab.output.renderOutput(dataTable, element);\n",
              "          const docLink = document.createElement('div');\n",
              "          docLink.innerHTML = docLinkHtml;\n",
              "          element.appendChild(docLink);\n",
              "        }\n",
              "      </script>\n",
              "    </div>\n",
              "  </div>\n",
              "  "
            ]
          },
          "metadata": {},
          "execution_count": 12
        }
      ],
      "source": [
        "df.isnull()"
      ]
    },
    {
      "cell_type": "code",
      "execution_count": 12,
      "metadata": {
        "id": "i9XVbrHX3-5M"
      },
      "outputs": [],
      "source": []
    },
    {
      "cell_type": "code",
      "execution_count": 13,
      "metadata": {
        "id": "6dg7V-xp3x2F",
        "colab": {
          "base_uri": "https://localhost:8080/",
          "height": 265
        },
        "outputId": "3fb2a4e5-74a6-4fe5-deb8-1a7ad92a222d"
      },
      "outputs": [
        {
          "output_type": "display_data",
          "data": {
            "text/plain": [
              "<Figure size 432x288 with 1 Axes>"
            ],
            "image/png": "[encoded data removed]"
          },
          "metadata": {
            "needs_background": "light"
          }
        }
      ],
      "source": [
        "plt.scatter(df.distance,df.planet_type)\n",
        "plt.show()"
      ]
    },
    {
      "cell_type": "code",
      "execution_count": 14,
      "metadata": {
        "id": "-XTflhrB4Sno",
        "colab": {
          "base_uri": "https://localhost:8080/",
          "height": 265
        },
        "outputId": "02ece595-b46f-4bbe-91af-2113b8a11b6d"
      },
      "outputs": [
        {
          "output_type": "display_data",
          "data": {
            "text/plain": [
              "<Figure size 432x288 with 1 Axes>"
            ],
            "image/png": "[encoded data removed]"
          },
          "metadata": {
            "needs_background": "light"
          }
        }
      ],
      "source": [
        "plt.plot(df.distance,df.planet_type)\n",
        "plt.show()"
      ]
    },
    {
      "cell_type": "code",
      "execution_count": 15,
      "metadata": {
        "id": "9bE-uYP_4oem",
        "colab": {
          "base_uri": "https://localhost:8080/",
          "height": 265
        },
        "outputId": "11a77ee3-bb5b-42cb-c422-64f9ce16e1e5"
      },
      "outputs": [
        {
          "output_type": "display_data",
          "data": {
            "text/plain": [
              "<Figure size 432x288 with 1 Axes>"
            ],
            "image/png": "[encoded data removed]"
          },
          "metadata": {
            "needs_background": "light"
          }
        }
      ],
      "source": [
        "plt.hist(df.stellar_magnitude)\n",
        "plt.show()"
      ]
    },
    {
      "cell_type": "code",
      "execution_count": 16,
      "metadata": {
        "id": "Hatggbiu41JM"
      },
      "outputs": [],
      "source": [
        "x=df.drop('detection_method',axis=1)\n",
        "y=df['detection_method']"
      ]
    },
    {
      "cell_type": "code",
      "execution_count": 17,
      "metadata": {
        "colab": {
          "base_uri": "https://localhost:8080/",
          "height": 1000
        },
        "id": "r30dwWFr68_P",
        "outputId": "c9520dcb-ca80-4492-fd85-d84f93d94ae1"
      },
      "outputs": [
        {
          "output_type": "stream",
          "name": "stderr",
          "text": [
            "/usr/local/lib/python3.8/dist-packages/seaborn/_decorators.py:36: FutureWarning: Pass the following variable as a keyword arg: x. From version 0.12, the only valid positional argument will be `data`, and passing other arguments without an explicit keyword will result in an error or misinterpretation.\n",
            "  warnings.warn(\n"
          ]
        },
        {
          "output_type": "display_data",
          "data": {
            "text/plain": [
              "<Figure size 432x288 with 1 Axes>"
            ],
            "image/png": "[encoded data removed]"
          },
          "metadata": {
            "needs_background": "light"
          }
        },
        {
          "output_type": "stream",
          "name": "stderr",
          "text": [
            "/usr/local/lib/python3.8/dist-packages/seaborn/_decorators.py:36: FutureWarning: Pass the following variable as a keyword arg: x. From version 0.12, the only valid positional argument will be `data`, and passing other arguments without an explicit keyword will result in an error or misinterpretation.\n",
            "  warnings.warn(\n"
          ]
        },
        {
          "output_type": "display_data",
          "data": {
            "text/plain": [
              "<Figure size 432x288 with 1 Axes>"
            ],
            "image/png": "[encoded data removed]"
          },
          "metadata": {
            "needs_background": "light"
          }
        },
        {
          "output_type": "stream",
          "name": "stderr",
          "text": [
            "/usr/local/lib/python3.8/dist-packages/seaborn/_decorators.py:36: FutureWarning: Pass the following variable as a keyword arg: x. From version 0.12, the only valid positional argument will be `data`, and passing other arguments without an explicit keyword will result in an error or misinterpretation.\n",
            "  warnings.warn(\n"
          ]
        },
        {
          "output_type": "display_data",
          "data": {
            "text/plain": [
              "<Figure size 432x288 with 1 Axes>"
            ],
            "image/png": "[encoded data removed]"
          },
          "metadata": {
            "needs_background": "light"
          }
        },
        {
          "output_type": "stream",
          "name": "stderr",
          "text": [
            "/usr/local/lib/python3.8/dist-packages/seaborn/_decorators.py:36: FutureWarning: Pass the following variable as a keyword arg: x. From version 0.12, the only valid positional argument will be `data`, and passing other arguments without an explicit keyword will result in an error or misinterpretation.\n",
            "  warnings.warn(\n"
          ]
        },
        {
          "output_type": "display_data",
          "data": {
            "text/plain": [
              "<Figure size 432x288 with 1 Axes>"
            ],
            "image/png": "[encoded data removed]"
          },
          "metadata": {
            "needs_background": "light"
          }
        },
        {
          "output_type": "stream",
          "name": "stderr",
          "text": [
            "/usr/local/lib/python3.8/dist-packages/seaborn/_decorators.py:36: FutureWarning: Pass the following variable as a keyword arg: x. From version 0.12, the only valid positional argument will be `data`, and passing other arguments without an explicit keyword will result in an error or misinterpretation.\n",
            "  warnings.warn(\n"
          ]
        },
        {
          "output_type": "display_data",
          "data": {
            "text/plain": [
              "<Figure size 432x288 with 1 Axes>"
            ],
            "image/png": "[encoded data removed]"
          },
          "metadata": {
            "needs_background": "light"
          }
        },
        {
          "output_type": "stream",
          "name": "stderr",
          "text": [
            "/usr/local/lib/python3.8/dist-packages/seaborn/_decorators.py:36: FutureWarning: Pass the following variable as a keyword arg: x. From version 0.12, the only valid positional argument will be `data`, and passing other arguments without an explicit keyword will result in an error or misinterpretation.\n",
            "  warnings.warn(\n"
          ]
        },
        {
          "output_type": "display_data",
          "data": {
            "text/plain": [
              "<Figure size 432x288 with 1 Axes>"
            ],
            "image/png": "[encoded data removed]"
          },
          "metadata": {
            "needs_background": "light"
          }
        },
        {
          "output_type": "stream",
          "name": "stderr",
          "text": [
            "/usr/local/lib/python3.8/dist-packages/seaborn/_decorators.py:36: FutureWarning: Pass the following variable as a keyword arg: x. From version 0.12, the only valid positional argument will be `data`, and passing other arguments without an explicit keyword will result in an error or misinterpretation.\n",
            "  warnings.warn(\n"
          ]
        },
        {
          "output_type": "display_data",
          "data": {
            "text/plain": [
              "<Figure size 432x288 with 1 Axes>"
            ],
            "image/png": "[encoded data removed]"
          },
          "metadata": {
            "needs_background": "light"
          }
        },
        {
          "output_type": "stream",
          "name": "stderr",
          "text": [
            "/usr/local/lib/python3.8/dist-packages/seaborn/_decorators.py:36: FutureWarning: Pass the following variable as a keyword arg: x. From version 0.12, the only valid positional argument will be `data`, and passing other arguments without an explicit keyword will result in an error or misinterpretation.\n",
            "  warnings.warn(\n"
          ]
        },
        {
          "output_type": "display_data",
          "data": {
            "text/plain": [
              "<Figure size 432x288 with 1 Axes>"
            ],
            "image/png": "[encoded data removed]"
          },
          "metadata": {
            "needs_background": "light"
          }
        },
        {
          "output_type": "stream",
          "name": "stderr",
          "text": [
            "/usr/local/lib/python3.8/dist-packages/seaborn/_decorators.py:36: FutureWarning: Pass the following variable as a keyword arg: x. From version 0.12, the only valid positional argument will be `data`, and passing other arguments without an explicit keyword will result in an error or misinterpretation.\n",
            "  warnings.warn(\n"
          ]
        },
        {
          "output_type": "display_data",
          "data": {
            "text/plain": [
              "<Figure size 432x288 with 1 Axes>"
            ],
            "image/png": "[encoded data removed]"
          },
          "metadata": {
            "needs_background": "light"
          }
        },
        {
          "output_type": "stream",
          "name": "stderr",
          "text": [
            "/usr/local/lib/python3.8/dist-packages/seaborn/_decorators.py:36: FutureWarning: Pass the following variable as a keyword arg: x. From version 0.12, the only valid positional argument will be `data`, and passing other arguments without an explicit keyword will result in an error or misinterpretation.\n",
            "  warnings.warn(\n"
          ]
        },
        {
          "output_type": "display_data",
          "data": {
            "text/plain": [
              "<Figure size 432x288 with 1 Axes>"
            ],
            "image/png": "[encoded data removed]"
          },
          "metadata": {
            "needs_background": "light"
          }
        },
        {
          "output_type": "stream",
          "name": "stderr",
          "text": [
            "/usr/local/lib/python3.8/dist-packages/seaborn/_decorators.py:36: FutureWarning: Pass the following variable as a keyword arg: x. From version 0.12, the only valid positional argument will be `data`, and passing other arguments without an explicit keyword will result in an error or misinterpretation.\n",
            "  warnings.warn(\n"
          ]
        },
        {
          "output_type": "display_data",
          "data": {
            "text/plain": [
              "<Figure size 432x288 with 1 Axes>"
            ],
            "image/png": "[encoded data removed]"
          },
          "metadata": {
            "needs_background": "light"
          }
        },
        {
          "output_type": "stream",
          "name": "stderr",
          "text": [
            "/usr/local/lib/python3.8/dist-packages/seaborn/_decorators.py:36: FutureWarning: Pass the following variable as a keyword arg: x. From version 0.12, the only valid positional argument will be `data`, and passing other arguments without an explicit keyword will result in an error or misinterpretation.\n",
            "  warnings.warn(\n"
          ]
        },
        {
          "output_type": "display_data",
          "data": {
            "text/plain": [
              "<Figure size 432x288 with 1 Axes>"
            ],
            "image/png": "[encoded data removed]"
          },
          "metadata": {
            "needs_background": "light"
          }
        },
        {
          "output_type": "stream",
          "name": "stderr",
          "text": [
            "/usr/local/lib/python3.8/dist-packages/seaborn/_decorators.py:36: FutureWarning: Pass the following variable as a keyword arg: x. From version 0.12, the only valid positional argument will be `data`, and passing other arguments without an explicit keyword will result in an error or misinterpretation.\n",
            "  warnings.warn(\n"
          ]
        },
        {
          "output_type": "display_data",
          "data": {
            "text/plain": [
              "<Figure size 432x288 with 1 Axes>"
            ],
            "image/png": "[encoded data removed]"
          },
          "metadata": {
            "needs_background": "light"
          }
        }
      ],
      "source": [
        "for j in col:\n",
        "  sns.boxplot(df[j])\n",
        "  plt.title(j)\n",
        "  plt.show()\n"
      ]
    },
    {
      "cell_type": "code",
      "source": [
        "x.head(3)"
      ],
      "metadata": {
        "colab": {
          "base_uri": "https://localhost:8080/",
          "height": 207
        },
        "id": "wy7N_XQTSyM0",
        "outputId": "655261d1-509b-4e76-fb77-e6e2c542196e"
      },
      "execution_count": 18,
      "outputs": [
        {
          "output_type": "execute_result",
          "data": {
            "text/plain": [
              "   name  distance  stellar_magnitude  planet_type  discovery_year  \\\n",
              "0     0       267                 41            0              14   \n",
              "1     1       346                 48            0              16   \n",
              "2     2       219                 57            0              15   \n",
              "\n",
              "   mass_multiplier  mass_wrt  radius_multiplier  radius_wrt  orbital_radius  \\\n",
              "0             1524         1                555           1            2363   \n",
              "1             1441         1                563           1            2400   \n",
              "2              882         1                605           1            2261   \n",
              "\n",
              "   orbital_period  eccentricity  \n",
              "0             919            90  \n",
              "1            1026            42  \n",
              "2             805             3  "
            ],
            "text/html": [
              "\n",
              "  <div id=\"df-6947aeba-37e6-4267-a508-2b857c454725\">\n",
              "    <div class=\"colab-df-container\">\n",
              "      <div>\n",
              "<style scoped>\n",
              "    .dataframe tbody tr th:only-of-type {\n",
              "        vertical-align: middle;\n",
              "    }\n",
              "\n",
              "    .dataframe tbody tr th {\n",
              "        vertical-align: top;\n",
              "    }\n",
              "\n",
              "    .dataframe thead th {\n",
              "        text-align: right;\n",
              "    }\n",
              "</style>\n",
              "<table border=\"1\" class=\"dataframe\">\n",
              "  <thead>\n",
              "    <tr style=\"text-align: right;\">\n",
              "      <th></th>\n",
              "      <th>name</th>\n",
              "      <th>distance</th>\n",
              "      <th>stellar_magnitude</th>\n",
              "      <th>planet_type</th>\n",
              "      <th>discovery_year</th>\n",
              "      <th>mass_multiplier</th>\n",
              "      <th>mass_wrt</th>\n",
              "      <th>radius_multiplier</th>\n",
              "      <th>radius_wrt</th>\n",
              "      <th>orbital_radius</th>\n",
              "      <th>orbital_period</th>\n",
              "      <th>eccentricity</th>\n",
              "    </tr>\n",
              "  </thead>\n",
              "  <tbody>\n",
              "    <tr>\n",
              "      <th>0</th>\n",
              "      <td>0</td>\n",
              "      <td>267</td>\n",
              "      <td>41</td>\n",
              "      <td>0</td>\n",
              "      <td>14</td>\n",
              "      <td>1524</td>\n",
              "      <td>1</td>\n",
              "      <td>555</td>\n",
              "      <td>1</td>\n",
              "      <td>2363</td>\n",
              "      <td>919</td>\n",
              "      <td>90</td>\n",
              "    </tr>\n",
              "    <tr>\n",
              "      <th>1</th>\n",
              "      <td>1</td>\n",
              "      <td>346</td>\n",
              "      <td>48</td>\n",
              "      <td>0</td>\n",
              "      <td>16</td>\n",
              "      <td>1441</td>\n",
              "      <td>1</td>\n",
              "      <td>563</td>\n",
              "      <td>1</td>\n",
              "      <td>2400</td>\n",
              "      <td>1026</td>\n",
              "      <td>42</td>\n",
              "    </tr>\n",
              "    <tr>\n",
              "      <th>2</th>\n",
              "      <td>2</td>\n",
              "      <td>219</td>\n",
              "      <td>57</td>\n",
              "      <td>0</td>\n",
              "      <td>15</td>\n",
              "      <td>882</td>\n",
              "      <td>1</td>\n",
              "      <td>605</td>\n",
              "      <td>1</td>\n",
              "      <td>2261</td>\n",
              "      <td>805</td>\n",
              "      <td>3</td>\n",
              "    </tr>\n",
              "  </tbody>\n",
              "</table>\n",
              "</div>\n",
              "      <button class=\"colab-df-convert\" onclick=\"convertToInteractive('df-6947aeba-37e6-4267-a508-2b857c454725')\"\n",
              "              title=\"Convert this dataframe to an interactive table.\"\n",
              "              style=\"display:none;\">\n",
              "        \n",
              "  <svg xmlns=\"http://www.w3.org/2000/svg\" height=\"24px\"viewBox=\"0 0 24 24\"\n",
              "       width=\"24px\">\n",
              "    <path d=\"M0 0h24v24H0V0z\" fill=\"none\"/>\n",
              "    <path d=\"M18.56 5.44l.94 2.06.94-2.06 2.06-.94-2.06-.94-.94-2.06-.94 2.06-2.06.94zm-11 1L8.5 8.5l.94-2.06 2.06-.94-2.06-.94L8.5 2.5l-.94 2.06-2.06.94zm10 10l.94 2.06.94-2.06 2.06-.94-2.06-.94-.94-2.06-.94 2.06-2.06.94z\"/><path d=\"M17.41 7.96l-1.37-1.37c-.4-.4-.92-.59-1.43-.59-.52 0-1.04.2-1.43.59L10.3 9.45l-7.72 7.72c-.78.78-.78 2.05 0 2.83L4 21.41c.39.39.9.59 1.41.59.51 0 1.02-.2 1.41-.59l7.78-7.78 2.81-2.81c.8-.78.8-2.07 0-2.86zM5.41 20L4 18.59l7.72-7.72 1.47 1.35L5.41 20z\"/>\n",
              "  </svg>\n",
              "      </button>\n",
              "      \n",
              "  <style>\n",
              "    .colab-df-container {\n",
              "      display:flex;\n",
              "      flex-wrap:wrap;\n",
              "      gap: 12px;\n",
              "    }\n",
              "\n",
              "    .colab-df-convert {\n",
              "      background-color: #E8F0FE;\n",
              "      border: none;\n",
              "      border-radius: 50%;\n",
              "      cursor: pointer;\n",
              "      display: none;\n",
              "      fill: #1967D2;\n",
              "      height: 32px;\n",
              "      padding: 0 0 0 0;\n",
              "      width: 32px;\n",
              "    }\n",
              "\n",
              "    .colab-df-convert:hover {\n",
              "      background-color: #E2EBFA;\n",
              "      box-shadow: 0px 1px 2px rgba(60, 64, 67, 0.3), 0px 1px 3px 1px rgba(60, 64, 67, 0.15);\n",
              "      fill: #174EA6;\n",
              "    }\n",
              "\n",
              "    [theme=dark] .colab-df-convert {\n",
              "      background-color: #3B4455;\n",
              "      fill: #D2E3FC;\n",
              "    }\n",
              "\n",
              "    [theme=dark] .colab-df-convert:hover {\n",
              "      background-color: #434B5C;\n",
              "      box-shadow: 0px 1px 3px 1px rgba(0, 0, 0, 0.15);\n",
              "      filter: drop-shadow(0px 1px 2px rgba(0, 0, 0, 0.3));\n",
              "      fill: #FFFFFF;\n",
              "    }\n",
              "  </style>\n",
              "\n",
              "      <script>\n",
              "        const buttonEl =\n",
              "          document.querySelector('#df-6947aeba-37e6-4267-a508-2b857c454725 button.colab-df-convert');\n",
              "        buttonEl.style.display =\n",
              "          google.colab.kernel.accessAllowed ? 'block' : 'none';\n",
              "\n",
              "        async function convertToInteractive(key) {\n",
              "          const element = document.querySelector('#df-6947aeba-37e6-4267-a508-2b857c454725');\n",
              "          const dataTable =\n",
              "            await google.colab.kernel.invokeFunction('convertToInteractive',\n",
              "                                                     [key], {});\n",
              "          if (!dataTable) return;\n",
              "\n",
              "          const docLinkHtml = 'Like what you see? Visit the ' +\n",
              "            '<a target=\"_blank\" href=https://colab.research.google.com/notebooks/data_table.ipynb>data table notebook</a>'\n",
              "            + ' to learn more about interactive tables.';\n",
              "          element.innerHTML = '';\n",
              "          dataTable['output_type'] = 'display_data';\n",
              "          await google.colab.output.renderOutput(dataTable, element);\n",
              "          const docLink = document.createElement('div');\n",
              "          docLink.innerHTML = docLinkHtml;\n",
              "          element.appendChild(docLink);\n",
              "        }\n",
              "      </script>\n",
              "    </div>\n",
              "  </div>\n",
              "  "
            ]
          },
          "metadata": {},
          "execution_count": 18
        }
      ]
    },
    {
      "cell_type": "code",
      "source": [
        "y.head(3)\n"
      ],
      "metadata": {
        "colab": {
          "base_uri": "https://localhost:8080/"
        },
        "id": "y2fOS6jyS3Uw",
        "outputId": "86f3a609-1357-4239-c2bc-151b480b3f1b"
      },
      "execution_count": 19,
      "outputs": [
        {
          "output_type": "execute_result",
          "data": {
            "text/plain": [
              "0    8\n",
              "1    8\n",
              "2    8\n",
              "Name: detection_method, dtype: int64"
            ]
          },
          "metadata": {},
          "execution_count": 19
        }
      ]
    },
    {
      "cell_type": "code",
      "source": [
        "x_train,x_test,y_train,y_test=train_test_split(x,y,test_size=0.5,random_state=0)\n"
      ],
      "metadata": {
        "id": "iAskwGfuUR3h"
      },
      "execution_count": 20,
      "outputs": []
    },
    {
      "cell_type": "code",
      "source": [
        "a=StandardScaler()\n",
        "x_train=a.fit_transform(x_train)\n",
        "x_test=a.transform(x_test)"
      ],
      "metadata": {
        "id": "JWvsCUtKWIVV"
      },
      "execution_count": 21,
      "outputs": []
    },
    {
      "cell_type": "code",
      "source": [
        "clf=DecisionTreeClassifier(criterion=\"entropy\",random_state=0)\n",
        "clf.fit(x_train,y_train)"
      ],
      "metadata": {
        "id": "au82rlVxWKIr",
        "outputId": "34462013-7e54-43a7-e3c1-56d0d700810d",
        "colab": {
          "base_uri": "https://localhost:8080/"
        }
      },
      "execution_count": 22,
      "outputs": [
        {
          "output_type": "execute_result",
          "data": {
            "text/plain": [
              "DecisionTreeClassifier(criterion='entropy', random_state=0)"
            ]
          },
          "metadata": {},
          "execution_count": 22
        }
      ]
    },
    {
      "cell_type": "code",
      "source": [
        "y_pred=clf.predict(x_test)"
      ],
      "metadata": {
        "id": "096GhMNKWVIh"
      },
      "execution_count": 23,
      "outputs": []
    },
    {
      "cell_type": "code",
      "source": [
        "cm=confusion_matrix(y_test,y_pred)\n",
        "cm"
      ],
      "metadata": {
        "id": "z6XzCvT7We7L",
        "outputId": "4f96771b-09e5-4ade-815b-44cb48614d05",
        "colab": {
          "base_uri": "https://localhost:8080/"
        }
      },
      "execution_count": 24,
      "outputs": [
        {
          "output_type": "execute_result",
          "data": {
            "text/plain": [
              "array([[   0,    0,    0,    0,    0,    0,    0,    0,    2,    0,    0],\n",
              "       [   0,   22,    1,    0,    0,    0,    0,    0,    7,    1,    0],\n",
              "       [   0,    0,    0,    0,    0,    0,    0,    0,    0,    0,    0],\n",
              "       [   0,    1,    0,    3,    1,    0,    0,    0,    2,    1,    0],\n",
              "       [   0,    5,    0,    0,   78,    0,    1,    0,    0,    0,    0],\n",
              "       [   0,    0,    0,    0,    0,    4,    0,    0,    0,    0,    0],\n",
              "       [   0,    2,    0,    0,    0,    0,    2,    0,    0,    0,    0],\n",
              "       [   0,    0,    0,    0,    0,    0,    0,    0,    0,    0,    0],\n",
              "       [   0,    8,    0,    0,    0,    0,    0,    0,  472,   33,    4],\n",
              "       [   0,    0,    0,    2,    0,    1,    2,    0,   47, 1906,    6],\n",
              "       [   0,    0,    0,    0,    0,    0,    0,    1,    2,    6,    2]])"
            ]
          },
          "metadata": {},
          "execution_count": 24
        }
      ]
    },
    {
      "cell_type": "code",
      "source": [
        "import sklearn"
      ],
      "metadata": {
        "id": "BJAXpjiUWhX2"
      },
      "execution_count": 25,
      "outputs": []
    },
    {
      "cell_type": "code",
      "source": [
        "from sklearn.metrics import accuracy_score\n",
        "sklearn.metrics.accuracy_score(y_test,y_pred)"
      ],
      "metadata": {
        "id": "lvmDnc84Wqz0",
        "outputId": "32abca38-0347-4c81-9486-8bbca342d534",
        "colab": {
          "base_uri": "https://localhost:8080/"
        }
      },
      "execution_count": 26,
      "outputs": [
        {
          "output_type": "execute_result",
          "data": {
            "text/plain": [
              "0.9481904761904761"
            ]
          },
          "metadata": {},
          "execution_count": 26
        }
      ]
    },
    {
      "cell_type": "code",
      "source": [
        "import graphviz"
      ],
      "metadata": {
        "id": "nxYwQTuHWx7U"
      },
      "execution_count": 27,
      "outputs": []
    },
    {
      "cell_type": "code",
      "source": [
        "graphviz.Source(export_graphviz(clf,feature_names=x.columns,filled=True,))"
      ],
      "metadata": {
        "id": "znb98LTyW5El",
        "outputId": "1272f101-fbb5-42d0-e6ca-4c9658be0051",
        "colab": {
          "base_uri": "https://localhost:8080/",
          "height": 1000
        }
      },
      "execution_count": 28,
      "outputs": [
        {
          "output_type": "execute_result",
          "data": {
            "text/plain": [
              "<graphviz.files.Source at 0x7fc4029e5a60>"
            ],
            "image/svg+xml": "<?xml version=\"1.0\" encoding=\"UTF-8\" standalone=\"no\"?>\n<!DOCTYPE svg PUBLIC \"-//W3C//DTD SVG 1.1//EN\"\n \"http://www.w3.org/Graphics/SVG/1.1/DTD/svg11.dtd\">\n<!-- Generated by graphviz version 2.43.0 (0)\n -->\n<!-- Title: Tree Pages: 1 -->\n<svg width=\"8572pt\" height=\"1413pt\"\n viewBox=\"0.00 0.00 8572.00 1413.00\" xmlns=\"http://www.w3.org/2000/svg\" xmlns:xlink=\"http://www.w3.org/1999/xlink\">\n<g id=\"graph0\" class=\"graph\" transform=\"scale(1 1) rotate(0) translate(4 1409)\">\n<title>Tree</title>\n<polygon fill=\"white\" stroke=\"transparent\" points=\"-4,4 -4,-1409 8568,-1409 8568,4 -4,4\"/>\n<!-- 0 -->\n<g id=\"node1\" class=\"node\">\n<title>0</title>\n<polygon fill=\"#ed75d3\" stroke=\"black\" points=\"4064,-1405 3789,-1405 3789,-1337 4064,-1337 4064,-1405\"/>\n<text text-anchor=\"middle\" x=\"3926.5\" y=\"-1389.8\" font-family=\"Helvetica,sans-Serif\" font-size=\"14.00\">stellar_magnitude &lt;= &#45;1.058</text>\n<text text-anchor=\"middle\" x=\"3926.5\" y=\"-1374.8\" font-family=\"Helvetica,sans-Serif\" font-size=\"14.00\">entropy = 1.087</text>\n<text text-anchor=\"middle\" x=\"3926.5\" y=\"-1359.8\" font-family=\"Helvetica,sans-Serif\" font-size=\"14.00\">samples = 2625</text>\n<text text-anchor=\"middle\" x=\"3926.5\" y=\"-1344.8\" font-family=\"Helvetica,sans-Serif\" font-size=\"14.00\">value = [31, 1, 9, 70, 5, 3, 2, 510, 1981, 13]</text>\n</g>\n<!-- 1 -->\n<g id=\"node2\" class=\"node\">\n<title>1</title>\n<polygon fill=\"#b866eb\" stroke=\"black\" points=\"2583,-1301 2338,-1301 2338,-1233 2583,-1233 2583,-1301\"/>\n<text text-anchor=\"middle\" x=\"2460.5\" y=\"-1285.8\" font-family=\"Helvetica,sans-Serif\" font-size=\"14.00\">stellar_magnitude &lt;= &#45;1.263</text>\n<text text-anchor=\"middle\" x=\"2460.5\" y=\"-1270.8\" font-family=\"Helvetica,sans-Serif\" font-size=\"14.00\">entropy = 0.836</text>\n<text text-anchor=\"middle\" x=\"2460.5\" y=\"-1255.8\" font-family=\"Helvetica,sans-Serif\" font-size=\"14.00\">samples = 546</text>\n<text text-anchor=\"middle\" x=\"2460.5\" y=\"-1240.8\" font-family=\"Helvetica,sans-Serif\" font-size=\"14.00\">value = [12, 1, 0, 0, 0, 0, 0, 443, 88, 2]</text>\n</g>\n<!-- 0&#45;&gt;1 -->\n<g id=\"edge1\" class=\"edge\">\n<title>0&#45;&gt;1</title>\n<path fill=\"none\" stroke=\"black\" d=\"M3788.91,-1360.43C3507.74,-1340.86 2870.49,-1296.53 2593.36,-1277.24\"/>\n<polygon fill=\"black\" stroke=\"black\" points=\"2593.47,-1273.74 2583.25,-1276.54 2592.98,-1280.73 2593.47,-1273.74\"/>\n<text text-anchor=\"middle\" x=\"2599.66\" y=\"-1291.7\" font-family=\"Helvetica,sans-Serif\" font-size=\"14.00\">True</text>\n</g>\n<!-- 56 -->\n<g id=\"node57\" class=\"node\">\n<title>56</title>\n<polygon fill=\"#e74bc6\" stroke=\"black\" points=\"4613,-1301 4346,-1301 4346,-1233 4613,-1233 4613,-1301\"/>\n<text text-anchor=\"middle\" x=\"4479.5\" y=\"-1285.8\" font-family=\"Helvetica,sans-Serif\" font-size=\"14.00\">orbital_period &lt;= 1.688</text>\n<text text-anchor=\"middle\" x=\"4479.5\" y=\"-1270.8\" font-family=\"Helvetica,sans-Serif\" font-size=\"14.00\">entropy = 0.628</text>\n<text text-anchor=\"middle\" x=\"4479.5\" y=\"-1255.8\" font-family=\"Helvetica,sans-Serif\" font-size=\"14.00\">samples = 2079</text>\n<text text-anchor=\"middle\" x=\"4479.5\" y=\"-1240.8\" font-family=\"Helvetica,sans-Serif\" font-size=\"14.00\">value = [19, 0, 9, 70, 5, 3, 2, 67, 1893, 11]</text>\n</g>\n<!-- 0&#45;&gt;56 -->\n<g id=\"edge56\" class=\"edge\">\n<title>0&#45;&gt;56</title>\n<path fill=\"none\" stroke=\"black\" d=\"M4064.26,-1344.59C4147.04,-1329.32 4252.2,-1309.92 4335.98,-1294.47\"/>\n<polygon fill=\"black\" stroke=\"black\" points=\"4336.63,-1297.91 4345.83,-1292.65 4335.36,-1291.03 4336.63,-1297.91\"/>\n<text text-anchor=\"middle\" x=\"4331.66\" y=\"-1309.55\" font-family=\"Helvetica,sans-Serif\" font-size=\"14.00\">False</text>\n</g>\n<!-- 2 -->\n<g id=\"node3\" class=\"node\">\n<title>2</title>\n<polygon fill=\"#a945e7\" stroke=\"black\" points=\"1579,-1197 1334,-1197 1334,-1129 1579,-1129 1579,-1197\"/>\n<text text-anchor=\"middle\" x=\"1456.5\" y=\"-1181.8\" font-family=\"Helvetica,sans-Serif\" font-size=\"14.00\">orbital_period &lt;= 2.427</text>\n<text text-anchor=\"middle\" x=\"1456.5\" y=\"-1166.8\" font-family=\"Helvetica,sans-Serif\" font-size=\"14.00\">entropy = 0.405</text>\n<text text-anchor=\"middle\" x=\"1456.5\" y=\"-1151.8\" font-family=\"Helvetica,sans-Serif\" font-size=\"14.00\">samples = 393</text>\n<text text-anchor=\"middle\" x=\"1456.5\" y=\"-1136.8\" font-family=\"Helvetica,sans-Serif\" font-size=\"14.00\">value = [11, 1, 0, 0, 0, 0, 0, 369, 12, 0]</text>\n</g>\n<!-- 1&#45;&gt;2 -->\n<g id=\"edge2\" class=\"edge\">\n<title>1&#45;&gt;2</title>\n<path fill=\"none\" stroke=\"black\" d=\"M2337.89,-1253.54C2148.16,-1234.27 1784.94,-1197.37 1589.24,-1177.49\"/>\n<polygon fill=\"black\" stroke=\"black\" points=\"1589.49,-1173.99 1579.19,-1176.46 1588.78,-1180.96 1589.49,-1173.99\"/>\n</g>\n<!-- 29 -->\n<g id=\"node30\" class=\"node\">\n<title>29</title>\n<polygon fill=\"#fefafd\" stroke=\"black\" points=\"2575.5,-1197 2345.5,-1197 2345.5,-1129 2575.5,-1129 2575.5,-1197\"/>\n<text text-anchor=\"middle\" x=\"2460.5\" y=\"-1181.8\" font-family=\"Helvetica,sans-Serif\" font-size=\"14.00\">distance &lt;= &#45;1.153</text>\n<text text-anchor=\"middle\" x=\"2460.5\" y=\"-1166.8\" font-family=\"Helvetica,sans-Serif\" font-size=\"14.00\">entropy = 1.138</text>\n<text text-anchor=\"middle\" x=\"2460.5\" y=\"-1151.8\" font-family=\"Helvetica,sans-Serif\" font-size=\"14.00\">samples = 153</text>\n<text text-anchor=\"middle\" x=\"2460.5\" y=\"-1136.8\" font-family=\"Helvetica,sans-Serif\" font-size=\"14.00\">value = [1, 0, 0, 0, 0, 0, 0, 74, 76, 2]</text>\n</g>\n<!-- 1&#45;&gt;29 -->\n<g id=\"edge29\" class=\"edge\">\n<title>1&#45;&gt;29</title>\n<path fill=\"none\" stroke=\"black\" d=\"M2460.5,-1232.88C2460.5,-1224.78 2460.5,-1215.98 2460.5,-1207.47\"/>\n<polygon fill=\"black\" stroke=\"black\" points=\"2464,-1207.3 2460.5,-1197.3 2457,-1207.3 2464,-1207.3\"/>\n</g>\n<!-- 3 -->\n<g id=\"node4\" class=\"node\">\n<title>3</title>\n<polygon fill=\"#a640e6\" stroke=\"black\" points=\"1216,-1093 979,-1093 979,-1025 1216,-1025 1216,-1093\"/>\n<text text-anchor=\"middle\" x=\"1097.5\" y=\"-1077.8\" font-family=\"Helvetica,sans-Serif\" font-size=\"14.00\">orbital_radius &lt;= 0.067</text>\n<text text-anchor=\"middle\" x=\"1097.5\" y=\"-1062.8\" font-family=\"Helvetica,sans-Serif\" font-size=\"14.00\">entropy = 0.248</text>\n<text text-anchor=\"middle\" x=\"1097.5\" y=\"-1047.8\" font-family=\"Helvetica,sans-Serif\" font-size=\"14.00\">samples = 383</text>\n<text text-anchor=\"middle\" x=\"1097.5\" y=\"-1032.8\" font-family=\"Helvetica,sans-Serif\" font-size=\"14.00\">value = [2, 0, 0, 0, 0, 0, 0, 369, 12, 0]</text>\n</g>\n<!-- 2&#45;&gt;3 -->\n<g id=\"edge3\" class=\"edge\">\n<title>2&#45;&gt;3</title>\n<path fill=\"none\" stroke=\"black\" d=\"M1339.94,-1128.88C1302.82,-1118.34 1261.59,-1106.62 1223.82,-1095.89\"/>\n<polygon fill=\"black\" stroke=\"black\" points=\"1224.35,-1092.4 1213.78,-1093.04 1222.44,-1099.14 1224.35,-1092.4\"/>\n</g>\n<!-- 26 -->\n<g id=\"node27\" class=\"node\">\n<title>26</title>\n<polygon fill=\"#e88f4f\" stroke=\"black\" points=\"1564,-1093 1349,-1093 1349,-1025 1564,-1025 1564,-1093\"/>\n<text text-anchor=\"middle\" x=\"1456.5\" y=\"-1077.8\" font-family=\"Helvetica,sans-Serif\" font-size=\"14.00\">distance &lt;= &#45;0.796</text>\n<text text-anchor=\"middle\" x=\"1456.5\" y=\"-1062.8\" font-family=\"Helvetica,sans-Serif\" font-size=\"14.00\">entropy = 0.469</text>\n<text text-anchor=\"middle\" x=\"1456.5\" y=\"-1047.8\" font-family=\"Helvetica,sans-Serif\" font-size=\"14.00\">samples = 10</text>\n<text text-anchor=\"middle\" x=\"1456.5\" y=\"-1032.8\" font-family=\"Helvetica,sans-Serif\" font-size=\"14.00\">value = [9, 1, 0, 0, 0, 0, 0, 0, 0, 0]</text>\n</g>\n<!-- 2&#45;&gt;26 -->\n<g id=\"edge26\" class=\"edge\">\n<title>2&#45;&gt;26</title>\n<path fill=\"none\" stroke=\"black\" d=\"M1456.5,-1128.88C1456.5,-1120.78 1456.5,-1111.98 1456.5,-1103.47\"/>\n<polygon fill=\"black\" stroke=\"black\" points=\"1460,-1103.3 1456.5,-1093.3 1453,-1103.3 1460,-1103.3\"/>\n</g>\n<!-- 4 -->\n<g id=\"node5\" class=\"node\">\n<title>4</title>\n<polygon fill=\"#b561ea\" stroke=\"black\" points=\"815.5,-989 585.5,-989 585.5,-921 815.5,-921 815.5,-989\"/>\n<text text-anchor=\"middle\" x=\"700.5\" y=\"-973.8\" font-family=\"Helvetica,sans-Serif\" font-size=\"14.00\">distance &lt;= &#45;1.1</text>\n<text text-anchor=\"middle\" x=\"700.5\" y=\"-958.8\" font-family=\"Helvetica,sans-Serif\" font-size=\"14.00\">entropy = 0.65</text>\n<text text-anchor=\"middle\" x=\"700.5\" y=\"-943.8\" font-family=\"Helvetica,sans-Serif\" font-size=\"14.00\">samples = 72</text>\n<text text-anchor=\"middle\" x=\"700.5\" y=\"-928.8\" font-family=\"Helvetica,sans-Serif\" font-size=\"14.00\">value = [0, 0, 0, 0, 0, 0, 0, 60, 12, 0]</text>\n</g>\n<!-- 3&#45;&gt;4 -->\n<g id=\"edge4\" class=\"edge\">\n<title>3&#45;&gt;4</title>\n<path fill=\"none\" stroke=\"black\" d=\"M978.92,-1027.53C930.52,-1015.1 874.49,-1000.7 825.45,-988.1\"/>\n<polygon fill=\"black\" stroke=\"black\" points=\"826.29,-984.71 815.73,-985.61 824.55,-991.49 826.29,-984.71\"/>\n</g>\n<!-- 17 -->\n<g id=\"node18\" class=\"node\">\n<title>17</title>\n<polygon fill=\"#a43ae5\" stroke=\"black\" points=\"1212.5,-989 982.5,-989 982.5,-921 1212.5,-921 1212.5,-989\"/>\n<text text-anchor=\"middle\" x=\"1097.5\" y=\"-973.8\" font-family=\"Helvetica,sans-Serif\" font-size=\"14.00\">orbital_radius &lt;= 1.68</text>\n<text text-anchor=\"middle\" x=\"1097.5\" y=\"-958.8\" font-family=\"Helvetica,sans-Serif\" font-size=\"14.00\">entropy = 0.056</text>\n<text text-anchor=\"middle\" x=\"1097.5\" y=\"-943.8\" font-family=\"Helvetica,sans-Serif\" font-size=\"14.00\">samples = 311</text>\n<text text-anchor=\"middle\" x=\"1097.5\" y=\"-928.8\" font-family=\"Helvetica,sans-Serif\" font-size=\"14.00\">value = [2, 0, 0, 0, 0, 0, 0, 309, 0, 0]</text>\n</g>\n<!-- 3&#45;&gt;17 -->\n<g id=\"edge17\" class=\"edge\">\n<title>3&#45;&gt;17</title>\n<path fill=\"none\" stroke=\"black\" d=\"M1097.5,-1024.88C1097.5,-1016.78 1097.5,-1007.98 1097.5,-999.47\"/>\n<polygon fill=\"black\" stroke=\"black\" points=\"1101,-999.3 1097.5,-989.3 1094,-999.3 1101,-999.3\"/>\n</g>\n<!-- 5 -->\n<g id=\"node6\" class=\"node\">\n<title>5</title>\n<polygon fill=\"#a843e6\" stroke=\"black\" points=\"535.5,-885 313.5,-885 313.5,-817 535.5,-817 535.5,-885\"/>\n<text text-anchor=\"middle\" x=\"424.5\" y=\"-869.8\" font-family=\"Helvetica,sans-Serif\" font-size=\"14.00\">planet_type &lt;= 0.503</text>\n<text text-anchor=\"middle\" x=\"424.5\" y=\"-854.8\" font-family=\"Helvetica,sans-Serif\" font-size=\"14.00\">entropy = 0.28</text>\n<text text-anchor=\"middle\" x=\"424.5\" y=\"-839.8\" font-family=\"Helvetica,sans-Serif\" font-size=\"14.00\">samples = 62</text>\n<text text-anchor=\"middle\" x=\"424.5\" y=\"-824.8\" font-family=\"Helvetica,sans-Serif\" font-size=\"14.00\">value = [0, 0, 0, 0, 0, 0, 0, 59, 3, 0]</text>\n</g>\n<!-- 4&#45;&gt;5 -->\n<g id=\"edge5\" class=\"edge\">\n<title>4&#45;&gt;5</title>\n<path fill=\"none\" stroke=\"black\" d=\"M610.89,-920.88C583.03,-910.59 552.16,-899.18 523.69,-888.66\"/>\n<polygon fill=\"black\" stroke=\"black\" points=\"524.72,-885.31 514.13,-885.12 522.3,-891.87 524.72,-885.31\"/>\n</g>\n<!-- 14 -->\n<g id=\"node15\" class=\"node\">\n<title>14</title>\n<polygon fill=\"#e84fc7\" stroke=\"black\" points=\"808,-885 593,-885 593,-817 808,-817 808,-885\"/>\n<text text-anchor=\"middle\" x=\"700.5\" y=\"-869.8\" font-family=\"Helvetica,sans-Serif\" font-size=\"14.00\">stellar_magnitude &lt;= &#45;1.27</text>\n<text text-anchor=\"middle\" x=\"700.5\" y=\"-854.8\" font-family=\"Helvetica,sans-Serif\" font-size=\"14.00\">entropy = 0.469</text>\n<text text-anchor=\"middle\" x=\"700.5\" y=\"-839.8\" font-family=\"Helvetica,sans-Serif\" font-size=\"14.00\">samples = 10</text>\n<text text-anchor=\"middle\" x=\"700.5\" y=\"-824.8\" font-family=\"Helvetica,sans-Serif\" font-size=\"14.00\">value = [0, 0, 0, 0, 0, 0, 0, 1, 9, 0]</text>\n</g>\n<!-- 4&#45;&gt;14 -->\n<g id=\"edge14\" class=\"edge\">\n<title>4&#45;&gt;14</title>\n<path fill=\"none\" stroke=\"black\" d=\"M700.5,-920.88C700.5,-912.78 700.5,-903.98 700.5,-895.47\"/>\n<polygon fill=\"black\" stroke=\"black\" points=\"704,-895.3 700.5,-885.3 697,-895.3 704,-895.3\"/>\n</g>\n<!-- 6 -->\n<g id=\"node7\" class=\"node\">\n<title>6</title>\n<polygon fill=\"#a339e5\" stroke=\"black\" points=\"295.5,-773.5 73.5,-773.5 73.5,-720.5 295.5,-720.5 295.5,-773.5\"/>\n<text text-anchor=\"middle\" x=\"184.5\" y=\"-758.3\" font-family=\"Helvetica,sans-Serif\" font-size=\"14.00\">entropy = 0.0</text>\n<text text-anchor=\"middle\" x=\"184.5\" y=\"-743.3\" font-family=\"Helvetica,sans-Serif\" font-size=\"14.00\">samples = 49</text>\n<text text-anchor=\"middle\" x=\"184.5\" y=\"-728.3\" font-family=\"Helvetica,sans-Serif\" font-size=\"14.00\">value = [0, 0, 0, 0, 0, 0, 0, 49, 0, 0]</text>\n</g>\n<!-- 5&#45;&gt;6 -->\n<g id=\"edge6\" class=\"edge\">\n<title>5&#45;&gt;6</title>\n<path fill=\"none\" stroke=\"black\" d=\"M346.58,-816.88C316.69,-804.18 282.81,-789.78 253.79,-777.45\"/>\n<polygon fill=\"black\" stroke=\"black\" points=\"255.12,-774.21 244.55,-773.52 252.38,-780.65 255.12,-774.21\"/>\n</g>\n<!-- 7 -->\n<g id=\"node8\" class=\"node\">\n<title>7</title>\n<polygon fill=\"#bf74ed\" stroke=\"black\" points=\"535.5,-781 313.5,-781 313.5,-713 535.5,-713 535.5,-781\"/>\n<text text-anchor=\"middle\" x=\"424.5\" y=\"-765.8\" font-family=\"Helvetica,sans-Serif\" font-size=\"14.00\">eccentricity &lt;= 0.523</text>\n<text text-anchor=\"middle\" x=\"424.5\" y=\"-750.8\" font-family=\"Helvetica,sans-Serif\" font-size=\"14.00\">entropy = 0.779</text>\n<text text-anchor=\"middle\" x=\"424.5\" y=\"-735.8\" font-family=\"Helvetica,sans-Serif\" font-size=\"14.00\">samples = 13</text>\n<text text-anchor=\"middle\" x=\"424.5\" y=\"-720.8\" font-family=\"Helvetica,sans-Serif\" font-size=\"14.00\">value = [0, 0, 0, 0, 0, 0, 0, 10, 3, 0]</text>\n</g>\n<!-- 5&#45;&gt;7 -->\n<g id=\"edge7\" class=\"edge\">\n<title>5&#45;&gt;7</title>\n<path fill=\"none\" stroke=\"black\" d=\"M424.5,-816.88C424.5,-808.78 424.5,-799.98 424.5,-791.47\"/>\n<polygon fill=\"black\" stroke=\"black\" points=\"428,-791.3 424.5,-781.3 421,-791.3 428,-791.3\"/>\n</g>\n<!-- 8 -->\n<g id=\"node9\" class=\"node\">\n<title>8</title>\n<polygon fill=\"#e8cef8\" stroke=\"black\" points=\"445,-677 230,-677 230,-609 445,-609 445,-677\"/>\n<text text-anchor=\"middle\" x=\"337.5\" y=\"-661.8\" font-family=\"Helvetica,sans-Serif\" font-size=\"14.00\">discovery_year &lt;= 0.887</text>\n<text text-anchor=\"middle\" x=\"337.5\" y=\"-646.8\" font-family=\"Helvetica,sans-Serif\" font-size=\"14.00\">entropy = 0.985</text>\n<text text-anchor=\"middle\" x=\"337.5\" y=\"-631.8\" font-family=\"Helvetica,sans-Serif\" font-size=\"14.00\">samples = 7</text>\n<text text-anchor=\"middle\" x=\"337.5\" y=\"-616.8\" font-family=\"Helvetica,sans-Serif\" font-size=\"14.00\">value = [0, 0, 0, 0, 0, 0, 0, 4, 3, 0]</text>\n</g>\n<!-- 7&#45;&gt;8 -->\n<g id=\"edge8\" class=\"edge\">\n<title>7&#45;&gt;8</title>\n<path fill=\"none\" stroke=\"black\" d=\"M396.25,-712.88C388.66,-703.98 380.35,-694.24 372.43,-684.96\"/>\n<polygon fill=\"black\" stroke=\"black\" points=\"375.05,-682.64 365.9,-677.3 369.73,-687.18 375.05,-682.64\"/>\n</g>\n<!-- 13 -->\n<g id=\"node14\" class=\"node\">\n<title>13</title>\n<polygon fill=\"#a339e5\" stroke=\"black\" points=\"678,-669.5 463,-669.5 463,-616.5 678,-616.5 678,-669.5\"/>\n<text text-anchor=\"middle\" x=\"570.5\" y=\"-654.3\" font-family=\"Helvetica,sans-Serif\" font-size=\"14.00\">entropy = 0.0</text>\n<text text-anchor=\"middle\" x=\"570.5\" y=\"-639.3\" font-family=\"Helvetica,sans-Serif\" font-size=\"14.00\">samples = 6</text>\n<text text-anchor=\"middle\" x=\"570.5\" y=\"-624.3\" font-family=\"Helvetica,sans-Serif\" font-size=\"14.00\">value = [0, 0, 0, 0, 0, 0, 0, 6, 0, 0]</text>\n</g>\n<!-- 7&#45;&gt;13 -->\n<g id=\"edge13\" class=\"edge\">\n<title>7&#45;&gt;13</title>\n<path fill=\"none\" stroke=\"black\" d=\"M471.9,-712.88C489.06,-700.9 508.38,-687.4 525.34,-675.55\"/>\n<polygon fill=\"black\" stroke=\"black\" points=\"527.78,-678.12 533.97,-669.52 523.77,-672.38 527.78,-678.12\"/>\n</g>\n<!-- 9 -->\n<g id=\"node10\" class=\"node\">\n<title>9</title>\n<polygon fill=\"#ba6aec\" stroke=\"black\" points=\"331,-573 116,-573 116,-505 331,-505 331,-573\"/>\n<text text-anchor=\"middle\" x=\"223.5\" y=\"-557.8\" font-family=\"Helvetica,sans-Serif\" font-size=\"14.00\">radius_multiplier &lt;= 0.13</text>\n<text text-anchor=\"middle\" x=\"223.5\" y=\"-542.8\" font-family=\"Helvetica,sans-Serif\" font-size=\"14.00\">entropy = 0.722</text>\n<text text-anchor=\"middle\" x=\"223.5\" y=\"-527.8\" font-family=\"Helvetica,sans-Serif\" font-size=\"14.00\">samples = 5</text>\n<text text-anchor=\"middle\" x=\"223.5\" y=\"-512.8\" font-family=\"Helvetica,sans-Serif\" font-size=\"14.00\">value = [0, 0, 0, 0, 0, 0, 0, 4, 1, 0]</text>\n</g>\n<!-- 8&#45;&gt;9 -->\n<g id=\"edge9\" class=\"edge\">\n<title>8&#45;&gt;9</title>\n<path fill=\"none\" stroke=\"black\" d=\"M300.49,-608.88C290.23,-599.71 278.99,-589.65 268.34,-580.12\"/>\n<polygon fill=\"black\" stroke=\"black\" points=\"270.5,-577.36 260.72,-573.3 265.84,-582.58 270.5,-577.36\"/>\n</g>\n<!-- 12 -->\n<g id=\"node13\" class=\"node\">\n<title>12</title>\n<polygon fill=\"#e539c0\" stroke=\"black\" points=\"564,-565.5 349,-565.5 349,-512.5 564,-512.5 564,-565.5\"/>\n<text text-anchor=\"middle\" x=\"456.5\" y=\"-550.3\" font-family=\"Helvetica,sans-Serif\" font-size=\"14.00\">entropy = 0.0</text>\n<text text-anchor=\"middle\" x=\"456.5\" y=\"-535.3\" font-family=\"Helvetica,sans-Serif\" font-size=\"14.00\">samples = 2</text>\n<text text-anchor=\"middle\" x=\"456.5\" y=\"-520.3\" font-family=\"Helvetica,sans-Serif\" font-size=\"14.00\">value = [0, 0, 0, 0, 0, 0, 0, 0, 2, 0]</text>\n</g>\n<!-- 8&#45;&gt;12 -->\n<g id=\"edge12\" class=\"edge\">\n<title>8&#45;&gt;12</title>\n<path fill=\"none\" stroke=\"black\" d=\"M376.14,-608.88C389.86,-597.12 405.29,-583.89 418.93,-572.2\"/>\n<polygon fill=\"black\" stroke=\"black\" points=\"421.41,-574.69 426.73,-565.52 416.86,-569.37 421.41,-574.69\"/>\n</g>\n<!-- 10 -->\n<g id=\"node11\" class=\"node\">\n<title>10</title>\n<polygon fill=\"#e539c0\" stroke=\"black\" points=\"215,-461.5 0,-461.5 0,-408.5 215,-408.5 215,-461.5\"/>\n<text text-anchor=\"middle\" x=\"107.5\" y=\"-446.3\" font-family=\"Helvetica,sans-Serif\" font-size=\"14.00\">entropy = 0.0</text>\n<text text-anchor=\"middle\" x=\"107.5\" y=\"-431.3\" font-family=\"Helvetica,sans-Serif\" font-size=\"14.00\">samples = 1</text>\n<text text-anchor=\"middle\" x=\"107.5\" y=\"-416.3\" font-family=\"Helvetica,sans-Serif\" font-size=\"14.00\">value = [0, 0, 0, 0, 0, 0, 0, 0, 1, 0]</text>\n</g>\n<!-- 9&#45;&gt;10 -->\n<g id=\"edge10\" class=\"edge\">\n<title>9&#45;&gt;10</title>\n<path fill=\"none\" stroke=\"black\" d=\"M185.84,-504.88C172.46,-493.12 157.42,-479.89 144.12,-468.2\"/>\n<polygon fill=\"black\" stroke=\"black\" points=\"146.34,-465.49 136.52,-461.52 141.72,-470.75 146.34,-465.49\"/>\n</g>\n<!-- 11 -->\n<g id=\"node12\" class=\"node\">\n<title>11</title>\n<polygon fill=\"#a339e5\" stroke=\"black\" points=\"448,-461.5 233,-461.5 233,-408.5 448,-408.5 448,-461.5\"/>\n<text text-anchor=\"middle\" x=\"340.5\" y=\"-446.3\" font-family=\"Helvetica,sans-Serif\" font-size=\"14.00\">entropy = 0.0</text>\n<text text-anchor=\"middle\" x=\"340.5\" y=\"-431.3\" font-family=\"Helvetica,sans-Serif\" font-size=\"14.00\">samples = 4</text>\n<text text-anchor=\"middle\" x=\"340.5\" y=\"-416.3\" font-family=\"Helvetica,sans-Serif\" font-size=\"14.00\">value = [0, 0, 0, 0, 0, 0, 0, 4, 0, 0]</text>\n</g>\n<!-- 9&#45;&gt;11 -->\n<g id=\"edge11\" class=\"edge\">\n<title>9&#45;&gt;11</title>\n<path fill=\"none\" stroke=\"black\" d=\"M261.49,-504.88C274.98,-493.12 290.15,-479.89 303.56,-468.2\"/>\n<polygon fill=\"black\" stroke=\"black\" points=\"305.99,-470.73 311.23,-461.52 301.39,-465.45 305.99,-470.73\"/>\n</g>\n<!-- 15 -->\n<g id=\"node16\" class=\"node\">\n<title>15</title>\n<polygon fill=\"#e539c0\" stroke=\"black\" points=\"769,-773.5 554,-773.5 554,-720.5 769,-720.5 769,-773.5\"/>\n<text text-anchor=\"middle\" x=\"661.5\" y=\"-758.3\" font-family=\"Helvetica,sans-Serif\" font-size=\"14.00\">entropy = 0.0</text>\n<text text-anchor=\"middle\" x=\"661.5\" y=\"-743.3\" font-family=\"Helvetica,sans-Serif\" font-size=\"14.00\">samples = 9</text>\n<text text-anchor=\"middle\" x=\"661.5\" y=\"-728.3\" font-family=\"Helvetica,sans-Serif\" font-size=\"14.00\">value = [0, 0, 0, 0, 0, 0, 0, 0, 9, 0]</text>\n</g>\n<!-- 14&#45;&gt;15 -->\n<g id=\"edge15\" class=\"edge\">\n<title>14&#45;&gt;15</title>\n<path fill=\"none\" stroke=\"black\" d=\"M687.84,-816.88C683.72,-806.11 679.13,-794.11 674.95,-783.18\"/>\n<polygon fill=\"black\" stroke=\"black\" points=\"678.1,-781.61 671.26,-773.52 671.56,-784.11 678.1,-781.61\"/>\n</g>\n<!-- 16 -->\n<g id=\"node17\" class=\"node\">\n<title>16</title>\n<polygon fill=\"#a339e5\" stroke=\"black\" points=\"1002,-773.5 787,-773.5 787,-720.5 1002,-720.5 1002,-773.5\"/>\n<text text-anchor=\"middle\" x=\"894.5\" y=\"-758.3\" font-family=\"Helvetica,sans-Serif\" font-size=\"14.00\">entropy = 0.0</text>\n<text text-anchor=\"middle\" x=\"894.5\" y=\"-743.3\" font-family=\"Helvetica,sans-Serif\" font-size=\"14.00\">samples = 1</text>\n<text text-anchor=\"middle\" x=\"894.5\" y=\"-728.3\" font-family=\"Helvetica,sans-Serif\" font-size=\"14.00\">value = [0, 0, 0, 0, 0, 0, 0, 1, 0, 0]</text>\n</g>\n<!-- 14&#45;&gt;16 -->\n<g id=\"edge16\" class=\"edge\">\n<title>14&#45;&gt;16</title>\n<path fill=\"none\" stroke=\"black\" d=\"M763.49,-816.88C787.12,-804.46 813.85,-790.41 836.96,-778.25\"/>\n<polygon fill=\"black\" stroke=\"black\" points=\"838.74,-781.27 845.96,-773.52 835.48,-775.08 838.74,-781.27\"/>\n</g>\n<!-- 18 -->\n<g id=\"node19\" class=\"node\">\n<title>18</title>\n<polygon fill=\"#a339e5\" stroke=\"black\" points=\"1075.5,-877.5 845.5,-877.5 845.5,-824.5 1075.5,-824.5 1075.5,-877.5\"/>\n<text text-anchor=\"middle\" x=\"960.5\" y=\"-862.3\" font-family=\"Helvetica,sans-Serif\" font-size=\"14.00\">entropy = 0.0</text>\n<text text-anchor=\"middle\" x=\"960.5\" y=\"-847.3\" font-family=\"Helvetica,sans-Serif\" font-size=\"14.00\">samples = 296</text>\n<text text-anchor=\"middle\" x=\"960.5\" y=\"-832.3\" font-family=\"Helvetica,sans-Serif\" font-size=\"14.00\">value = [0, 0, 0, 0, 0, 0, 0, 296, 0, 0]</text>\n</g>\n<!-- 17&#45;&gt;18 -->\n<g id=\"edge18\" class=\"edge\">\n<title>17&#45;&gt;18</title>\n<path fill=\"none\" stroke=\"black\" d=\"M1053.02,-920.88C1036.92,-908.9 1018.79,-895.4 1002.88,-883.55\"/>\n<polygon fill=\"black\" stroke=\"black\" points=\"1004.89,-880.68 994.78,-877.52 1000.71,-886.3 1004.89,-880.68\"/>\n</g>\n<!-- 19 -->\n<g id=\"node20\" class=\"node\">\n<title>19</title>\n<polygon fill=\"#b157e9\" stroke=\"black\" points=\"1315.5,-885 1093.5,-885 1093.5,-817 1315.5,-817 1315.5,-885\"/>\n<text text-anchor=\"middle\" x=\"1204.5\" y=\"-869.8\" font-family=\"Helvetica,sans-Serif\" font-size=\"14.00\">stellar_magnitude &lt;= &#45;1.546</text>\n<text text-anchor=\"middle\" x=\"1204.5\" y=\"-854.8\" font-family=\"Helvetica,sans-Serif\" font-size=\"14.00\">entropy = 0.567</text>\n<text text-anchor=\"middle\" x=\"1204.5\" y=\"-839.8\" font-family=\"Helvetica,sans-Serif\" font-size=\"14.00\">samples = 15</text>\n<text text-anchor=\"middle\" x=\"1204.5\" y=\"-824.8\" font-family=\"Helvetica,sans-Serif\" font-size=\"14.00\">value = [2, 0, 0, 0, 0, 0, 0, 13, 0, 0]</text>\n</g>\n<!-- 17&#45;&gt;19 -->\n<g id=\"edge19\" class=\"edge\">\n<title>17&#45;&gt;19</title>\n<path fill=\"none\" stroke=\"black\" d=\"M1132.24,-920.88C1141.77,-911.8 1152.21,-901.85 1162.12,-892.4\"/>\n<polygon fill=\"black\" stroke=\"black\" points=\"1164.75,-894.73 1169.57,-885.3 1159.92,-889.67 1164.75,-894.73\"/>\n</g>\n<!-- 20 -->\n<g id=\"node21\" class=\"node\">\n<title>20</title>\n<polygon fill=\"#e0bdf6\" stroke=\"black\" points=\"1235,-781 1020,-781 1020,-713 1235,-713 1235,-781\"/>\n<text text-anchor=\"middle\" x=\"1127.5\" y=\"-765.8\" font-family=\"Helvetica,sans-Serif\" font-size=\"14.00\">orbital_radius &lt;= 1.704</text>\n<text text-anchor=\"middle\" x=\"1127.5\" y=\"-750.8\" font-family=\"Helvetica,sans-Serif\" font-size=\"14.00\">entropy = 0.971</text>\n<text text-anchor=\"middle\" x=\"1127.5\" y=\"-735.8\" font-family=\"Helvetica,sans-Serif\" font-size=\"14.00\">samples = 5</text>\n<text text-anchor=\"middle\" x=\"1127.5\" y=\"-720.8\" font-family=\"Helvetica,sans-Serif\" font-size=\"14.00\">value = [2, 0, 0, 0, 0, 0, 0, 3, 0, 0]</text>\n</g>\n<!-- 19&#45;&gt;20 -->\n<g id=\"edge20\" class=\"edge\">\n<title>19&#45;&gt;20</title>\n<path fill=\"none\" stroke=\"black\" d=\"M1179.5,-816.88C1172.91,-808.15 1165.72,-798.62 1158.84,-789.51\"/>\n<polygon fill=\"black\" stroke=\"black\" points=\"1161.46,-787.17 1152.64,-781.3 1155.87,-791.39 1161.46,-787.17\"/>\n</g>\n<!-- 25 -->\n<g id=\"node26\" class=\"node\">\n<title>25</title>\n<polygon fill=\"#a339e5\" stroke=\"black\" points=\"1475.5,-773.5 1253.5,-773.5 1253.5,-720.5 1475.5,-720.5 1475.5,-773.5\"/>\n<text text-anchor=\"middle\" x=\"1364.5\" y=\"-758.3\" font-family=\"Helvetica,sans-Serif\" font-size=\"14.00\">entropy = 0.0</text>\n<text text-anchor=\"middle\" x=\"1364.5\" y=\"-743.3\" font-family=\"Helvetica,sans-Serif\" font-size=\"14.00\">samples = 10</text>\n<text text-anchor=\"middle\" x=\"1364.5\" y=\"-728.3\" font-family=\"Helvetica,sans-Serif\" font-size=\"14.00\">value = [0, 0, 0, 0, 0, 0, 0, 10, 0, 0]</text>\n</g>\n<!-- 19&#45;&gt;25 -->\n<g id=\"edge25\" class=\"edge\">\n<title>19&#45;&gt;25</title>\n<path fill=\"none\" stroke=\"black\" d=\"M1256.45,-816.88C1275.6,-804.68 1297.2,-790.9 1316.03,-778.9\"/>\n<polygon fill=\"black\" stroke=\"black\" points=\"1317.92,-781.85 1324.47,-773.52 1314.15,-775.94 1317.92,-781.85\"/>\n</g>\n<!-- 21 -->\n<g id=\"node22\" class=\"node\">\n<title>21</title>\n<polygon fill=\"#f2c09c\" stroke=\"black\" points=\"1045,-677 830,-677 830,-609 1045,-609 1045,-677\"/>\n<text text-anchor=\"middle\" x=\"937.5\" y=\"-661.8\" font-family=\"Helvetica,sans-Serif\" font-size=\"14.00\">eccentricity &lt;= 1.134</text>\n<text text-anchor=\"middle\" x=\"937.5\" y=\"-646.8\" font-family=\"Helvetica,sans-Serif\" font-size=\"14.00\">entropy = 0.918</text>\n<text text-anchor=\"middle\" x=\"937.5\" y=\"-631.8\" font-family=\"Helvetica,sans-Serif\" font-size=\"14.00\">samples = 3</text>\n<text text-anchor=\"middle\" x=\"937.5\" y=\"-616.8\" font-family=\"Helvetica,sans-Serif\" font-size=\"14.00\">value = [2, 0, 0, 0, 0, 0, 0, 1, 0, 0]</text>\n</g>\n<!-- 20&#45;&gt;21 -->\n<g id=\"edge21\" class=\"edge\">\n<title>20&#45;&gt;21</title>\n<path fill=\"none\" stroke=\"black\" d=\"M1065.81,-712.88C1047.38,-702.99 1027.04,-692.07 1008.09,-681.9\"/>\n<polygon fill=\"black\" stroke=\"black\" points=\"1009.67,-678.77 999.2,-677.12 1006.36,-684.94 1009.67,-678.77\"/>\n</g>\n<!-- 24 -->\n<g id=\"node25\" class=\"node\">\n<title>24</title>\n<polygon fill=\"#a339e5\" stroke=\"black\" points=\"1278,-669.5 1063,-669.5 1063,-616.5 1278,-616.5 1278,-669.5\"/>\n<text text-anchor=\"middle\" x=\"1170.5\" y=\"-654.3\" font-family=\"Helvetica,sans-Serif\" font-size=\"14.00\">entropy = 0.0</text>\n<text text-anchor=\"middle\" x=\"1170.5\" y=\"-639.3\" font-family=\"Helvetica,sans-Serif\" font-size=\"14.00\">samples = 2</text>\n<text text-anchor=\"middle\" x=\"1170.5\" y=\"-624.3\" font-family=\"Helvetica,sans-Serif\" font-size=\"14.00\">value = [0, 0, 0, 0, 0, 0, 0, 2, 0, 0]</text>\n</g>\n<!-- 20&#45;&gt;24 -->\n<g id=\"edge24\" class=\"edge\">\n<title>20&#45;&gt;24</title>\n<path fill=\"none\" stroke=\"black\" d=\"M1141.46,-712.88C1146.05,-702 1151.17,-689.86 1155.81,-678.85\"/>\n<polygon fill=\"black\" stroke=\"black\" points=\"1159.08,-680.09 1159.74,-669.52 1152.63,-677.37 1159.08,-680.09\"/>\n</g>\n<!-- 22 -->\n<g id=\"node23\" class=\"node\">\n<title>22</title>\n<polygon fill=\"#a339e5\" stroke=\"black\" points=\"856,-565.5 641,-565.5 641,-512.5 856,-512.5 856,-565.5\"/>\n<text text-anchor=\"middle\" x=\"748.5\" y=\"-550.3\" font-family=\"Helvetica,sans-Serif\" font-size=\"14.00\">entropy = 0.0</text>\n<text text-anchor=\"middle\" x=\"748.5\" y=\"-535.3\" font-family=\"Helvetica,sans-Serif\" font-size=\"14.00\">samples = 1</text>\n<text text-anchor=\"middle\" x=\"748.5\" y=\"-520.3\" font-family=\"Helvetica,sans-Serif\" font-size=\"14.00\">value = [0, 0, 0, 0, 0, 0, 0, 1, 0, 0]</text>\n</g>\n<!-- 21&#45;&gt;22 -->\n<g id=\"edge22\" class=\"edge\">\n<title>21&#45;&gt;22</title>\n<path fill=\"none\" stroke=\"black\" d=\"M876.14,-608.88C853.21,-596.51 827.31,-582.53 804.85,-570.41\"/>\n<polygon fill=\"black\" stroke=\"black\" points=\"806.25,-567.19 795.79,-565.52 802.92,-573.35 806.25,-567.19\"/>\n</g>\n<!-- 23 -->\n<g id=\"node24\" class=\"node\">\n<title>23</title>\n<polygon fill=\"#e58139\" stroke=\"black\" points=\"1089,-565.5 874,-565.5 874,-512.5 1089,-512.5 1089,-565.5\"/>\n<text text-anchor=\"middle\" x=\"981.5\" y=\"-550.3\" font-family=\"Helvetica,sans-Serif\" font-size=\"14.00\">entropy = 0.0</text>\n<text text-anchor=\"middle\" x=\"981.5\" y=\"-535.3\" font-family=\"Helvetica,sans-Serif\" font-size=\"14.00\">samples = 2</text>\n<text text-anchor=\"middle\" x=\"981.5\" y=\"-520.3\" font-family=\"Helvetica,sans-Serif\" font-size=\"14.00\">value = [2, 0, 0, 0, 0, 0, 0, 0, 0, 0]</text>\n</g>\n<!-- 21&#45;&gt;23 -->\n<g id=\"edge23\" class=\"edge\">\n<title>21&#45;&gt;23</title>\n<path fill=\"none\" stroke=\"black\" d=\"M951.79,-608.88C956.48,-598 961.72,-585.86 966.47,-574.85\"/>\n<polygon fill=\"black\" stroke=\"black\" points=\"969.74,-576.09 970.49,-565.52 963.32,-573.32 969.74,-576.09\"/>\n</g>\n<!-- 27 -->\n<g id=\"node28\" class=\"node\">\n<title>27</title>\n<polygon fill=\"#e58139\" stroke=\"black\" points=\"1505,-981.5 1290,-981.5 1290,-928.5 1505,-928.5 1505,-981.5\"/>\n<text text-anchor=\"middle\" x=\"1397.5\" y=\"-966.3\" font-family=\"Helvetica,sans-Serif\" font-size=\"14.00\">entropy = 0.0</text>\n<text text-anchor=\"middle\" x=\"1397.5\" y=\"-951.3\" font-family=\"Helvetica,sans-Serif\" font-size=\"14.00\">samples = 9</text>\n<text text-anchor=\"middle\" x=\"1397.5\" y=\"-936.3\" font-family=\"Helvetica,sans-Serif\" font-size=\"14.00\">value = [9, 0, 0, 0, 0, 0, 0, 0, 0, 0]</text>\n</g>\n<!-- 26&#45;&gt;27 -->\n<g id=\"edge27\" class=\"edge\">\n<title>26&#45;&gt;27</title>\n<path fill=\"none\" stroke=\"black\" d=\"M1437.34,-1024.88C1430.92,-1013.78 1423.74,-1001.37 1417.27,-990.18\"/>\n<polygon fill=\"black\" stroke=\"black\" points=\"1420.3,-988.42 1412.26,-981.52 1414.24,-991.93 1420.3,-988.42\"/>\n</g>\n<!-- 28 -->\n<g id=\"node29\" class=\"node\">\n<title>28</title>\n<polygon fill=\"#e2e539\" stroke=\"black\" points=\"1738,-981.5 1523,-981.5 1523,-928.5 1738,-928.5 1738,-981.5\"/>\n<text text-anchor=\"middle\" x=\"1630.5\" y=\"-966.3\" font-family=\"Helvetica,sans-Serif\" font-size=\"14.00\">entropy = 0.0</text>\n<text text-anchor=\"middle\" x=\"1630.5\" y=\"-951.3\" font-family=\"Helvetica,sans-Serif\" font-size=\"14.00\">samples = 1</text>\n<text text-anchor=\"middle\" x=\"1630.5\" y=\"-936.3\" font-family=\"Helvetica,sans-Serif\" font-size=\"14.00\">value = [0, 1, 0, 0, 0, 0, 0, 0, 0, 0]</text>\n</g>\n<!-- 26&#45;&gt;28 -->\n<g id=\"edge28\" class=\"edge\">\n<title>26&#45;&gt;28</title>\n<path fill=\"none\" stroke=\"black\" d=\"M1512.99,-1024.88C1533.91,-1012.62 1557.52,-998.78 1578.07,-986.74\"/>\n<polygon fill=\"black\" stroke=\"black\" points=\"1580.11,-989.6 1586.97,-981.52 1576.57,-983.56 1580.11,-989.6\"/>\n</g>\n<!-- 30 -->\n<g id=\"node31\" class=\"node\">\n<title>30</title>\n<polygon fill=\"#bd71ec\" stroke=\"black\" points=\"2303.5,-1093 2073.5,-1093 2073.5,-1025 2303.5,-1025 2303.5,-1093\"/>\n<text text-anchor=\"middle\" x=\"2188.5\" y=\"-1077.8\" font-family=\"Helvetica,sans-Serif\" font-size=\"14.00\">discovery_year &lt;= 0.658</text>\n<text text-anchor=\"middle\" x=\"2188.5\" y=\"-1062.8\" font-family=\"Helvetica,sans-Serif\" font-size=\"14.00\">entropy = 0.839</text>\n<text text-anchor=\"middle\" x=\"2188.5\" y=\"-1047.8\" font-family=\"Helvetica,sans-Serif\" font-size=\"14.00\">samples = 76</text>\n<text text-anchor=\"middle\" x=\"2188.5\" y=\"-1032.8\" font-family=\"Helvetica,sans-Serif\" font-size=\"14.00\">value = [1, 0, 0, 0, 0, 0, 0, 59, 16, 0]</text>\n</g>\n<!-- 29&#45;&gt;30 -->\n<g id=\"edge30\" class=\"edge\">\n<title>29&#45;&gt;30</title>\n<path fill=\"none\" stroke=\"black\" d=\"M2372.19,-1128.88C2344.73,-1118.59 2314.31,-1107.18 2286.25,-1096.66\"/>\n<polygon fill=\"black\" stroke=\"black\" points=\"2287.42,-1093.36 2276.83,-1093.12 2284.97,-1099.91 2287.42,-1093.36\"/>\n</g>\n<!-- 43 -->\n<g id=\"node44\" class=\"node\">\n<title>43</title>\n<polygon fill=\"#ec6fd1\" stroke=\"black\" points=\"2954.5,-1093 2724.5,-1093 2724.5,-1025 2954.5,-1025 2954.5,-1093\"/>\n<text text-anchor=\"middle\" x=\"2839.5\" y=\"-1077.8\" font-family=\"Helvetica,sans-Serif\" font-size=\"14.00\">orbital_period &lt;= 0.878</text>\n<text text-anchor=\"middle\" x=\"2839.5\" y=\"-1062.8\" font-family=\"Helvetica,sans-Serif\" font-size=\"14.00\">entropy = 0.877</text>\n<text text-anchor=\"middle\" x=\"2839.5\" y=\"-1047.8\" font-family=\"Helvetica,sans-Serif\" font-size=\"14.00\">samples = 77</text>\n<text text-anchor=\"middle\" x=\"2839.5\" y=\"-1032.8\" font-family=\"Helvetica,sans-Serif\" font-size=\"14.00\">value = [0, 0, 0, 0, 0, 0, 0, 15, 60, 2]</text>\n</g>\n<!-- 29&#45;&gt;43 -->\n<g id=\"edge43\" class=\"edge\">\n<title>29&#45;&gt;43</title>\n<path fill=\"none\" stroke=\"black\" d=\"M2575.76,-1130.98C2619.68,-1119.16 2669.93,-1105.64 2714.7,-1093.59\"/>\n<polygon fill=\"black\" stroke=\"black\" points=\"2715.72,-1096.94 2724.47,-1090.96 2713.9,-1090.18 2715.72,-1096.94\"/>\n</g>\n<!-- 31 -->\n<g id=\"node32\" class=\"node\">\n<title>31</title>\n<polygon fill=\"#a339e5\" stroke=\"black\" points=\"2055.5,-981.5 1833.5,-981.5 1833.5,-928.5 2055.5,-928.5 2055.5,-981.5\"/>\n<text text-anchor=\"middle\" x=\"1944.5\" y=\"-966.3\" font-family=\"Helvetica,sans-Serif\" font-size=\"14.00\">entropy = 0.0</text>\n<text text-anchor=\"middle\" x=\"1944.5\" y=\"-951.3\" font-family=\"Helvetica,sans-Serif\" font-size=\"14.00\">samples = 38</text>\n<text text-anchor=\"middle\" x=\"1944.5\" y=\"-936.3\" font-family=\"Helvetica,sans-Serif\" font-size=\"14.00\">value = [0, 0, 0, 0, 0, 0, 0, 38, 0, 0]</text>\n</g>\n<!-- 30&#45;&gt;31 -->\n<g id=\"edge31\" class=\"edge\">\n<title>30&#45;&gt;31</title>\n<path fill=\"none\" stroke=\"black\" d=\"M2109.28,-1024.88C2078.89,-1012.18 2044.45,-997.78 2014.94,-985.45\"/>\n<polygon fill=\"black\" stroke=\"black\" points=\"2016.12,-982.15 2005.55,-981.52 2013.42,-988.61 2016.12,-982.15\"/>\n</g>\n<!-- 32 -->\n<g id=\"node33\" class=\"node\">\n<title>32</title>\n<polygon fill=\"#ead2f9\" stroke=\"black\" points=\"2303.5,-989 2073.5,-989 2073.5,-921 2303.5,-921 2303.5,-989\"/>\n<text text-anchor=\"middle\" x=\"2188.5\" y=\"-973.8\" font-family=\"Helvetica,sans-Serif\" font-size=\"14.00\">planet_type &lt;= &#45;0.639</text>\n<text text-anchor=\"middle\" x=\"2188.5\" y=\"-958.8\" font-family=\"Helvetica,sans-Serif\" font-size=\"14.00\">entropy = 1.136</text>\n<text text-anchor=\"middle\" x=\"2188.5\" y=\"-943.8\" font-family=\"Helvetica,sans-Serif\" font-size=\"14.00\">samples = 38</text>\n<text text-anchor=\"middle\" x=\"2188.5\" y=\"-928.8\" font-family=\"Helvetica,sans-Serif\" font-size=\"14.00\">value = [1, 0, 0, 0, 0, 0, 0, 21, 16, 0]</text>\n</g>\n<!-- 30&#45;&gt;32 -->\n<g id=\"edge32\" class=\"edge\">\n<title>30&#45;&gt;32</title>\n<path fill=\"none\" stroke=\"black\" d=\"M2188.5,-1024.88C2188.5,-1016.78 2188.5,-1007.98 2188.5,-999.47\"/>\n<polygon fill=\"black\" stroke=\"black\" points=\"2192,-999.3 2188.5,-989.3 2185,-999.3 2192,-999.3\"/>\n</g>\n<!-- 33 -->\n<g id=\"node34\" class=\"node\">\n<title>33</title>\n<polygon fill=\"#aa48e7\" stroke=\"black\" points=\"1952.5,-885 1730.5,-885 1730.5,-817 1952.5,-817 1952.5,-885\"/>\n<text text-anchor=\"middle\" x=\"1841.5\" y=\"-869.8\" font-family=\"Helvetica,sans-Serif\" font-size=\"14.00\">radius_multiplier &lt;= 0.588</text>\n<text text-anchor=\"middle\" x=\"1841.5\" y=\"-854.8\" font-family=\"Helvetica,sans-Serif\" font-size=\"14.00\">entropy = 0.371</text>\n<text text-anchor=\"middle\" x=\"1841.5\" y=\"-839.8\" font-family=\"Helvetica,sans-Serif\" font-size=\"14.00\">samples = 14</text>\n<text text-anchor=\"middle\" x=\"1841.5\" y=\"-824.8\" font-family=\"Helvetica,sans-Serif\" font-size=\"14.00\">value = [1, 0, 0, 0, 0, 0, 0, 13, 0, 0]</text>\n</g>\n<!-- 32&#45;&gt;33 -->\n<g id=\"edge33\" class=\"edge\">\n<title>32&#45;&gt;33</title>\n<path fill=\"none\" stroke=\"black\" d=\"M2075.84,-920.88C2039.6,-910.23 1999.3,-898.39 1962.49,-887.56\"/>\n<polygon fill=\"black\" stroke=\"black\" points=\"1963.29,-884.15 1952.71,-884.69 1961.31,-890.87 1963.29,-884.15\"/>\n</g>\n<!-- 36 -->\n<g id=\"node37\" class=\"node\">\n<title>36</title>\n<polygon fill=\"#f29ce0\" stroke=\"black\" points=\"2299.5,-885 2077.5,-885 2077.5,-817 2299.5,-817 2299.5,-885\"/>\n<text text-anchor=\"middle\" x=\"2188.5\" y=\"-869.8\" font-family=\"Helvetica,sans-Serif\" font-size=\"14.00\">eccentricity &lt;= 0.829</text>\n<text text-anchor=\"middle\" x=\"2188.5\" y=\"-854.8\" font-family=\"Helvetica,sans-Serif\" font-size=\"14.00\">entropy = 0.918</text>\n<text text-anchor=\"middle\" x=\"2188.5\" y=\"-839.8\" font-family=\"Helvetica,sans-Serif\" font-size=\"14.00\">samples = 24</text>\n<text text-anchor=\"middle\" x=\"2188.5\" y=\"-824.8\" font-family=\"Helvetica,sans-Serif\" font-size=\"14.00\">value = [0, 0, 0, 0, 0, 0, 0, 8, 16, 0]</text>\n</g>\n<!-- 32&#45;&gt;36 -->\n<g id=\"edge36\" class=\"edge\">\n<title>32&#45;&gt;36</title>\n<path fill=\"none\" stroke=\"black\" d=\"M2188.5,-920.88C2188.5,-912.78 2188.5,-903.98 2188.5,-895.47\"/>\n<polygon fill=\"black\" stroke=\"black\" points=\"2192,-895.3 2188.5,-885.3 2185,-895.3 2192,-895.3\"/>\n</g>\n<!-- 34 -->\n<g id=\"node35\" class=\"node\">\n<title>34</title>\n<polygon fill=\"#a339e5\" stroke=\"black\" points=\"1715.5,-773.5 1493.5,-773.5 1493.5,-720.5 1715.5,-720.5 1715.5,-773.5\"/>\n<text text-anchor=\"middle\" x=\"1604.5\" y=\"-758.3\" font-family=\"Helvetica,sans-Serif\" font-size=\"14.00\">entropy = 0.0</text>\n<text text-anchor=\"middle\" x=\"1604.5\" y=\"-743.3\" font-family=\"Helvetica,sans-Serif\" font-size=\"14.00\">samples = 13</text>\n<text text-anchor=\"middle\" x=\"1604.5\" y=\"-728.3\" font-family=\"Helvetica,sans-Serif\" font-size=\"14.00\">value = [0, 0, 0, 0, 0, 0, 0, 13, 0, 0]</text>\n</g>\n<!-- 33&#45;&gt;34 -->\n<g id=\"edge34\" class=\"edge\">\n<title>33&#45;&gt;34</title>\n<path fill=\"none\" stroke=\"black\" d=\"M1764.55,-816.88C1735.17,-804.24 1701.88,-789.91 1673.3,-777.61\"/>\n<polygon fill=\"black\" stroke=\"black\" points=\"1674.37,-774.26 1663.8,-773.52 1671.6,-780.69 1674.37,-774.26\"/>\n</g>\n<!-- 35 -->\n<g id=\"node36\" class=\"node\">\n<title>35</title>\n<polygon fill=\"#e58139\" stroke=\"black\" points=\"1949,-773.5 1734,-773.5 1734,-720.5 1949,-720.5 1949,-773.5\"/>\n<text text-anchor=\"middle\" x=\"1841.5\" y=\"-758.3\" font-family=\"Helvetica,sans-Serif\" font-size=\"14.00\">entropy = 0.0</text>\n<text text-anchor=\"middle\" x=\"1841.5\" y=\"-743.3\" font-family=\"Helvetica,sans-Serif\" font-size=\"14.00\">samples = 1</text>\n<text text-anchor=\"middle\" x=\"1841.5\" y=\"-728.3\" font-family=\"Helvetica,sans-Serif\" font-size=\"14.00\">value = [1, 0, 0, 0, 0, 0, 0, 0, 0, 0]</text>\n</g>\n<!-- 33&#45;&gt;35 -->\n<g id=\"edge35\" class=\"edge\">\n<title>33&#45;&gt;35</title>\n<path fill=\"none\" stroke=\"black\" d=\"M1841.5,-816.88C1841.5,-806.33 1841.5,-794.6 1841.5,-783.85\"/>\n<polygon fill=\"black\" stroke=\"black\" points=\"1845,-783.52 1841.5,-773.52 1838,-783.52 1845,-783.52\"/>\n</g>\n<!-- 37 -->\n<g id=\"node38\" class=\"node\">\n<title>37</title>\n<polygon fill=\"#e853c8\" stroke=\"black\" points=\"2189.5,-781 1967.5,-781 1967.5,-713 2189.5,-713 2189.5,-781\"/>\n<text text-anchor=\"middle\" x=\"2078.5\" y=\"-765.8\" font-family=\"Helvetica,sans-Serif\" font-size=\"14.00\">distance &lt;= &#45;1.377</text>\n<text text-anchor=\"middle\" x=\"2078.5\" y=\"-750.8\" font-family=\"Helvetica,sans-Serif\" font-size=\"14.00\">entropy = 0.523</text>\n<text text-anchor=\"middle\" x=\"2078.5\" y=\"-735.8\" font-family=\"Helvetica,sans-Serif\" font-size=\"14.00\">samples = 17</text>\n<text text-anchor=\"middle\" x=\"2078.5\" y=\"-720.8\" font-family=\"Helvetica,sans-Serif\" font-size=\"14.00\">value = [0, 0, 0, 0, 0, 0, 0, 2, 15, 0]</text>\n</g>\n<!-- 36&#45;&gt;37 -->\n<g id=\"edge37\" class=\"edge\">\n<title>36&#45;&gt;37</title>\n<path fill=\"none\" stroke=\"black\" d=\"M2152.79,-816.88C2142.89,-807.71 2132.04,-797.65 2121.77,-788.12\"/>\n<polygon fill=\"black\" stroke=\"black\" points=\"2124.12,-785.53 2114.41,-781.3 2119.36,-790.67 2124.12,-785.53\"/>\n</g>\n<!-- 40 -->\n<g id=\"node41\" class=\"node\">\n<title>40</title>\n<polygon fill=\"#b25ae9\" stroke=\"black\" points=\"2423,-781 2208,-781 2208,-713 2423,-713 2423,-781\"/>\n<text text-anchor=\"middle\" x=\"2315.5\" y=\"-765.8\" font-family=\"Helvetica,sans-Serif\" font-size=\"14.00\">stellar_magnitude &lt;= &#45;1.253</text>\n<text text-anchor=\"middle\" x=\"2315.5\" y=\"-750.8\" font-family=\"Helvetica,sans-Serif\" font-size=\"14.00\">entropy = 0.592</text>\n<text text-anchor=\"middle\" x=\"2315.5\" y=\"-735.8\" font-family=\"Helvetica,sans-Serif\" font-size=\"14.00\">samples = 7</text>\n<text text-anchor=\"middle\" x=\"2315.5\" y=\"-720.8\" font-family=\"Helvetica,sans-Serif\" font-size=\"14.00\">value = [0, 0, 0, 0, 0, 0, 0, 6, 1, 0]</text>\n</g>\n<!-- 36&#45;&gt;40 -->\n<g id=\"edge40\" class=\"edge\">\n<title>36&#45;&gt;40</title>\n<path fill=\"none\" stroke=\"black\" d=\"M2229.73,-816.88C2241.38,-807.53 2254.17,-797.26 2266.23,-787.57\"/>\n<polygon fill=\"black\" stroke=\"black\" points=\"2268.43,-790.29 2274.04,-781.3 2264.05,-784.83 2268.43,-790.29\"/>\n</g>\n<!-- 38 -->\n<g id=\"node39\" class=\"node\">\n<title>38</title>\n<polygon fill=\"#a339e5\" stroke=\"black\" points=\"1949,-669.5 1734,-669.5 1734,-616.5 1949,-616.5 1949,-669.5\"/>\n<text text-anchor=\"middle\" x=\"1841.5\" y=\"-654.3\" font-family=\"Helvetica,sans-Serif\" font-size=\"14.00\">entropy = 0.0</text>\n<text text-anchor=\"middle\" x=\"1841.5\" y=\"-639.3\" font-family=\"Helvetica,sans-Serif\" font-size=\"14.00\">samples = 2</text>\n<text text-anchor=\"middle\" x=\"1841.5\" y=\"-624.3\" font-family=\"Helvetica,sans-Serif\" font-size=\"14.00\">value = [0, 0, 0, 0, 0, 0, 0, 2, 0, 0]</text>\n</g>\n<!-- 37&#45;&gt;38 -->\n<g id=\"edge38\" class=\"edge\">\n<title>37&#45;&gt;38</title>\n<path fill=\"none\" stroke=\"black\" d=\"M2001.55,-712.88C1972.17,-700.24 1938.88,-685.91 1910.3,-673.61\"/>\n<polygon fill=\"black\" stroke=\"black\" points=\"1911.37,-670.26 1900.8,-669.52 1908.6,-676.69 1911.37,-670.26\"/>\n</g>\n<!-- 39 -->\n<g id=\"node40\" class=\"node\">\n<title>39</title>\n<polygon fill=\"#e539c0\" stroke=\"black\" points=\"2189.5,-669.5 1967.5,-669.5 1967.5,-616.5 2189.5,-616.5 2189.5,-669.5\"/>\n<text text-anchor=\"middle\" x=\"2078.5\" y=\"-654.3\" font-family=\"Helvetica,sans-Serif\" font-size=\"14.00\">entropy = 0.0</text>\n<text text-anchor=\"middle\" x=\"2078.5\" y=\"-639.3\" font-family=\"Helvetica,sans-Serif\" font-size=\"14.00\">samples = 15</text>\n<text text-anchor=\"middle\" x=\"2078.5\" y=\"-624.3\" font-family=\"Helvetica,sans-Serif\" font-size=\"14.00\">value = [0, 0, 0, 0, 0, 0, 0, 0, 15, 0]</text>\n</g>\n<!-- 37&#45;&gt;39 -->\n<g id=\"edge39\" class=\"edge\">\n<title>37&#45;&gt;39</title>\n<path fill=\"none\" stroke=\"black\" d=\"M2078.5,-712.88C2078.5,-702.33 2078.5,-690.6 2078.5,-679.85\"/>\n<polygon fill=\"black\" stroke=\"black\" points=\"2082,-679.52 2078.5,-669.52 2075,-679.52 2082,-679.52\"/>\n</g>\n<!-- 41 -->\n<g id=\"node42\" class=\"node\">\n<title>41</title>\n<polygon fill=\"#e539c0\" stroke=\"black\" points=\"2423,-669.5 2208,-669.5 2208,-616.5 2423,-616.5 2423,-669.5\"/>\n<text text-anchor=\"middle\" x=\"2315.5\" y=\"-654.3\" font-family=\"Helvetica,sans-Serif\" font-size=\"14.00\">entropy = 0.0</text>\n<text text-anchor=\"middle\" x=\"2315.5\" y=\"-639.3\" font-family=\"Helvetica,sans-Serif\" font-size=\"14.00\">samples = 1</text>\n<text text-anchor=\"middle\" x=\"2315.5\" y=\"-624.3\" font-family=\"Helvetica,sans-Serif\" font-size=\"14.00\">value = [0, 0, 0, 0, 0, 0, 0, 0, 1, 0]</text>\n</g>\n<!-- 40&#45;&gt;41 -->\n<g id=\"edge41\" class=\"edge\">\n<title>40&#45;&gt;41</title>\n<path fill=\"none\" stroke=\"black\" d=\"M2315.5,-712.88C2315.5,-702.33 2315.5,-690.6 2315.5,-679.85\"/>\n<polygon fill=\"black\" stroke=\"black\" points=\"2319,-679.52 2315.5,-669.52 2312,-679.52 2319,-679.52\"/>\n</g>\n<!-- 42 -->\n<g id=\"node43\" class=\"node\">\n<title>42</title>\n<polygon fill=\"#a339e5\" stroke=\"black\" points=\"2656,-669.5 2441,-669.5 2441,-616.5 2656,-616.5 2656,-669.5\"/>\n<text text-anchor=\"middle\" x=\"2548.5\" y=\"-654.3\" font-family=\"Helvetica,sans-Serif\" font-size=\"14.00\">entropy = 0.0</text>\n<text text-anchor=\"middle\" x=\"2548.5\" y=\"-639.3\" font-family=\"Helvetica,sans-Serif\" font-size=\"14.00\">samples = 6</text>\n<text text-anchor=\"middle\" x=\"2548.5\" y=\"-624.3\" font-family=\"Helvetica,sans-Serif\" font-size=\"14.00\">value = [0, 0, 0, 0, 0, 0, 0, 6, 0, 0]</text>\n</g>\n<!-- 40&#45;&gt;42 -->\n<g id=\"edge42\" class=\"edge\">\n<title>40&#45;&gt;42</title>\n<path fill=\"none\" stroke=\"black\" d=\"M2391.15,-712.88C2420.04,-700.24 2452.77,-685.91 2480.87,-673.61\"/>\n<polygon fill=\"black\" stroke=\"black\" points=\"2482.45,-676.74 2490.2,-669.52 2479.64,-670.32 2482.45,-676.74\"/>\n</g>\n<!-- 44 -->\n<g id=\"node45\" class=\"node\">\n<title>44</title>\n<polygon fill=\"#e747c4\" stroke=\"black\" points=\"2950.5,-989 2728.5,-989 2728.5,-921 2950.5,-921 2950.5,-989\"/>\n<text text-anchor=\"middle\" x=\"2839.5\" y=\"-973.8\" font-family=\"Helvetica,sans-Serif\" font-size=\"14.00\">mass_multiplier &lt;= &#45;1.908</text>\n<text text-anchor=\"middle\" x=\"2839.5\" y=\"-958.8\" font-family=\"Helvetica,sans-Serif\" font-size=\"14.00\">entropy = 0.42</text>\n<text text-anchor=\"middle\" x=\"2839.5\" y=\"-943.8\" font-family=\"Helvetica,sans-Serif\" font-size=\"14.00\">samples = 60</text>\n<text text-anchor=\"middle\" x=\"2839.5\" y=\"-928.8\" font-family=\"Helvetica,sans-Serif\" font-size=\"14.00\">value = [0, 0, 0, 0, 0, 0, 0, 2, 56, 2]</text>\n</g>\n<!-- 43&#45;&gt;44 -->\n<g id=\"edge44\" class=\"edge\">\n<title>43&#45;&gt;44</title>\n<path fill=\"none\" stroke=\"black\" d=\"M2839.5,-1024.88C2839.5,-1016.78 2839.5,-1007.98 2839.5,-999.47\"/>\n<polygon fill=\"black\" stroke=\"black\" points=\"2843,-999.3 2839.5,-989.3 2836,-999.3 2843,-999.3\"/>\n</g>\n<!-- 53 -->\n<g id=\"node54\" class=\"node\">\n<title>53</title>\n<polygon fill=\"#bf76ed\" stroke=\"black\" points=\"3307.5,-989 3085.5,-989 3085.5,-921 3307.5,-921 3307.5,-989\"/>\n<text text-anchor=\"middle\" x=\"3196.5\" y=\"-973.8\" font-family=\"Helvetica,sans-Serif\" font-size=\"14.00\">radius_multiplier &lt;= 0.107</text>\n<text text-anchor=\"middle\" x=\"3196.5\" y=\"-958.8\" font-family=\"Helvetica,sans-Serif\" font-size=\"14.00\">entropy = 0.787</text>\n<text text-anchor=\"middle\" x=\"3196.5\" y=\"-943.8\" font-family=\"Helvetica,sans-Serif\" font-size=\"14.00\">samples = 17</text>\n<text text-anchor=\"middle\" x=\"3196.5\" y=\"-928.8\" font-family=\"Helvetica,sans-Serif\" font-size=\"14.00\">value = [0, 0, 0, 0, 0, 0, 0, 13, 4, 0]</text>\n</g>\n<!-- 43&#45;&gt;53 -->\n<g id=\"edge53\" class=\"edge\">\n<title>43&#45;&gt;53</title>\n<path fill=\"none\" stroke=\"black\" d=\"M2954.91,-1025.02C2993.51,-1014 3036.62,-1001.68 3075.61,-990.54\"/>\n<polygon fill=\"black\" stroke=\"black\" points=\"3076.78,-993.85 3085.44,-987.73 3074.86,-987.11 3076.78,-993.85\"/>\n</g>\n<!-- 45 -->\n<g id=\"node46\" class=\"node\">\n<title>45</title>\n<polygon fill=\"#ffffff\" stroke=\"black\" points=\"2830,-885 2615,-885 2615,-817 2830,-817 2830,-885\"/>\n<text text-anchor=\"middle\" x=\"2722.5\" y=\"-869.8\" font-family=\"Helvetica,sans-Serif\" font-size=\"14.00\">stellar_magnitude &lt;= &#45;1.137</text>\n<text text-anchor=\"middle\" x=\"2722.5\" y=\"-854.8\" font-family=\"Helvetica,sans-Serif\" font-size=\"14.00\">entropy = 1.0</text>\n<text text-anchor=\"middle\" x=\"2722.5\" y=\"-839.8\" font-family=\"Helvetica,sans-Serif\" font-size=\"14.00\">samples = 4</text>\n<text text-anchor=\"middle\" x=\"2722.5\" y=\"-824.8\" font-family=\"Helvetica,sans-Serif\" font-size=\"14.00\">value = [0, 0, 0, 0, 0, 0, 0, 0, 2, 2]</text>\n</g>\n<!-- 44&#45;&gt;45 -->\n<g id=\"edge45\" class=\"edge\">\n<title>44&#45;&gt;45</title>\n<path fill=\"none\" stroke=\"black\" d=\"M2801.51,-920.88C2790.99,-911.71 2779.45,-901.65 2768.52,-892.12\"/>\n<polygon fill=\"black\" stroke=\"black\" points=\"2770.53,-889.23 2760.7,-885.3 2765.93,-894.51 2770.53,-889.23\"/>\n</g>\n<!-- 48 -->\n<g id=\"node49\" class=\"node\">\n<title>48</title>\n<polygon fill=\"#e640c2\" stroke=\"black\" points=\"3070.5,-885 2848.5,-885 2848.5,-817 3070.5,-817 3070.5,-885\"/>\n<text text-anchor=\"middle\" x=\"2959.5\" y=\"-869.8\" font-family=\"Helvetica,sans-Serif\" font-size=\"14.00\">stellar_magnitude &lt;= &#45;1.26</text>\n<text text-anchor=\"middle\" x=\"2959.5\" y=\"-854.8\" font-family=\"Helvetica,sans-Serif\" font-size=\"14.00\">entropy = 0.222</text>\n<text text-anchor=\"middle\" x=\"2959.5\" y=\"-839.8\" font-family=\"Helvetica,sans-Serif\" font-size=\"14.00\">samples = 56</text>\n<text text-anchor=\"middle\" x=\"2959.5\" y=\"-824.8\" font-family=\"Helvetica,sans-Serif\" font-size=\"14.00\">value = [0, 0, 0, 0, 0, 0, 0, 2, 54, 0]</text>\n</g>\n<!-- 44&#45;&gt;48 -->\n<g id=\"edge48\" class=\"edge\">\n<title>44&#45;&gt;48</title>\n<path fill=\"none\" stroke=\"black\" d=\"M2878.46,-920.88C2889.36,-911.62 2901.32,-901.45 2912.62,-891.85\"/>\n<polygon fill=\"black\" stroke=\"black\" points=\"2914.97,-894.44 2920.32,-885.3 2910.44,-889.11 2914.97,-894.44\"/>\n</g>\n<!-- 46 -->\n<g id=\"node47\" class=\"node\">\n<title>46</title>\n<polygon fill=\"#e53958\" stroke=\"black\" points=\"2656,-773.5 2441,-773.5 2441,-720.5 2656,-720.5 2656,-773.5\"/>\n<text text-anchor=\"middle\" x=\"2548.5\" y=\"-758.3\" font-family=\"Helvetica,sans-Serif\" font-size=\"14.00\">entropy = 0.0</text>\n<text text-anchor=\"middle\" x=\"2548.5\" y=\"-743.3\" font-family=\"Helvetica,sans-Serif\" font-size=\"14.00\">samples = 2</text>\n<text text-anchor=\"middle\" x=\"2548.5\" y=\"-728.3\" font-family=\"Helvetica,sans-Serif\" font-size=\"14.00\">value = [0, 0, 0, 0, 0, 0, 0, 0, 0, 2]</text>\n</g>\n<!-- 45&#45;&gt;46 -->\n<g id=\"edge46\" class=\"edge\">\n<title>45&#45;&gt;46</title>\n<path fill=\"none\" stroke=\"black\" d=\"M2666.01,-816.88C2645.09,-804.62 2621.48,-790.78 2600.93,-778.74\"/>\n<polygon fill=\"black\" stroke=\"black\" points=\"2602.43,-775.56 2592.03,-773.52 2598.89,-781.6 2602.43,-775.56\"/>\n</g>\n<!-- 47 -->\n<g id=\"node48\" class=\"node\">\n<title>47</title>\n<polygon fill=\"#e539c0\" stroke=\"black\" points=\"2889,-773.5 2674,-773.5 2674,-720.5 2889,-720.5 2889,-773.5\"/>\n<text text-anchor=\"middle\" x=\"2781.5\" y=\"-758.3\" font-family=\"Helvetica,sans-Serif\" font-size=\"14.00\">entropy = 0.0</text>\n<text text-anchor=\"middle\" x=\"2781.5\" y=\"-743.3\" font-family=\"Helvetica,sans-Serif\" font-size=\"14.00\">samples = 2</text>\n<text text-anchor=\"middle\" x=\"2781.5\" y=\"-728.3\" font-family=\"Helvetica,sans-Serif\" font-size=\"14.00\">value = [0, 0, 0, 0, 0, 0, 0, 0, 2, 0]</text>\n</g>\n<!-- 45&#45;&gt;47 -->\n<g id=\"edge47\" class=\"edge\">\n<title>45&#45;&gt;47</title>\n<path fill=\"none\" stroke=\"black\" d=\"M2741.66,-816.88C2748.08,-805.78 2755.26,-793.37 2761.73,-782.18\"/>\n<polygon fill=\"black\" stroke=\"black\" points=\"2764.76,-783.93 2766.74,-773.52 2758.7,-780.42 2764.76,-783.93\"/>\n</g>\n<!-- 49 -->\n<g id=\"node50\" class=\"node\">\n<title>49</title>\n<polygon fill=\"#a339e5\" stroke=\"black\" points=\"3122,-773.5 2907,-773.5 2907,-720.5 3122,-720.5 3122,-773.5\"/>\n<text text-anchor=\"middle\" x=\"3014.5\" y=\"-758.3\" font-family=\"Helvetica,sans-Serif\" font-size=\"14.00\">entropy = 0.0</text>\n<text text-anchor=\"middle\" x=\"3014.5\" y=\"-743.3\" font-family=\"Helvetica,sans-Serif\" font-size=\"14.00\">samples = 1</text>\n<text text-anchor=\"middle\" x=\"3014.5\" y=\"-728.3\" font-family=\"Helvetica,sans-Serif\" font-size=\"14.00\">value = [0, 0, 0, 0, 0, 0, 0, 1, 0, 0]</text>\n</g>\n<!-- 48&#45;&gt;49 -->\n<g id=\"edge49\" class=\"edge\">\n<title>48&#45;&gt;49</title>\n<path fill=\"none\" stroke=\"black\" d=\"M2977.36,-816.88C2983.29,-805.89 2989.9,-793.62 2995.89,-782.52\"/>\n<polygon fill=\"black\" stroke=\"black\" points=\"2999.07,-783.98 3000.74,-773.52 2992.91,-780.66 2999.07,-783.98\"/>\n</g>\n<!-- 50 -->\n<g id=\"node51\" class=\"node\">\n<title>50</title>\n<polygon fill=\"#e53dc1\" stroke=\"black\" points=\"3362.5,-781 3140.5,-781 3140.5,-713 3362.5,-713 3362.5,-781\"/>\n<text text-anchor=\"middle\" x=\"3251.5\" y=\"-765.8\" font-family=\"Helvetica,sans-Serif\" font-size=\"14.00\">discovery_year &lt;= &#45;2.779</text>\n<text text-anchor=\"middle\" x=\"3251.5\" y=\"-750.8\" font-family=\"Helvetica,sans-Serif\" font-size=\"14.00\">entropy = 0.131</text>\n<text text-anchor=\"middle\" x=\"3251.5\" y=\"-735.8\" font-family=\"Helvetica,sans-Serif\" font-size=\"14.00\">samples = 55</text>\n<text text-anchor=\"middle\" x=\"3251.5\" y=\"-720.8\" font-family=\"Helvetica,sans-Serif\" font-size=\"14.00\">value = [0, 0, 0, 0, 0, 0, 0, 1, 54, 0]</text>\n</g>\n<!-- 48&#45;&gt;50 -->\n<g id=\"edge50\" class=\"edge\">\n<title>48&#45;&gt;50</title>\n<path fill=\"none\" stroke=\"black\" d=\"M3054.3,-816.88C3083.91,-806.54 3116.72,-795.08 3146.96,-784.52\"/>\n<polygon fill=\"black\" stroke=\"black\" points=\"3148.39,-787.73 3156.67,-781.12 3146.08,-781.12 3148.39,-787.73\"/>\n</g>\n<!-- 51 -->\n<g id=\"node52\" class=\"node\">\n<title>51</title>\n<polygon fill=\"#a339e5\" stroke=\"black\" points=\"3186,-669.5 2971,-669.5 2971,-616.5 3186,-616.5 3186,-669.5\"/>\n<text text-anchor=\"middle\" x=\"3078.5\" y=\"-654.3\" font-family=\"Helvetica,sans-Serif\" font-size=\"14.00\">entropy = 0.0</text>\n<text text-anchor=\"middle\" x=\"3078.5\" y=\"-639.3\" font-family=\"Helvetica,sans-Serif\" font-size=\"14.00\">samples = 1</text>\n<text text-anchor=\"middle\" x=\"3078.5\" y=\"-624.3\" font-family=\"Helvetica,sans-Serif\" font-size=\"14.00\">value = [0, 0, 0, 0, 0, 0, 0, 1, 0, 0]</text>\n</g>\n<!-- 50&#45;&gt;51 -->\n<g id=\"edge51\" class=\"edge\">\n<title>50&#45;&gt;51</title>\n<path fill=\"none\" stroke=\"black\" d=\"M3195.33,-712.88C3174.53,-700.62 3151.06,-686.78 3130.63,-674.74\"/>\n<polygon fill=\"black\" stroke=\"black\" points=\"3132.18,-671.58 3121.78,-669.52 3128.62,-677.61 3132.18,-671.58\"/>\n</g>\n<!-- 52 -->\n<g id=\"node53\" class=\"node\">\n<title>52</title>\n<polygon fill=\"#e539c0\" stroke=\"black\" points=\"3426.5,-669.5 3204.5,-669.5 3204.5,-616.5 3426.5,-616.5 3426.5,-669.5\"/>\n<text text-anchor=\"middle\" x=\"3315.5\" y=\"-654.3\" font-family=\"Helvetica,sans-Serif\" font-size=\"14.00\">entropy = 0.0</text>\n<text text-anchor=\"middle\" x=\"3315.5\" y=\"-639.3\" font-family=\"Helvetica,sans-Serif\" font-size=\"14.00\">samples = 54</text>\n<text text-anchor=\"middle\" x=\"3315.5\" y=\"-624.3\" font-family=\"Helvetica,sans-Serif\" font-size=\"14.00\">value = [0, 0, 0, 0, 0, 0, 0, 0, 54, 0]</text>\n</g>\n<!-- 50&#45;&gt;52 -->\n<g id=\"edge52\" class=\"edge\">\n<title>50&#45;&gt;52</title>\n<path fill=\"none\" stroke=\"black\" d=\"M3272.28,-712.88C3279.25,-701.78 3287.03,-689.37 3294.05,-678.18\"/>\n<polygon fill=\"black\" stroke=\"black\" points=\"3297.14,-679.85 3299.49,-669.52 3291.21,-676.13 3297.14,-679.85\"/>\n</g>\n<!-- 54 -->\n<g id=\"node55\" class=\"node\">\n<title>54</title>\n<polygon fill=\"#e539c0\" stroke=\"black\" points=\"3304,-877.5 3089,-877.5 3089,-824.5 3304,-824.5 3304,-877.5\"/>\n<text text-anchor=\"middle\" x=\"3196.5\" y=\"-862.3\" font-family=\"Helvetica,sans-Serif\" font-size=\"14.00\">entropy = 0.0</text>\n<text text-anchor=\"middle\" x=\"3196.5\" y=\"-847.3\" font-family=\"Helvetica,sans-Serif\" font-size=\"14.00\">samples = 4</text>\n<text text-anchor=\"middle\" x=\"3196.5\" y=\"-832.3\" font-family=\"Helvetica,sans-Serif\" font-size=\"14.00\">value = [0, 0, 0, 0, 0, 0, 0, 0, 4, 0]</text>\n</g>\n<!-- 53&#45;&gt;54 -->\n<g id=\"edge54\" class=\"edge\">\n<title>53&#45;&gt;54</title>\n<path fill=\"none\" stroke=\"black\" d=\"M3196.5,-920.88C3196.5,-910.33 3196.5,-898.6 3196.5,-887.85\"/>\n<polygon fill=\"black\" stroke=\"black\" points=\"3200,-887.52 3196.5,-877.52 3193,-887.52 3200,-887.52\"/>\n</g>\n<!-- 55 -->\n<g id=\"node56\" class=\"node\">\n<title>55</title>\n<polygon fill=\"#a339e5\" stroke=\"black\" points=\"3544.5,-877.5 3322.5,-877.5 3322.5,-824.5 3544.5,-824.5 3544.5,-877.5\"/>\n<text text-anchor=\"middle\" x=\"3433.5\" y=\"-862.3\" font-family=\"Helvetica,sans-Serif\" font-size=\"14.00\">entropy = 0.0</text>\n<text text-anchor=\"middle\" x=\"3433.5\" y=\"-847.3\" font-family=\"Helvetica,sans-Serif\" font-size=\"14.00\">samples = 13</text>\n<text text-anchor=\"middle\" x=\"3433.5\" y=\"-832.3\" font-family=\"Helvetica,sans-Serif\" font-size=\"14.00\">value = [0, 0, 0, 0, 0, 0, 0, 13, 0, 0]</text>\n</g>\n<!-- 53&#45;&gt;55 -->\n<g id=\"edge55\" class=\"edge\">\n<title>53&#45;&gt;55</title>\n<path fill=\"none\" stroke=\"black\" d=\"M3273.45,-920.88C3302.83,-908.24 3336.12,-893.91 3364.7,-881.61\"/>\n<polygon fill=\"black\" stroke=\"black\" points=\"3366.4,-884.69 3374.2,-877.52 3363.63,-878.26 3366.4,-884.69\"/>\n</g>\n<!-- 57 -->\n<g id=\"node58\" class=\"node\">\n<title>57</title>\n<polygon fill=\"#e640c2\" stroke=\"black\" points=\"4605.5,-1197 4353.5,-1197 4353.5,-1129 4605.5,-1129 4605.5,-1197\"/>\n<text text-anchor=\"middle\" x=\"4479.5\" y=\"-1181.8\" font-family=\"Helvetica,sans-Serif\" font-size=\"14.00\">distance &lt;= &#45;1.316</text>\n<text text-anchor=\"middle\" x=\"4479.5\" y=\"-1166.8\" font-family=\"Helvetica,sans-Serif\" font-size=\"14.00\">entropy = 0.278</text>\n<text text-anchor=\"middle\" x=\"4479.5\" y=\"-1151.8\" font-family=\"Helvetica,sans-Serif\" font-size=\"14.00\">samples = 1953</text>\n<text text-anchor=\"middle\" x=\"4479.5\" y=\"-1136.8\" font-family=\"Helvetica,sans-Serif\" font-size=\"14.00\">value = [0, 0, 2, 2, 5, 3, 0, 48, 1883, 10]</text>\n</g>\n<!-- 56&#45;&gt;57 -->\n<g id=\"edge57\" class=\"edge\">\n<title>56&#45;&gt;57</title>\n<path fill=\"none\" stroke=\"black\" d=\"M4479.5,-1232.88C4479.5,-1224.78 4479.5,-1215.98 4479.5,-1207.47\"/>\n<polygon fill=\"black\" stroke=\"black\" points=\"4483,-1207.3 4479.5,-1197.3 4476,-1207.3 4483,-1207.3\"/>\n</g>\n<!-- 146 -->\n<g id=\"node147\" class=\"node\">\n<title>146</title>\n<polygon fill=\"#a4f3b5\" stroke=\"black\" points=\"7518,-1197 7273,-1197 7273,-1129 7518,-1129 7518,-1197\"/>\n<text text-anchor=\"middle\" x=\"7395.5\" y=\"-1181.8\" font-family=\"Helvetica,sans-Serif\" font-size=\"14.00\">stellar_magnitude &lt;= 1.624</text>\n<text text-anchor=\"middle\" x=\"7395.5\" y=\"-1166.8\" font-family=\"Helvetica,sans-Serif\" font-size=\"14.00\">entropy = 1.975</text>\n<text text-anchor=\"middle\" x=\"7395.5\" y=\"-1151.8\" font-family=\"Helvetica,sans-Serif\" font-size=\"14.00\">samples = 126</text>\n<text text-anchor=\"middle\" x=\"7395.5\" y=\"-1136.8\" font-family=\"Helvetica,sans-Serif\" font-size=\"14.00\">value = [19, 0, 7, 68, 0, 0, 2, 19, 10, 1]</text>\n</g>\n<!-- 56&#45;&gt;146 -->\n<g id=\"edge146\" class=\"edge\">\n<title>56&#45;&gt;146</title>\n<path fill=\"none\" stroke=\"black\" d=\"M4613.33,-1261.32C5100.56,-1244.28 6776.52,-1185.65 7262.46,-1168.65\"/>\n<polygon fill=\"black\" stroke=\"black\" points=\"7262.8,-1172.14 7272.67,-1168.3 7262.56,-1165.15 7262.8,-1172.14\"/>\n</g>\n<!-- 58 -->\n<g id=\"node59\" class=\"node\">\n<title>58</title>\n<polygon fill=\"#c077ed\" stroke=\"black\" points=\"4375.5,-1093 4145.5,-1093 4145.5,-1025 4375.5,-1025 4375.5,-1093\"/>\n<text text-anchor=\"middle\" x=\"4260.5\" y=\"-1077.8\" font-family=\"Helvetica,sans-Serif\" font-size=\"14.00\">name &lt;= 0.17</text>\n<text text-anchor=\"middle\" x=\"4260.5\" y=\"-1062.8\" font-family=\"Helvetica,sans-Serif\" font-size=\"14.00\">entropy = 0.792</text>\n<text text-anchor=\"middle\" x=\"4260.5\" y=\"-1047.8\" font-family=\"Helvetica,sans-Serif\" font-size=\"14.00\">samples = 42</text>\n<text text-anchor=\"middle\" x=\"4260.5\" y=\"-1032.8\" font-family=\"Helvetica,sans-Serif\" font-size=\"14.00\">value = [0, 0, 0, 0, 0, 0, 0, 32, 10, 0]</text>\n</g>\n<!-- 57&#45;&gt;58 -->\n<g id=\"edge58\" class=\"edge\">\n<title>57&#45;&gt;58</title>\n<path fill=\"none\" stroke=\"black\" d=\"M4408.4,-1128.88C4386.87,-1118.86 4363.07,-1107.77 4340.98,-1097.48\"/>\n<polygon fill=\"black\" stroke=\"black\" points=\"4342.16,-1094.17 4331.62,-1093.12 4339.21,-1100.52 4342.16,-1094.17\"/>\n</g>\n<!-- 67 -->\n<g id=\"node68\" class=\"node\">\n<title>67</title>\n<polygon fill=\"#e63dc1\" stroke=\"black\" points=\"4879.5,-1093 4627.5,-1093 4627.5,-1025 4879.5,-1025 4879.5,-1093\"/>\n<text text-anchor=\"middle\" x=\"4753.5\" y=\"-1077.8\" font-family=\"Helvetica,sans-Serif\" font-size=\"14.00\">stellar_magnitude &lt;= 1.659</text>\n<text text-anchor=\"middle\" x=\"4753.5\" y=\"-1062.8\" font-family=\"Helvetica,sans-Serif\" font-size=\"14.00\">entropy = 0.184</text>\n<text text-anchor=\"middle\" x=\"4753.5\" y=\"-1047.8\" font-family=\"Helvetica,sans-Serif\" font-size=\"14.00\">samples = 1911</text>\n<text text-anchor=\"middle\" x=\"4753.5\" y=\"-1032.8\" font-family=\"Helvetica,sans-Serif\" font-size=\"14.00\">value = [0, 0, 2, 2, 5, 3, 0, 16, 1873, 10]</text>\n</g>\n<!-- 57&#45;&gt;67 -->\n<g id=\"edge67\" class=\"edge\">\n<title>57&#45;&gt;67</title>\n<path fill=\"none\" stroke=\"black\" d=\"M4568.46,-1128.88C4596.12,-1118.59 4626.77,-1107.18 4655.03,-1096.66\"/>\n<polygon fill=\"black\" stroke=\"black\" points=\"4656.37,-1099.89 4664.52,-1093.12 4653.93,-1093.33 4656.37,-1099.89\"/>\n</g>\n<!-- 59 -->\n<g id=\"node60\" class=\"node\">\n<title>59</title>\n<polygon fill=\"#a741e6\" stroke=\"black\" points=\"4018.5,-989 3796.5,-989 3796.5,-921 4018.5,-921 4018.5,-989\"/>\n<text text-anchor=\"middle\" x=\"3907.5\" y=\"-973.8\" font-family=\"Helvetica,sans-Serif\" font-size=\"14.00\">orbital_period &lt;= &#45;0.805</text>\n<text text-anchor=\"middle\" x=\"3907.5\" y=\"-958.8\" font-family=\"Helvetica,sans-Serif\" font-size=\"14.00\">entropy = 0.229</text>\n<text text-anchor=\"middle\" x=\"3907.5\" y=\"-943.8\" font-family=\"Helvetica,sans-Serif\" font-size=\"14.00\">samples = 27</text>\n<text text-anchor=\"middle\" x=\"3907.5\" y=\"-928.8\" font-family=\"Helvetica,sans-Serif\" font-size=\"14.00\">value = [0, 0, 0, 0, 0, 0, 0, 26, 1, 0]</text>\n</g>\n<!-- 58&#45;&gt;59 -->\n<g id=\"edge59\" class=\"edge\">\n<title>58&#45;&gt;59</title>\n<path fill=\"none\" stroke=\"black\" d=\"M4145.89,-1024.88C4108.38,-1014.04 4066.59,-1001.97 4028.61,-991\"/>\n<polygon fill=\"black\" stroke=\"black\" points=\"4029.11,-987.5 4018.53,-988.08 4027.16,-994.22 4029.11,-987.5\"/>\n</g>\n<!-- 62 -->\n<g id=\"node63\" class=\"node\">\n<title>62</title>\n<polygon fill=\"#f6bdea\" stroke=\"black\" points=\"4368,-989 4153,-989 4153,-921 4368,-921 4368,-989\"/>\n<text text-anchor=\"middle\" x=\"4260.5\" y=\"-973.8\" font-family=\"Helvetica,sans-Serif\" font-size=\"14.00\">name &lt;= 1.582</text>\n<text text-anchor=\"middle\" x=\"4260.5\" y=\"-958.8\" font-family=\"Helvetica,sans-Serif\" font-size=\"14.00\">entropy = 0.971</text>\n<text text-anchor=\"middle\" x=\"4260.5\" y=\"-943.8\" font-family=\"Helvetica,sans-Serif\" font-size=\"14.00\">samples = 15</text>\n<text text-anchor=\"middle\" x=\"4260.5\" y=\"-928.8\" font-family=\"Helvetica,sans-Serif\" font-size=\"14.00\">value = [0, 0, 0, 0, 0, 0, 0, 6, 9, 0]</text>\n</g>\n<!-- 58&#45;&gt;62 -->\n<g id=\"edge62\" class=\"edge\">\n<title>58&#45;&gt;62</title>\n<path fill=\"none\" stroke=\"black\" d=\"M4260.5,-1024.88C4260.5,-1016.78 4260.5,-1007.98 4260.5,-999.47\"/>\n<polygon fill=\"black\" stroke=\"black\" points=\"4264,-999.3 4260.5,-989.3 4257,-999.3 4264,-999.3\"/>\n</g>\n<!-- 60 -->\n<g id=\"node61\" class=\"node\">\n<title>60</title>\n<polygon fill=\"#e539c0\" stroke=\"black\" points=\"3778,-877.5 3563,-877.5 3563,-824.5 3778,-824.5 3778,-877.5\"/>\n<text text-anchor=\"middle\" x=\"3670.5\" y=\"-862.3\" font-family=\"Helvetica,sans-Serif\" font-size=\"14.00\">entropy = 0.0</text>\n<text text-anchor=\"middle\" x=\"3670.5\" y=\"-847.3\" font-family=\"Helvetica,sans-Serif\" font-size=\"14.00\">samples = 1</text>\n<text text-anchor=\"middle\" x=\"3670.5\" y=\"-832.3\" font-family=\"Helvetica,sans-Serif\" font-size=\"14.00\">value = [0, 0, 0, 0, 0, 0, 0, 0, 1, 0]</text>\n</g>\n<!-- 59&#45;&gt;60 -->\n<g id=\"edge60\" class=\"edge\">\n<title>59&#45;&gt;60</title>\n<path fill=\"none\" stroke=\"black\" d=\"M3830.55,-920.88C3801.17,-908.24 3767.88,-893.91 3739.3,-881.61\"/>\n<polygon fill=\"black\" stroke=\"black\" points=\"3740.37,-878.26 3729.8,-877.52 3737.6,-884.69 3740.37,-878.26\"/>\n</g>\n<!-- 61 -->\n<g id=\"node62\" class=\"node\">\n<title>61</title>\n<polygon fill=\"#a339e5\" stroke=\"black\" points=\"4018.5,-877.5 3796.5,-877.5 3796.5,-824.5 4018.5,-824.5 4018.5,-877.5\"/>\n<text text-anchor=\"middle\" x=\"3907.5\" y=\"-862.3\" font-family=\"Helvetica,sans-Serif\" font-size=\"14.00\">entropy = 0.0</text>\n<text text-anchor=\"middle\" x=\"3907.5\" y=\"-847.3\" font-family=\"Helvetica,sans-Serif\" font-size=\"14.00\">samples = 26</text>\n<text text-anchor=\"middle\" x=\"3907.5\" y=\"-832.3\" font-family=\"Helvetica,sans-Serif\" font-size=\"14.00\">value = [0, 0, 0, 0, 0, 0, 0, 26, 0, 0]</text>\n</g>\n<!-- 59&#45;&gt;61 -->\n<g id=\"edge61\" class=\"edge\">\n<title>59&#45;&gt;61</title>\n<path fill=\"none\" stroke=\"black\" d=\"M3907.5,-920.88C3907.5,-910.33 3907.5,-898.6 3907.5,-887.85\"/>\n<polygon fill=\"black\" stroke=\"black\" points=\"3911,-887.52 3907.5,-877.52 3904,-887.52 3911,-887.52\"/>\n</g>\n<!-- 63 -->\n<g id=\"node64\" class=\"node\">\n<title>63</title>\n<polygon fill=\"#eb65ce\" stroke=\"black\" points=\"4252,-885 4037,-885 4037,-817 4252,-817 4252,-885\"/>\n<text text-anchor=\"middle\" x=\"4144.5\" y=\"-869.8\" font-family=\"Helvetica,sans-Serif\" font-size=\"14.00\">orbital_period &lt;= &#45;0.532</text>\n<text text-anchor=\"middle\" x=\"4144.5\" y=\"-854.8\" font-family=\"Helvetica,sans-Serif\" font-size=\"14.00\">entropy = 0.684</text>\n<text text-anchor=\"middle\" x=\"4144.5\" y=\"-839.8\" font-family=\"Helvetica,sans-Serif\" font-size=\"14.00\">samples = 11</text>\n<text text-anchor=\"middle\" x=\"4144.5\" y=\"-824.8\" font-family=\"Helvetica,sans-Serif\" font-size=\"14.00\">value = [0, 0, 0, 0, 0, 0, 0, 2, 9, 0]</text>\n</g>\n<!-- 62&#45;&gt;63 -->\n<g id=\"edge63\" class=\"edge\">\n<title>62&#45;&gt;63</title>\n<path fill=\"none\" stroke=\"black\" d=\"M4222.84,-920.88C4212.4,-911.71 4200.96,-901.65 4190.13,-892.12\"/>\n<polygon fill=\"black\" stroke=\"black\" points=\"4192.19,-889.27 4182.37,-885.3 4187.57,-894.53 4192.19,-889.27\"/>\n</g>\n<!-- 66 -->\n<g id=\"node67\" class=\"node\">\n<title>66</title>\n<polygon fill=\"#a339e5\" stroke=\"black\" points=\"4485,-877.5 4270,-877.5 4270,-824.5 4485,-824.5 4485,-877.5\"/>\n<text text-anchor=\"middle\" x=\"4377.5\" y=\"-862.3\" font-family=\"Helvetica,sans-Serif\" font-size=\"14.00\">entropy = 0.0</text>\n<text text-anchor=\"middle\" x=\"4377.5\" y=\"-847.3\" font-family=\"Helvetica,sans-Serif\" font-size=\"14.00\">samples = 4</text>\n<text text-anchor=\"middle\" x=\"4377.5\" y=\"-832.3\" font-family=\"Helvetica,sans-Serif\" font-size=\"14.00\">value = [0, 0, 0, 0, 0, 0, 0, 4, 0, 0]</text>\n</g>\n<!-- 62&#45;&gt;66 -->\n<g id=\"edge66\" class=\"edge\">\n<title>62&#45;&gt;66</title>\n<path fill=\"none\" stroke=\"black\" d=\"M4298.49,-920.88C4311.98,-909.12 4327.15,-895.89 4340.56,-884.2\"/>\n<polygon fill=\"black\" stroke=\"black\" points=\"4342.99,-886.73 4348.23,-877.52 4338.39,-881.45 4342.99,-886.73\"/>\n</g>\n<!-- 64 -->\n<g id=\"node65\" class=\"node\">\n<title>64</title>\n<polygon fill=\"#e539c0\" stroke=\"black\" points=\"4011,-773.5 3796,-773.5 3796,-720.5 4011,-720.5 4011,-773.5\"/>\n<text text-anchor=\"middle\" x=\"3903.5\" y=\"-758.3\" font-family=\"Helvetica,sans-Serif\" font-size=\"14.00\">entropy = 0.0</text>\n<text text-anchor=\"middle\" x=\"3903.5\" y=\"-743.3\" font-family=\"Helvetica,sans-Serif\" font-size=\"14.00\">samples = 9</text>\n<text text-anchor=\"middle\" x=\"3903.5\" y=\"-728.3\" font-family=\"Helvetica,sans-Serif\" font-size=\"14.00\">value = [0, 0, 0, 0, 0, 0, 0, 0, 9, 0]</text>\n</g>\n<!-- 63&#45;&gt;64 -->\n<g id=\"edge64\" class=\"edge\">\n<title>63&#45;&gt;64</title>\n<path fill=\"none\" stroke=\"black\" d=\"M4066.25,-816.88C4036.24,-804.18 4002.22,-789.78 3973.08,-777.45\"/>\n<polygon fill=\"black\" stroke=\"black\" points=\"3974.37,-774.19 3963.8,-773.52 3971.64,-780.64 3974.37,-774.19\"/>\n</g>\n<!-- 65 -->\n<g id=\"node66\" class=\"node\">\n<title>65</title>\n<polygon fill=\"#a339e5\" stroke=\"black\" points=\"4244,-773.5 4029,-773.5 4029,-720.5 4244,-720.5 4244,-773.5\"/>\n<text text-anchor=\"middle\" x=\"4136.5\" y=\"-758.3\" font-family=\"Helvetica,sans-Serif\" font-size=\"14.00\">entropy = 0.0</text>\n<text text-anchor=\"middle\" x=\"4136.5\" y=\"-743.3\" font-family=\"Helvetica,sans-Serif\" font-size=\"14.00\">samples = 2</text>\n<text text-anchor=\"middle\" x=\"4136.5\" y=\"-728.3\" font-family=\"Helvetica,sans-Serif\" font-size=\"14.00\">value = [0, 0, 0, 0, 0, 0, 0, 2, 0, 0]</text>\n</g>\n<!-- 63&#45;&gt;65 -->\n<g id=\"edge65\" class=\"edge\">\n<title>63&#45;&gt;65</title>\n<path fill=\"none\" stroke=\"black\" d=\"M4141.9,-816.88C4141.07,-806.22 4140.14,-794.35 4139.29,-783.52\"/>\n<polygon fill=\"black\" stroke=\"black\" points=\"4142.77,-783.22 4138.5,-773.52 4135.79,-783.76 4142.77,-783.22\"/>\n</g>\n<!-- 68 -->\n<g id=\"node69\" class=\"node\">\n<title>68</title>\n<polygon fill=\"#e53cc1\" stroke=\"black\" points=\"4879.5,-989 4627.5,-989 4627.5,-921 4879.5,-921 4879.5,-989\"/>\n<text text-anchor=\"middle\" x=\"4753.5\" y=\"-973.8\" font-family=\"Helvetica,sans-Serif\" font-size=\"14.00\">orbital_radius &lt;= 1.047</text>\n<text text-anchor=\"middle\" x=\"4753.5\" y=\"-958.8\" font-family=\"Helvetica,sans-Serif\" font-size=\"14.00\">entropy = 0.155</text>\n<text text-anchor=\"middle\" x=\"4753.5\" y=\"-943.8\" font-family=\"Helvetica,sans-Serif\" font-size=\"14.00\">samples = 1906</text>\n<text text-anchor=\"middle\" x=\"4753.5\" y=\"-928.8\" font-family=\"Helvetica,sans-Serif\" font-size=\"14.00\">value = [0, 0, 2, 0, 5, 0, 0, 16, 1873, 10]</text>\n</g>\n<!-- 67&#45;&gt;68 -->\n<g id=\"edge68\" class=\"edge\">\n<title>67&#45;&gt;68</title>\n<path fill=\"none\" stroke=\"black\" d=\"M4753.5,-1024.88C4753.5,-1016.78 4753.5,-1007.98 4753.5,-999.47\"/>\n<polygon fill=\"black\" stroke=\"black\" points=\"4757,-999.3 4753.5,-989.3 4750,-999.3 4757,-999.3\"/>\n</g>\n<!-- 143 -->\n<g id=\"node144\" class=\"node\">\n<title>143</title>\n<polygon fill=\"#bddef6\" stroke=\"black\" points=\"5291,-989 5076,-989 5076,-921 5291,-921 5291,-989\"/>\n<text text-anchor=\"middle\" x=\"5183.5\" y=\"-973.8\" font-family=\"Helvetica,sans-Serif\" font-size=\"14.00\">orbital_period &lt;= 1.085</text>\n<text text-anchor=\"middle\" x=\"5183.5\" y=\"-958.8\" font-family=\"Helvetica,sans-Serif\" font-size=\"14.00\">entropy = 0.971</text>\n<text text-anchor=\"middle\" x=\"5183.5\" y=\"-943.8\" font-family=\"Helvetica,sans-Serif\" font-size=\"14.00\">samples = 5</text>\n<text text-anchor=\"middle\" x=\"5183.5\" y=\"-928.8\" font-family=\"Helvetica,sans-Serif\" font-size=\"14.00\">value = [0, 0, 0, 2, 0, 3, 0, 0, 0, 0]</text>\n</g>\n<!-- 67&#45;&gt;143 -->\n<g id=\"edge143\" class=\"edge\">\n<title>67&#45;&gt;143</title>\n<path fill=\"none\" stroke=\"black\" d=\"M4879.61,-1028.09C4938.53,-1014.11 5008.25,-997.57 5066.04,-983.86\"/>\n<polygon fill=\"black\" stroke=\"black\" points=\"5067.03,-987.23 5075.95,-981.51 5065.41,-980.41 5067.03,-987.23\"/>\n</g>\n<!-- 69 -->\n<g id=\"node70\" class=\"node\">\n<title>69</title>\n<polygon fill=\"#e53bc1\" stroke=\"black\" points=\"4748,-885 4511,-885 4511,-817 4748,-817 4748,-885\"/>\n<text text-anchor=\"middle\" x=\"4629.5\" y=\"-869.8\" font-family=\"Helvetica,sans-Serif\" font-size=\"14.00\">distance &lt;= &#45;0.71</text>\n<text text-anchor=\"middle\" x=\"4629.5\" y=\"-854.8\" font-family=\"Helvetica,sans-Serif\" font-size=\"14.00\">entropy = 0.091</text>\n<text text-anchor=\"middle\" x=\"4629.5\" y=\"-839.8\" font-family=\"Helvetica,sans-Serif\" font-size=\"14.00\">samples = 1768</text>\n<text text-anchor=\"middle\" x=\"4629.5\" y=\"-824.8\" font-family=\"Helvetica,sans-Serif\" font-size=\"14.00\">value = [0, 0, 0, 0, 2, 0, 0, 6, 1751, 9]</text>\n</g>\n<!-- 68&#45;&gt;69 -->\n<g id=\"edge69\" class=\"edge\">\n<title>68&#45;&gt;69</title>\n<path fill=\"none\" stroke=\"black\" d=\"M4713.24,-920.88C4701.98,-911.62 4689.62,-901.45 4677.94,-891.85\"/>\n<polygon fill=\"black\" stroke=\"black\" points=\"4679.93,-888.95 4669.98,-885.3 4675.48,-894.36 4679.93,-888.95\"/>\n</g>\n<!-- 114 -->\n<g id=\"node115\" class=\"node\">\n<title>114</title>\n<polygon fill=\"#e852c8\" stroke=\"black\" points=\"5058,-885 4821,-885 4821,-817 5058,-817 5058,-885\"/>\n<text text-anchor=\"middle\" x=\"4939.5\" y=\"-869.8\" font-family=\"Helvetica,sans-Serif\" font-size=\"14.00\">eccentricity &lt;= &#45;0.393</text>\n<text text-anchor=\"middle\" x=\"4939.5\" y=\"-854.8\" font-family=\"Helvetica,sans-Serif\" font-size=\"14.00\">entropy = 0.692</text>\n<text text-anchor=\"middle\" x=\"4939.5\" y=\"-839.8\" font-family=\"Helvetica,sans-Serif\" font-size=\"14.00\">samples = 138</text>\n<text text-anchor=\"middle\" x=\"4939.5\" y=\"-824.8\" font-family=\"Helvetica,sans-Serif\" font-size=\"14.00\">value = [0, 0, 2, 0, 3, 0, 0, 10, 122, 1]</text>\n</g>\n<!-- 68&#45;&gt;114 -->\n<g id=\"edge114\" class=\"edge\">\n<title>68&#45;&gt;114</title>\n<path fill=\"none\" stroke=\"black\" d=\"M4813.89,-920.88C4831.85,-911.04 4851.66,-900.17 4870.14,-890.03\"/>\n<polygon fill=\"black\" stroke=\"black\" points=\"4872.01,-893 4879.1,-885.12 4868.65,-886.86 4872.01,-893\"/>\n</g>\n<!-- 70 -->\n<g id=\"node71\" class=\"node\">\n<title>70</title>\n<polygon fill=\"#e640c2\" stroke=\"black\" points=\"4492.5,-781 4262.5,-781 4262.5,-713 4492.5,-713 4492.5,-781\"/>\n<text text-anchor=\"middle\" x=\"4377.5\" y=\"-765.8\" font-family=\"Helvetica,sans-Serif\" font-size=\"14.00\">eccentricity &lt;= 1.872</text>\n<text text-anchor=\"middle\" x=\"4377.5\" y=\"-750.8\" font-family=\"Helvetica,sans-Serif\" font-size=\"14.00\">entropy = 0.225</text>\n<text text-anchor=\"middle\" x=\"4377.5\" y=\"-735.8\" font-family=\"Helvetica,sans-Serif\" font-size=\"14.00\">samples = 216</text>\n<text text-anchor=\"middle\" x=\"4377.5\" y=\"-720.8\" font-family=\"Helvetica,sans-Serif\" font-size=\"14.00\">value = [0, 0, 0, 0, 0, 0, 0, 6, 209, 1]</text>\n</g>\n<!-- 69&#45;&gt;70 -->\n<g id=\"edge70\" class=\"edge\">\n<title>69&#45;&gt;70</title>\n<path fill=\"none\" stroke=\"black\" d=\"M4547.68,-816.88C4522.47,-806.68 4494.55,-795.38 4468.74,-784.93\"/>\n<polygon fill=\"black\" stroke=\"black\" points=\"4469.92,-781.63 4459.34,-781.12 4467.29,-788.12 4469.92,-781.63\"/>\n</g>\n<!-- 91 -->\n<g id=\"node92\" class=\"node\">\n<title>91</title>\n<polygon fill=\"#e53ac0\" stroke=\"black\" points=\"4748,-781 4511,-781 4511,-713 4748,-713 4748,-781\"/>\n<text text-anchor=\"middle\" x=\"4629.5\" y=\"-765.8\" font-family=\"Helvetica,sans-Serif\" font-size=\"14.00\">orbital_period &lt;= &#45;0.848</text>\n<text text-anchor=\"middle\" x=\"4629.5\" y=\"-750.8\" font-family=\"Helvetica,sans-Serif\" font-size=\"14.00\">entropy = 0.061</text>\n<text text-anchor=\"middle\" x=\"4629.5\" y=\"-735.8\" font-family=\"Helvetica,sans-Serif\" font-size=\"14.00\">samples = 1552</text>\n<text text-anchor=\"middle\" x=\"4629.5\" y=\"-720.8\" font-family=\"Helvetica,sans-Serif\" font-size=\"14.00\">value = [0, 0, 0, 0, 2, 0, 0, 0, 1542, 8]</text>\n</g>\n<!-- 69&#45;&gt;91 -->\n<g id=\"edge91\" class=\"edge\">\n<title>69&#45;&gt;91</title>\n<path fill=\"none\" stroke=\"black\" d=\"M4629.5,-816.88C4629.5,-808.78 4629.5,-799.98 4629.5,-791.47\"/>\n<polygon fill=\"black\" stroke=\"black\" points=\"4633,-791.3 4629.5,-781.3 4626,-791.3 4633,-791.3\"/>\n</g>\n<!-- 71 -->\n<g id=\"node72\" class=\"node\">\n<title>71</title>\n<polygon fill=\"#e63dc1\" stroke=\"black\" points=\"3787.5,-677 3557.5,-677 3557.5,-609 3787.5,-609 3787.5,-677\"/>\n<text text-anchor=\"middle\" x=\"3672.5\" y=\"-661.8\" font-family=\"Helvetica,sans-Serif\" font-size=\"14.00\">distance &lt;= &#45;0.715</text>\n<text text-anchor=\"middle\" x=\"3672.5\" y=\"-646.8\" font-family=\"Helvetica,sans-Serif\" font-size=\"14.00\">entropy = 0.154</text>\n<text text-anchor=\"middle\" x=\"3672.5\" y=\"-631.8\" font-family=\"Helvetica,sans-Serif\" font-size=\"14.00\">samples = 206</text>\n<text text-anchor=\"middle\" x=\"3672.5\" y=\"-616.8\" font-family=\"Helvetica,sans-Serif\" font-size=\"14.00\">value = [0, 0, 0, 0, 0, 0, 0, 3, 202, 1]</text>\n</g>\n<!-- 70&#45;&gt;71 -->\n<g id=\"edge71\" class=\"edge\">\n<title>70&#45;&gt;71</title>\n<path fill=\"none\" stroke=\"black\" d=\"M4262.19,-714.93C4258.93,-714.26 4255.7,-713.61 4252.5,-713 4097.15,-683.4 3915.83,-664.26 3797.83,-653.82\"/>\n<polygon fill=\"black\" stroke=\"black\" points=\"3797.94,-650.31 3787.68,-652.93 3797.33,-657.29 3797.94,-650.31\"/>\n</g>\n<!-- 88 -->\n<g id=\"node89\" class=\"node\">\n<title>88</title>\n<polygon fill=\"#f08edb\" stroke=\"black\" points=\"4248,-677 4033,-677 4033,-609 4248,-609 4248,-677\"/>\n<text text-anchor=\"middle\" x=\"4140.5\" y=\"-661.8\" font-family=\"Helvetica,sans-Serif\" font-size=\"14.00\">radius_multiplier &lt;= &#45;0.679</text>\n<text text-anchor=\"middle\" x=\"4140.5\" y=\"-646.8\" font-family=\"Helvetica,sans-Serif\" font-size=\"14.00\">entropy = 0.881</text>\n<text text-anchor=\"middle\" x=\"4140.5\" y=\"-631.8\" font-family=\"Helvetica,sans-Serif\" font-size=\"14.00\">samples = 10</text>\n<text text-anchor=\"middle\" x=\"4140.5\" y=\"-616.8\" font-family=\"Helvetica,sans-Serif\" font-size=\"14.00\">value = [0, 0, 0, 0, 0, 0, 0, 3, 7, 0]</text>\n</g>\n<!-- 70&#45;&gt;88 -->\n<g id=\"edge88\" class=\"edge\">\n<title>70&#45;&gt;88</title>\n<path fill=\"none\" stroke=\"black\" d=\"M4300.55,-712.88C4277.05,-702.77 4251.04,-691.58 4226.95,-681.21\"/>\n<polygon fill=\"black\" stroke=\"black\" points=\"4228.04,-677.86 4217.47,-677.12 4225.27,-684.29 4228.04,-677.86\"/>\n</g>\n<!-- 72 -->\n<g id=\"node73\" class=\"node\">\n<title>72</title>\n<polygon fill=\"#e53cc1\" stroke=\"black\" points=\"3541.5,-573 3311.5,-573 3311.5,-505 3541.5,-505 3541.5,-573\"/>\n<text text-anchor=\"middle\" x=\"3426.5\" y=\"-557.8\" font-family=\"Helvetica,sans-Serif\" font-size=\"14.00\">planet_type &lt;= &#45;0.639</text>\n<text text-anchor=\"middle\" x=\"3426.5\" y=\"-542.8\" font-family=\"Helvetica,sans-Serif\" font-size=\"14.00\">entropy = 0.124</text>\n<text text-anchor=\"middle\" x=\"3426.5\" y=\"-527.8\" font-family=\"Helvetica,sans-Serif\" font-size=\"14.00\">samples = 204</text>\n<text text-anchor=\"middle\" x=\"3426.5\" y=\"-512.8\" font-family=\"Helvetica,sans-Serif\" font-size=\"14.00\">value = [0, 0, 0, 0, 0, 0, 0, 2, 201, 1]</text>\n</g>\n<!-- 71&#45;&gt;72 -->\n<g id=\"edge72\" class=\"edge\">\n<title>71&#45;&gt;72</title>\n<path fill=\"none\" stroke=\"black\" d=\"M3592.63,-608.88C3568.12,-598.72 3541,-587.48 3515.9,-577.07\"/>\n<polygon fill=\"black\" stroke=\"black\" points=\"3516.97,-573.72 3506.39,-573.12 3514.29,-580.19 3516.97,-573.72\"/>\n</g>\n<!-- 85 -->\n<g id=\"node86\" class=\"node\">\n<title>85</title>\n<polygon fill=\"#ffffff\" stroke=\"black\" points=\"3780,-573 3565,-573 3565,-505 3780,-505 3780,-573\"/>\n<text text-anchor=\"middle\" x=\"3672.5\" y=\"-557.8\" font-family=\"Helvetica,sans-Serif\" font-size=\"14.00\">name &lt;= &#45;0.884</text>\n<text text-anchor=\"middle\" x=\"3672.5\" y=\"-542.8\" font-family=\"Helvetica,sans-Serif\" font-size=\"14.00\">entropy = 1.0</text>\n<text text-anchor=\"middle\" x=\"3672.5\" y=\"-527.8\" font-family=\"Helvetica,sans-Serif\" font-size=\"14.00\">samples = 2</text>\n<text text-anchor=\"middle\" x=\"3672.5\" y=\"-512.8\" font-family=\"Helvetica,sans-Serif\" font-size=\"14.00\">value = [0, 0, 0, 0, 0, 0, 0, 1, 1, 0]</text>\n</g>\n<!-- 71&#45;&gt;85 -->\n<g id=\"edge85\" class=\"edge\">\n<title>71&#45;&gt;85</title>\n<path fill=\"none\" stroke=\"black\" d=\"M3672.5,-608.88C3672.5,-600.78 3672.5,-591.98 3672.5,-583.47\"/>\n<polygon fill=\"black\" stroke=\"black\" points=\"3676,-583.3 3672.5,-573.3 3669,-583.3 3676,-583.3\"/>\n</g>\n<!-- 73 -->\n<g id=\"node74\" class=\"node\">\n<title>73</title>\n<polygon fill=\"#e642c3\" stroke=\"black\" points=\"3292.5,-469 3070.5,-469 3070.5,-401 3292.5,-401 3292.5,-469\"/>\n<text text-anchor=\"middle\" x=\"3181.5\" y=\"-453.8\" font-family=\"Helvetica,sans-Serif\" font-size=\"14.00\">radius_multiplier &lt;= 0.358</text>\n<text text-anchor=\"middle\" x=\"3181.5\" y=\"-438.8\" font-family=\"Helvetica,sans-Serif\" font-size=\"14.00\">entropy = 0.267</text>\n<text text-anchor=\"middle\" x=\"3181.5\" y=\"-423.8\" font-family=\"Helvetica,sans-Serif\" font-size=\"14.00\">samples = 44</text>\n<text text-anchor=\"middle\" x=\"3181.5\" y=\"-408.8\" font-family=\"Helvetica,sans-Serif\" font-size=\"14.00\">value = [0, 0, 0, 0, 0, 0, 0, 2, 42, 0]</text>\n</g>\n<!-- 72&#45;&gt;73 -->\n<g id=\"edge73\" class=\"edge\">\n<title>72&#45;&gt;73</title>\n<path fill=\"none\" stroke=\"black\" d=\"M3346.96,-504.88C3322.55,-494.72 3295.54,-483.48 3270.54,-473.07\"/>\n<polygon fill=\"black\" stroke=\"black\" points=\"3271.64,-469.74 3261.06,-469.12 3268.95,-476.2 3271.64,-469.74\"/>\n</g>\n<!-- 80 -->\n<g id=\"node81\" class=\"node\">\n<title>80</title>\n<polygon fill=\"#e53ac0\" stroke=\"black\" points=\"3541.5,-469 3311.5,-469 3311.5,-401 3541.5,-401 3541.5,-469\"/>\n<text text-anchor=\"middle\" x=\"3426.5\" y=\"-453.8\" font-family=\"Helvetica,sans-Serif\" font-size=\"14.00\">orbital_radius &lt;= 0.287</text>\n<text text-anchor=\"middle\" x=\"3426.5\" y=\"-438.8\" font-family=\"Helvetica,sans-Serif\" font-size=\"14.00\">entropy = 0.055</text>\n<text text-anchor=\"middle\" x=\"3426.5\" y=\"-423.8\" font-family=\"Helvetica,sans-Serif\" font-size=\"14.00\">samples = 160</text>\n<text text-anchor=\"middle\" x=\"3426.5\" y=\"-408.8\" font-family=\"Helvetica,sans-Serif\" font-size=\"14.00\">value = [0, 0, 0, 0, 0, 0, 0, 0, 159, 1]</text>\n</g>\n<!-- 72&#45;&gt;80 -->\n<g id=\"edge80\" class=\"edge\">\n<title>72&#45;&gt;80</title>\n<path fill=\"none\" stroke=\"black\" d=\"M3426.5,-504.88C3426.5,-496.78 3426.5,-487.98 3426.5,-479.47\"/>\n<polygon fill=\"black\" stroke=\"black\" points=\"3430,-479.3 3426.5,-469.3 3423,-479.3 3430,-479.3\"/>\n</g>\n<!-- 74 -->\n<g id=\"node75\" class=\"node\">\n<title>74</title>\n<polygon fill=\"#e539c0\" stroke=\"black\" points=\"3055.5,-357.5 2833.5,-357.5 2833.5,-304.5 3055.5,-304.5 3055.5,-357.5\"/>\n<text text-anchor=\"middle\" x=\"2944.5\" y=\"-342.3\" font-family=\"Helvetica,sans-Serif\" font-size=\"14.00\">entropy = 0.0</text>\n<text text-anchor=\"middle\" x=\"2944.5\" y=\"-327.3\" font-family=\"Helvetica,sans-Serif\" font-size=\"14.00\">samples = 35</text>\n<text text-anchor=\"middle\" x=\"2944.5\" y=\"-312.3\" font-family=\"Helvetica,sans-Serif\" font-size=\"14.00\">value = [0, 0, 0, 0, 0, 0, 0, 0, 35, 0]</text>\n</g>\n<!-- 73&#45;&gt;74 -->\n<g id=\"edge74\" class=\"edge\">\n<title>73&#45;&gt;74</title>\n<path fill=\"none\" stroke=\"black\" d=\"M3104.55,-400.88C3075.17,-388.24 3041.88,-373.91 3013.3,-361.61\"/>\n<polygon fill=\"black\" stroke=\"black\" points=\"3014.37,-358.26 3003.8,-357.52 3011.6,-364.69 3014.37,-358.26\"/>\n</g>\n<!-- 75 -->\n<g id=\"node76\" class=\"node\">\n<title>75</title>\n<polygon fill=\"#ec72d2\" stroke=\"black\" points=\"3289,-365 3074,-365 3074,-297 3289,-297 3289,-365\"/>\n<text text-anchor=\"middle\" x=\"3181.5\" y=\"-349.8\" font-family=\"Helvetica,sans-Serif\" font-size=\"14.00\">orbital_period &lt;= &#45;0.756</text>\n<text text-anchor=\"middle\" x=\"3181.5\" y=\"-334.8\" font-family=\"Helvetica,sans-Serif\" font-size=\"14.00\">entropy = 0.764</text>\n<text text-anchor=\"middle\" x=\"3181.5\" y=\"-319.8\" font-family=\"Helvetica,sans-Serif\" font-size=\"14.00\">samples = 9</text>\n<text text-anchor=\"middle\" x=\"3181.5\" y=\"-304.8\" font-family=\"Helvetica,sans-Serif\" font-size=\"14.00\">value = [0, 0, 0, 0, 0, 0, 0, 2, 7, 0]</text>\n</g>\n<!-- 73&#45;&gt;75 -->\n<g id=\"edge75\" class=\"edge\">\n<title>73&#45;&gt;75</title>\n<path fill=\"none\" stroke=\"black\" d=\"M3181.5,-400.88C3181.5,-392.78 3181.5,-383.98 3181.5,-375.47\"/>\n<polygon fill=\"black\" stroke=\"black\" points=\"3185,-375.3 3181.5,-365.3 3178,-375.3 3185,-375.3\"/>\n</g>\n<!-- 76 -->\n<g id=\"node77\" class=\"node\">\n<title>76</title>\n<polygon fill=\"#e539c0\" stroke=\"black\" points=\"3064,-253.5 2849,-253.5 2849,-200.5 3064,-200.5 3064,-253.5\"/>\n<text text-anchor=\"middle\" x=\"2956.5\" y=\"-238.3\" font-family=\"Helvetica,sans-Serif\" font-size=\"14.00\">entropy = 0.0</text>\n<text text-anchor=\"middle\" x=\"2956.5\" y=\"-223.3\" font-family=\"Helvetica,sans-Serif\" font-size=\"14.00\">samples = 6</text>\n<text text-anchor=\"middle\" x=\"2956.5\" y=\"-208.3\" font-family=\"Helvetica,sans-Serif\" font-size=\"14.00\">value = [0, 0, 0, 0, 0, 0, 0, 0, 6, 0]</text>\n</g>\n<!-- 75&#45;&gt;76 -->\n<g id=\"edge76\" class=\"edge\">\n<title>75&#45;&gt;76</title>\n<path fill=\"none\" stroke=\"black\" d=\"M3108.45,-296.88C3080.67,-284.29 3049.22,-270.03 3022.17,-257.77\"/>\n<polygon fill=\"black\" stroke=\"black\" points=\"3023.35,-254.46 3012.79,-253.52 3020.46,-260.84 3023.35,-254.46\"/>\n</g>\n<!-- 77 -->\n<g id=\"node78\" class=\"node\">\n<title>77</title>\n<polygon fill=\"#d19cf2\" stroke=\"black\" points=\"3297,-261 3082,-261 3082,-193 3297,-193 3297,-261\"/>\n<text text-anchor=\"middle\" x=\"3189.5\" y=\"-245.8\" font-family=\"Helvetica,sans-Serif\" font-size=\"14.00\">discovery_year &lt;= 0.658</text>\n<text text-anchor=\"middle\" x=\"3189.5\" y=\"-230.8\" font-family=\"Helvetica,sans-Serif\" font-size=\"14.00\">entropy = 0.918</text>\n<text text-anchor=\"middle\" x=\"3189.5\" y=\"-215.8\" font-family=\"Helvetica,sans-Serif\" font-size=\"14.00\">samples = 3</text>\n<text text-anchor=\"middle\" x=\"3189.5\" y=\"-200.8\" font-family=\"Helvetica,sans-Serif\" font-size=\"14.00\">value = [0, 0, 0, 0, 0, 0, 0, 2, 1, 0]</text>\n</g>\n<!-- 75&#45;&gt;77 -->\n<g id=\"edge77\" class=\"edge\">\n<title>75&#45;&gt;77</title>\n<path fill=\"none\" stroke=\"black\" d=\"M3184.1,-296.88C3184.73,-288.78 3185.42,-279.98 3186.09,-271.47\"/>\n<polygon fill=\"black\" stroke=\"black\" points=\"3189.6,-271.54 3186.89,-261.3 3182.62,-271 3189.6,-271.54\"/>\n</g>\n<!-- 78 -->\n<g id=\"node79\" class=\"node\">\n<title>78</title>\n<polygon fill=\"#a339e5\" stroke=\"black\" points=\"3181,-149.5 2966,-149.5 2966,-96.5 3181,-96.5 3181,-149.5\"/>\n<text text-anchor=\"middle\" x=\"3073.5\" y=\"-134.3\" font-family=\"Helvetica,sans-Serif\" font-size=\"14.00\">entropy = 0.0</text>\n<text text-anchor=\"middle\" x=\"3073.5\" y=\"-119.3\" font-family=\"Helvetica,sans-Serif\" font-size=\"14.00\">samples = 2</text>\n<text text-anchor=\"middle\" x=\"3073.5\" y=\"-104.3\" font-family=\"Helvetica,sans-Serif\" font-size=\"14.00\">value = [0, 0, 0, 0, 0, 0, 0, 2, 0, 0]</text>\n</g>\n<!-- 77&#45;&gt;78 -->\n<g id=\"edge78\" class=\"edge\">\n<title>77&#45;&gt;78</title>\n<path fill=\"none\" stroke=\"black\" d=\"M3151.84,-192.88C3138.46,-181.12 3123.42,-167.89 3110.12,-156.2\"/>\n<polygon fill=\"black\" stroke=\"black\" points=\"3112.34,-153.49 3102.52,-149.52 3107.72,-158.75 3112.34,-153.49\"/>\n</g>\n<!-- 79 -->\n<g id=\"node80\" class=\"node\">\n<title>79</title>\n<polygon fill=\"#e539c0\" stroke=\"black\" points=\"3414,-149.5 3199,-149.5 3199,-96.5 3414,-96.5 3414,-149.5\"/>\n<text text-anchor=\"middle\" x=\"3306.5\" y=\"-134.3\" font-family=\"Helvetica,sans-Serif\" font-size=\"14.00\">entropy = 0.0</text>\n<text text-anchor=\"middle\" x=\"3306.5\" y=\"-119.3\" font-family=\"Helvetica,sans-Serif\" font-size=\"14.00\">samples = 1</text>\n<text text-anchor=\"middle\" x=\"3306.5\" y=\"-104.3\" font-family=\"Helvetica,sans-Serif\" font-size=\"14.00\">value = [0, 0, 0, 0, 0, 0, 0, 0, 1, 0]</text>\n</g>\n<!-- 77&#45;&gt;79 -->\n<g id=\"edge79\" class=\"edge\">\n<title>77&#45;&gt;79</title>\n<path fill=\"none\" stroke=\"black\" d=\"M3227.49,-192.88C3240.98,-181.12 3256.15,-167.89 3269.56,-156.2\"/>\n<polygon fill=\"black\" stroke=\"black\" points=\"3271.99,-158.73 3277.23,-149.52 3267.39,-153.45 3271.99,-158.73\"/>\n</g>\n<!-- 81 -->\n<g id=\"node82\" class=\"node\">\n<title>81</title>\n<polygon fill=\"#e539c0\" stroke=\"black\" points=\"3537.5,-357.5 3307.5,-357.5 3307.5,-304.5 3537.5,-304.5 3537.5,-357.5\"/>\n<text text-anchor=\"middle\" x=\"3422.5\" y=\"-342.3\" font-family=\"Helvetica,sans-Serif\" font-size=\"14.00\">entropy = 0.0</text>\n<text text-anchor=\"middle\" x=\"3422.5\" y=\"-327.3\" font-family=\"Helvetica,sans-Serif\" font-size=\"14.00\">samples = 146</text>\n<text text-anchor=\"middle\" x=\"3422.5\" y=\"-312.3\" font-family=\"Helvetica,sans-Serif\" font-size=\"14.00\">value = [0, 0, 0, 0, 0, 0, 0, 0, 146, 0]</text>\n</g>\n<!-- 80&#45;&gt;81 -->\n<g id=\"edge81\" class=\"edge\">\n<title>80&#45;&gt;81</title>\n<path fill=\"none\" stroke=\"black\" d=\"M3425.2,-400.88C3424.78,-390.22 3424.32,-378.35 3423.89,-367.52\"/>\n<polygon fill=\"black\" stroke=\"black\" points=\"3427.39,-367.38 3423.5,-357.52 3420.4,-367.65 3427.39,-367.38\"/>\n</g>\n<!-- 82 -->\n<g id=\"node83\" class=\"node\">\n<title>82</title>\n<polygon fill=\"#e748c5\" stroke=\"black\" points=\"3777.5,-365 3555.5,-365 3555.5,-297 3777.5,-297 3777.5,-365\"/>\n<text text-anchor=\"middle\" x=\"3666.5\" y=\"-349.8\" font-family=\"Helvetica,sans-Serif\" font-size=\"14.00\">orbital_radius &lt;= 0.299</text>\n<text text-anchor=\"middle\" x=\"3666.5\" y=\"-334.8\" font-family=\"Helvetica,sans-Serif\" font-size=\"14.00\">entropy = 0.371</text>\n<text text-anchor=\"middle\" x=\"3666.5\" y=\"-319.8\" font-family=\"Helvetica,sans-Serif\" font-size=\"14.00\">samples = 14</text>\n<text text-anchor=\"middle\" x=\"3666.5\" y=\"-304.8\" font-family=\"Helvetica,sans-Serif\" font-size=\"14.00\">value = [0, 0, 0, 0, 0, 0, 0, 0, 13, 1]</text>\n</g>\n<!-- 80&#45;&gt;82 -->\n<g id=\"edge82\" class=\"edge\">\n<title>80&#45;&gt;82</title>\n<path fill=\"none\" stroke=\"black\" d=\"M3504.42,-400.88C3528.33,-390.72 3554.79,-379.48 3579.28,-369.07\"/>\n<polygon fill=\"black\" stroke=\"black\" points=\"3580.73,-372.26 3588.56,-365.12 3577.99,-365.82 3580.73,-372.26\"/>\n</g>\n<!-- 83 -->\n<g id=\"node84\" class=\"node\">\n<title>83</title>\n<polygon fill=\"#e53958\" stroke=\"black\" points=\"3544,-253.5 3329,-253.5 3329,-200.5 3544,-200.5 3544,-253.5\"/>\n<text text-anchor=\"middle\" x=\"3436.5\" y=\"-238.3\" font-family=\"Helvetica,sans-Serif\" font-size=\"14.00\">entropy = 0.0</text>\n<text text-anchor=\"middle\" x=\"3436.5\" y=\"-223.3\" font-family=\"Helvetica,sans-Serif\" font-size=\"14.00\">samples = 1</text>\n<text text-anchor=\"middle\" x=\"3436.5\" y=\"-208.3\" font-family=\"Helvetica,sans-Serif\" font-size=\"14.00\">value = [0, 0, 0, 0, 0, 0, 0, 0, 0, 1]</text>\n</g>\n<!-- 82&#45;&gt;83 -->\n<g id=\"edge83\" class=\"edge\">\n<title>82&#45;&gt;83</title>\n<path fill=\"none\" stroke=\"black\" d=\"M3591.83,-296.88C3563.31,-284.24 3531,-269.91 3503.26,-257.61\"/>\n<polygon fill=\"black\" stroke=\"black\" points=\"3504.61,-254.37 3494.04,-253.52 3501.77,-260.77 3504.61,-254.37\"/>\n</g>\n<!-- 84 -->\n<g id=\"node85\" class=\"node\">\n<title>84</title>\n<polygon fill=\"#e539c0\" stroke=\"black\" points=\"3784.5,-253.5 3562.5,-253.5 3562.5,-200.5 3784.5,-200.5 3784.5,-253.5\"/>\n<text text-anchor=\"middle\" x=\"3673.5\" y=\"-238.3\" font-family=\"Helvetica,sans-Serif\" font-size=\"14.00\">entropy = 0.0</text>\n<text text-anchor=\"middle\" x=\"3673.5\" y=\"-223.3\" font-family=\"Helvetica,sans-Serif\" font-size=\"14.00\">samples = 13</text>\n<text text-anchor=\"middle\" x=\"3673.5\" y=\"-208.3\" font-family=\"Helvetica,sans-Serif\" font-size=\"14.00\">value = [0, 0, 0, 0, 0, 0, 0, 0, 13, 0]</text>\n</g>\n<!-- 82&#45;&gt;84 -->\n<g id=\"edge84\" class=\"edge\">\n<title>82&#45;&gt;84</title>\n<path fill=\"none\" stroke=\"black\" d=\"M3668.77,-296.88C3669.5,-286.22 3670.32,-274.35 3671.06,-263.52\"/>\n<polygon fill=\"black\" stroke=\"black\" points=\"3674.56,-263.74 3671.75,-253.52 3667.57,-263.26 3674.56,-263.74\"/>\n</g>\n<!-- 86 -->\n<g id=\"node87\" class=\"node\">\n<title>86</title>\n<polygon fill=\"#e539c0\" stroke=\"black\" points=\"3780,-461.5 3565,-461.5 3565,-408.5 3780,-408.5 3780,-461.5\"/>\n<text text-anchor=\"middle\" x=\"3672.5\" y=\"-446.3\" font-family=\"Helvetica,sans-Serif\" font-size=\"14.00\">entropy = 0.0</text>\n<text text-anchor=\"middle\" x=\"3672.5\" y=\"-431.3\" font-family=\"Helvetica,sans-Serif\" font-size=\"14.00\">samples = 1</text>\n<text text-anchor=\"middle\" x=\"3672.5\" y=\"-416.3\" font-family=\"Helvetica,sans-Serif\" font-size=\"14.00\">value = [0, 0, 0, 0, 0, 0, 0, 0, 1, 0]</text>\n</g>\n<!-- 85&#45;&gt;86 -->\n<g id=\"edge86\" class=\"edge\">\n<title>85&#45;&gt;86</title>\n<path fill=\"none\" stroke=\"black\" d=\"M3672.5,-504.88C3672.5,-494.33 3672.5,-482.6 3672.5,-471.85\"/>\n<polygon fill=\"black\" stroke=\"black\" points=\"3676,-471.52 3672.5,-461.52 3669,-471.52 3676,-471.52\"/>\n</g>\n<!-- 87 -->\n<g id=\"node88\" class=\"node\">\n<title>87</title>\n<polygon fill=\"#a339e5\" stroke=\"black\" points=\"4013,-461.5 3798,-461.5 3798,-408.5 4013,-408.5 4013,-461.5\"/>\n<text text-anchor=\"middle\" x=\"3905.5\" y=\"-446.3\" font-family=\"Helvetica,sans-Serif\" font-size=\"14.00\">entropy = 0.0</text>\n<text text-anchor=\"middle\" x=\"3905.5\" y=\"-431.3\" font-family=\"Helvetica,sans-Serif\" font-size=\"14.00\">samples = 1</text>\n<text text-anchor=\"middle\" x=\"3905.5\" y=\"-416.3\" font-family=\"Helvetica,sans-Serif\" font-size=\"14.00\">value = [0, 0, 0, 0, 0, 0, 0, 1, 0, 0]</text>\n</g>\n<!-- 85&#45;&gt;87 -->\n<g id=\"edge87\" class=\"edge\">\n<title>85&#45;&gt;87</title>\n<path fill=\"none\" stroke=\"black\" d=\"M3748.15,-504.88C3777.04,-492.24 3809.77,-477.91 3837.87,-465.61\"/>\n<polygon fill=\"black\" stroke=\"black\" points=\"3839.45,-468.74 3847.2,-461.52 3836.64,-462.32 3839.45,-468.74\"/>\n</g>\n<!-- 89 -->\n<g id=\"node90\" class=\"node\">\n<title>89</title>\n<polygon fill=\"#a339e5\" stroke=\"black\" points=\"4015,-565.5 3800,-565.5 3800,-512.5 4015,-512.5 4015,-565.5\"/>\n<text text-anchor=\"middle\" x=\"3907.5\" y=\"-550.3\" font-family=\"Helvetica,sans-Serif\" font-size=\"14.00\">entropy = 0.0</text>\n<text text-anchor=\"middle\" x=\"3907.5\" y=\"-535.3\" font-family=\"Helvetica,sans-Serif\" font-size=\"14.00\">samples = 3</text>\n<text text-anchor=\"middle\" x=\"3907.5\" y=\"-520.3\" font-family=\"Helvetica,sans-Serif\" font-size=\"14.00\">value = [0, 0, 0, 0, 0, 0, 0, 3, 0, 0]</text>\n</g>\n<!-- 88&#45;&gt;89 -->\n<g id=\"edge89\" class=\"edge\">\n<title>88&#45;&gt;89</title>\n<path fill=\"none\" stroke=\"black\" d=\"M4064.85,-608.88C4035.96,-596.24 4003.23,-581.91 3975.13,-569.61\"/>\n<polygon fill=\"black\" stroke=\"black\" points=\"3976.36,-566.32 3965.8,-565.52 3973.55,-572.74 3976.36,-566.32\"/>\n</g>\n<!-- 90 -->\n<g id=\"node91\" class=\"node\">\n<title>90</title>\n<polygon fill=\"#e539c0\" stroke=\"black\" points=\"4248,-565.5 4033,-565.5 4033,-512.5 4248,-512.5 4248,-565.5\"/>\n<text text-anchor=\"middle\" x=\"4140.5\" y=\"-550.3\" font-family=\"Helvetica,sans-Serif\" font-size=\"14.00\">entropy = 0.0</text>\n<text text-anchor=\"middle\" x=\"4140.5\" y=\"-535.3\" font-family=\"Helvetica,sans-Serif\" font-size=\"14.00\">samples = 7</text>\n<text text-anchor=\"middle\" x=\"4140.5\" y=\"-520.3\" font-family=\"Helvetica,sans-Serif\" font-size=\"14.00\">value = [0, 0, 0, 0, 0, 0, 0, 0, 7, 0]</text>\n</g>\n<!-- 88&#45;&gt;90 -->\n<g id=\"edge90\" class=\"edge\">\n<title>88&#45;&gt;90</title>\n<path fill=\"none\" stroke=\"black\" d=\"M4140.5,-608.88C4140.5,-598.33 4140.5,-586.6 4140.5,-575.85\"/>\n<polygon fill=\"black\" stroke=\"black\" points=\"4144,-575.52 4140.5,-565.52 4137,-575.52 4144,-575.52\"/>\n</g>\n<!-- 92 -->\n<g id=\"node93\" class=\"node\">\n<title>92</title>\n<polygon fill=\"#39e5c5\" stroke=\"black\" points=\"4493,-669.5 4278,-669.5 4278,-616.5 4493,-616.5 4493,-669.5\"/>\n<text text-anchor=\"middle\" x=\"4385.5\" y=\"-654.3\" font-family=\"Helvetica,sans-Serif\" font-size=\"14.00\">entropy = 0.0</text>\n<text text-anchor=\"middle\" x=\"4385.5\" y=\"-639.3\" font-family=\"Helvetica,sans-Serif\" font-size=\"14.00\">samples = 1</text>\n<text text-anchor=\"middle\" x=\"4385.5\" y=\"-624.3\" font-family=\"Helvetica,sans-Serif\" font-size=\"14.00\">value = [0, 0, 0, 0, 1, 0, 0, 0, 0, 0]</text>\n</g>\n<!-- 91&#45;&gt;92 -->\n<g id=\"edge92\" class=\"edge\">\n<title>91&#45;&gt;92</title>\n<path fill=\"none\" stroke=\"black\" d=\"M4550.28,-712.88C4519.89,-700.18 4485.45,-685.78 4455.94,-673.45\"/>\n<polygon fill=\"black\" stroke=\"black\" points=\"4457.12,-670.15 4446.55,-669.52 4454.42,-676.61 4457.12,-670.15\"/>\n</g>\n<!-- 93 -->\n<g id=\"node94\" class=\"node\">\n<title>93</title>\n<polygon fill=\"#e53ac0\" stroke=\"black\" points=\"4748,-677 4511,-677 4511,-609 4748,-609 4748,-677\"/>\n<text text-anchor=\"middle\" x=\"4629.5\" y=\"-661.8\" font-family=\"Helvetica,sans-Serif\" font-size=\"14.00\">radius_wrt &lt;= &#45;0.295</text>\n<text text-anchor=\"middle\" x=\"4629.5\" y=\"-646.8\" font-family=\"Helvetica,sans-Serif\" font-size=\"14.00\">entropy = 0.054</text>\n<text text-anchor=\"middle\" x=\"4629.5\" y=\"-631.8\" font-family=\"Helvetica,sans-Serif\" font-size=\"14.00\">samples = 1551</text>\n<text text-anchor=\"middle\" x=\"4629.5\" y=\"-616.8\" font-family=\"Helvetica,sans-Serif\" font-size=\"14.00\">value = [0, 0, 0, 0, 1, 0, 0, 0, 1542, 8]</text>\n</g>\n<!-- 91&#45;&gt;93 -->\n<g id=\"edge93\" class=\"edge\">\n<title>91&#45;&gt;93</title>\n<path fill=\"none\" stroke=\"black\" d=\"M4629.5,-712.88C4629.5,-704.78 4629.5,-695.98 4629.5,-687.47\"/>\n<polygon fill=\"black\" stroke=\"black\" points=\"4633,-687.3 4629.5,-677.3 4626,-687.3 4633,-687.3\"/>\n</g>\n<!-- 94 -->\n<g id=\"node95\" class=\"node\">\n<title>94</title>\n<polygon fill=\"#e539c0\" stroke=\"black\" points=\"4496.5,-565.5 4266.5,-565.5 4266.5,-512.5 4496.5,-512.5 4496.5,-565.5\"/>\n<text text-anchor=\"middle\" x=\"4381.5\" y=\"-550.3\" font-family=\"Helvetica,sans-Serif\" font-size=\"14.00\">entropy = 0.0</text>\n<text text-anchor=\"middle\" x=\"4381.5\" y=\"-535.3\" font-family=\"Helvetica,sans-Serif\" font-size=\"14.00\">samples = 701</text>\n<text text-anchor=\"middle\" x=\"4381.5\" y=\"-520.3\" font-family=\"Helvetica,sans-Serif\" font-size=\"14.00\">value = [0, 0, 0, 0, 0, 0, 0, 0, 701, 0]</text>\n</g>\n<!-- 93&#45;&gt;94 -->\n<g id=\"edge94\" class=\"edge\">\n<title>93&#45;&gt;94</title>\n<path fill=\"none\" stroke=\"black\" d=\"M4548.98,-608.88C4518.1,-596.18 4483.09,-581.78 4453.1,-569.45\"/>\n<polygon fill=\"black\" stroke=\"black\" points=\"4454.13,-566.09 4443.55,-565.52 4451.47,-572.56 4454.13,-566.09\"/>\n</g>\n<!-- 95 -->\n<g id=\"node96\" class=\"node\">\n<title>95</title>\n<polygon fill=\"#e53bc1\" stroke=\"black\" points=\"4744.5,-573 4514.5,-573 4514.5,-505 4744.5,-505 4744.5,-573\"/>\n<text text-anchor=\"middle\" x=\"4629.5\" y=\"-557.8\" font-family=\"Helvetica,sans-Serif\" font-size=\"14.00\">radius_multiplier &lt;= 0.406</text>\n<text text-anchor=\"middle\" x=\"4629.5\" y=\"-542.8\" font-family=\"Helvetica,sans-Serif\" font-size=\"14.00\">entropy = 0.09</text>\n<text text-anchor=\"middle\" x=\"4629.5\" y=\"-527.8\" font-family=\"Helvetica,sans-Serif\" font-size=\"14.00\">samples = 850</text>\n<text text-anchor=\"middle\" x=\"4629.5\" y=\"-512.8\" font-family=\"Helvetica,sans-Serif\" font-size=\"14.00\">value = [0, 0, 0, 0, 1, 0, 0, 0, 841, 8]</text>\n</g>\n<!-- 93&#45;&gt;95 -->\n<g id=\"edge95\" class=\"edge\">\n<title>93&#45;&gt;95</title>\n<path fill=\"none\" stroke=\"black\" d=\"M4629.5,-608.88C4629.5,-600.78 4629.5,-591.98 4629.5,-583.47\"/>\n<polygon fill=\"black\" stroke=\"black\" points=\"4633,-583.3 4629.5,-573.3 4626,-583.3 4633,-583.3\"/>\n</g>\n<!-- 96 -->\n<g id=\"node97\" class=\"node\">\n<title>96</title>\n<polygon fill=\"#e53ac0\" stroke=\"black\" points=\"4273.5,-469 4043.5,-469 4043.5,-401 4273.5,-401 4273.5,-469\"/>\n<text text-anchor=\"middle\" x=\"4158.5\" y=\"-453.8\" font-family=\"Helvetica,sans-Serif\" font-size=\"14.00\">name &lt;= 0.755</text>\n<text text-anchor=\"middle\" x=\"4158.5\" y=\"-438.8\" font-family=\"Helvetica,sans-Serif\" font-size=\"14.00\">entropy = 0.049</text>\n<text text-anchor=\"middle\" x=\"4158.5\" y=\"-423.8\" font-family=\"Helvetica,sans-Serif\" font-size=\"14.00\">samples = 736</text>\n<text text-anchor=\"middle\" x=\"4158.5\" y=\"-408.8\" font-family=\"Helvetica,sans-Serif\" font-size=\"14.00\">value = [0, 0, 0, 0, 0, 0, 0, 0, 732, 4]</text>\n</g>\n<!-- 95&#45;&gt;96 -->\n<g id=\"edge96\" class=\"edge\">\n<title>95&#45;&gt;96</title>\n<path fill=\"none\" stroke=\"black\" d=\"M4514.42,-506.95C4511.42,-506.28 4508.44,-505.63 4505.5,-505 4410.38,-484.72 4382.42,-489.59 4283.39,-469.11\"/>\n<polygon fill=\"black\" stroke=\"black\" points=\"4284.09,-465.68 4273.58,-467.05 4282.65,-472.53 4284.09,-465.68\"/>\n</g>\n<!-- 105 -->\n<g id=\"node106\" class=\"node\">\n<title>105</title>\n<polygon fill=\"#e642c3\" stroke=\"black\" points=\"4521.5,-469 4291.5,-469 4291.5,-401 4521.5,-401 4521.5,-469\"/>\n<text text-anchor=\"middle\" x=\"4406.5\" y=\"-453.8\" font-family=\"Helvetica,sans-Serif\" font-size=\"14.00\">orbital_period &lt;= &#45;0.284</text>\n<text text-anchor=\"middle\" x=\"4406.5\" y=\"-438.8\" font-family=\"Helvetica,sans-Serif\" font-size=\"14.00\">entropy = 0.291</text>\n<text text-anchor=\"middle\" x=\"4406.5\" y=\"-423.8\" font-family=\"Helvetica,sans-Serif\" font-size=\"14.00\">samples = 114</text>\n<text text-anchor=\"middle\" x=\"4406.5\" y=\"-408.8\" font-family=\"Helvetica,sans-Serif\" font-size=\"14.00\">value = [0, 0, 0, 0, 1, 0, 0, 0, 109, 4]</text>\n</g>\n<!-- 95&#45;&gt;105 -->\n<g id=\"edge105\" class=\"edge\">\n<title>95&#45;&gt;105</title>\n<path fill=\"none\" stroke=\"black\" d=\"M4557.1,-504.88C4535.08,-494.81 4510.73,-483.67 4488.14,-473.34\"/>\n<polygon fill=\"black\" stroke=\"black\" points=\"4489.47,-470.1 4478.92,-469.12 4486.56,-476.47 4489.47,-470.1\"/>\n</g>\n<!-- 97 -->\n<g id=\"node98\" class=\"node\">\n<title>97</title>\n<polygon fill=\"#e539c0\" stroke=\"black\" points=\"4025.5,-357.5 3795.5,-357.5 3795.5,-304.5 4025.5,-304.5 4025.5,-357.5\"/>\n<text text-anchor=\"middle\" x=\"3910.5\" y=\"-342.3\" font-family=\"Helvetica,sans-Serif\" font-size=\"14.00\">entropy = 0.0</text>\n<text text-anchor=\"middle\" x=\"3910.5\" y=\"-327.3\" font-family=\"Helvetica,sans-Serif\" font-size=\"14.00\">samples = 467</text>\n<text text-anchor=\"middle\" x=\"3910.5\" y=\"-312.3\" font-family=\"Helvetica,sans-Serif\" font-size=\"14.00\">value = [0, 0, 0, 0, 0, 0, 0, 0, 467, 0]</text>\n</g>\n<!-- 96&#45;&gt;97 -->\n<g id=\"edge97\" class=\"edge\">\n<title>96&#45;&gt;97</title>\n<path fill=\"none\" stroke=\"black\" d=\"M4077.98,-400.88C4047.1,-388.18 4012.09,-373.78 3982.1,-361.45\"/>\n<polygon fill=\"black\" stroke=\"black\" points=\"3983.13,-358.09 3972.55,-357.52 3980.47,-364.56 3983.13,-358.09\"/>\n</g>\n<!-- 98 -->\n<g id=\"node99\" class=\"node\">\n<title>98</title>\n<polygon fill=\"#e53cc1\" stroke=\"black\" points=\"4273.5,-365 4043.5,-365 4043.5,-297 4273.5,-297 4273.5,-365\"/>\n<text text-anchor=\"middle\" x=\"4158.5\" y=\"-349.8\" font-family=\"Helvetica,sans-Serif\" font-size=\"14.00\">name &lt;= 0.759</text>\n<text text-anchor=\"middle\" x=\"4158.5\" y=\"-334.8\" font-family=\"Helvetica,sans-Serif\" font-size=\"14.00\">entropy = 0.112</text>\n<text text-anchor=\"middle\" x=\"4158.5\" y=\"-319.8\" font-family=\"Helvetica,sans-Serif\" font-size=\"14.00\">samples = 269</text>\n<text text-anchor=\"middle\" x=\"4158.5\" y=\"-304.8\" font-family=\"Helvetica,sans-Serif\" font-size=\"14.00\">value = [0, 0, 0, 0, 0, 0, 0, 0, 265, 4]</text>\n</g>\n<!-- 96&#45;&gt;98 -->\n<g id=\"edge98\" class=\"edge\">\n<title>96&#45;&gt;98</title>\n<path fill=\"none\" stroke=\"black\" d=\"M4158.5,-400.88C4158.5,-392.78 4158.5,-383.98 4158.5,-375.47\"/>\n<polygon fill=\"black\" stroke=\"black\" points=\"4162,-375.3 4158.5,-365.3 4155,-375.3 4162,-375.3\"/>\n</g>\n<!-- 99 -->\n<g id=\"node100\" class=\"node\">\n<title>99</title>\n<polygon fill=\"#e53958\" stroke=\"black\" points=\"4025,-253.5 3810,-253.5 3810,-200.5 4025,-200.5 4025,-253.5\"/>\n<text text-anchor=\"middle\" x=\"3917.5\" y=\"-238.3\" font-family=\"Helvetica,sans-Serif\" font-size=\"14.00\">entropy = 0.0</text>\n<text text-anchor=\"middle\" x=\"3917.5\" y=\"-223.3\" font-family=\"Helvetica,sans-Serif\" font-size=\"14.00\">samples = 3</text>\n<text text-anchor=\"middle\" x=\"3917.5\" y=\"-208.3\" font-family=\"Helvetica,sans-Serif\" font-size=\"14.00\">value = [0, 0, 0, 0, 0, 0, 0, 0, 0, 3]</text>\n</g>\n<!-- 98&#45;&gt;99 -->\n<g id=\"edge99\" class=\"edge\">\n<title>98&#45;&gt;99</title>\n<path fill=\"none\" stroke=\"black\" d=\"M4080.25,-296.88C4050.24,-284.18 4016.22,-269.78 3987.08,-257.45\"/>\n<polygon fill=\"black\" stroke=\"black\" points=\"3988.37,-254.19 3977.8,-253.52 3985.64,-260.64 3988.37,-254.19\"/>\n</g>\n<!-- 100 -->\n<g id=\"node101\" class=\"node\">\n<title>100</title>\n<polygon fill=\"#e53ac0\" stroke=\"black\" points=\"4273.5,-261 4043.5,-261 4043.5,-193 4273.5,-193 4273.5,-261\"/>\n<text text-anchor=\"middle\" x=\"4158.5\" y=\"-245.8\" font-family=\"Helvetica,sans-Serif\" font-size=\"14.00\">mass_multiplier &lt;= 1.672</text>\n<text text-anchor=\"middle\" x=\"4158.5\" y=\"-230.8\" font-family=\"Helvetica,sans-Serif\" font-size=\"14.00\">entropy = 0.036</text>\n<text text-anchor=\"middle\" x=\"4158.5\" y=\"-215.8\" font-family=\"Helvetica,sans-Serif\" font-size=\"14.00\">samples = 266</text>\n<text text-anchor=\"middle\" x=\"4158.5\" y=\"-200.8\" font-family=\"Helvetica,sans-Serif\" font-size=\"14.00\">value = [0, 0, 0, 0, 0, 0, 0, 0, 265, 1]</text>\n</g>\n<!-- 98&#45;&gt;100 -->\n<g id=\"edge100\" class=\"edge\">\n<title>98&#45;&gt;100</title>\n<path fill=\"none\" stroke=\"black\" d=\"M4158.5,-296.88C4158.5,-288.78 4158.5,-279.98 4158.5,-271.47\"/>\n<polygon fill=\"black\" stroke=\"black\" points=\"4162,-271.3 4158.5,-261.3 4155,-271.3 4162,-271.3\"/>\n</g>\n<!-- 101 -->\n<g id=\"node102\" class=\"node\">\n<title>101</title>\n<polygon fill=\"#e539c0\" stroke=\"black\" points=\"4030.5,-149.5 3800.5,-149.5 3800.5,-96.5 4030.5,-96.5 4030.5,-149.5\"/>\n<text text-anchor=\"middle\" x=\"3915.5\" y=\"-134.3\" font-family=\"Helvetica,sans-Serif\" font-size=\"14.00\">entropy = 0.0</text>\n<text text-anchor=\"middle\" x=\"3915.5\" y=\"-119.3\" font-family=\"Helvetica,sans-Serif\" font-size=\"14.00\">samples = 240</text>\n<text text-anchor=\"middle\" x=\"3915.5\" y=\"-104.3\" font-family=\"Helvetica,sans-Serif\" font-size=\"14.00\">value = [0, 0, 0, 0, 0, 0, 0, 0, 240, 0]</text>\n</g>\n<!-- 100&#45;&gt;101 -->\n<g id=\"edge101\" class=\"edge\">\n<title>100&#45;&gt;101</title>\n<path fill=\"none\" stroke=\"black\" d=\"M4079.6,-192.88C4049.34,-180.18 4015.04,-165.78 3985.66,-153.45\"/>\n<polygon fill=\"black\" stroke=\"black\" points=\"3986.87,-150.16 3976.3,-149.52 3984.16,-156.62 3986.87,-150.16\"/>\n</g>\n<!-- 102 -->\n<g id=\"node103\" class=\"node\">\n<title>102</title>\n<polygon fill=\"#e641c3\" stroke=\"black\" points=\"4270.5,-157 4048.5,-157 4048.5,-89 4270.5,-89 4270.5,-157\"/>\n<text text-anchor=\"middle\" x=\"4159.5\" y=\"-141.8\" font-family=\"Helvetica,sans-Serif\" font-size=\"14.00\">mass_multiplier &lt;= 1.689</text>\n<text text-anchor=\"middle\" x=\"4159.5\" y=\"-126.8\" font-family=\"Helvetica,sans-Serif\" font-size=\"14.00\">entropy = 0.235</text>\n<text text-anchor=\"middle\" x=\"4159.5\" y=\"-111.8\" font-family=\"Helvetica,sans-Serif\" font-size=\"14.00\">samples = 26</text>\n<text text-anchor=\"middle\" x=\"4159.5\" y=\"-96.8\" font-family=\"Helvetica,sans-Serif\" font-size=\"14.00\">value = [0, 0, 0, 0, 0, 0, 0, 0, 25, 1]</text>\n</g>\n<!-- 100&#45;&gt;102 -->\n<g id=\"edge102\" class=\"edge\">\n<title>100&#45;&gt;102</title>\n<path fill=\"none\" stroke=\"black\" d=\"M4158.82,-192.88C4158.9,-184.78 4158.99,-175.98 4159.07,-167.47\"/>\n<polygon fill=\"black\" stroke=\"black\" points=\"4162.58,-167.33 4159.17,-157.3 4155.58,-167.26 4162.58,-167.33\"/>\n</g>\n<!-- 103 -->\n<g id=\"node104\" class=\"node\">\n<title>103</title>\n<polygon fill=\"#e53958\" stroke=\"black\" points=\"4149,-53 3934,-53 3934,0 4149,0 4149,-53\"/>\n<text text-anchor=\"middle\" x=\"4041.5\" y=\"-37.8\" font-family=\"Helvetica,sans-Serif\" font-size=\"14.00\">entropy = 0.0</text>\n<text text-anchor=\"middle\" x=\"4041.5\" y=\"-22.8\" font-family=\"Helvetica,sans-Serif\" font-size=\"14.00\">samples = 1</text>\n<text text-anchor=\"middle\" x=\"4041.5\" y=\"-7.8\" font-family=\"Helvetica,sans-Serif\" font-size=\"14.00\">value = [0, 0, 0, 0, 0, 0, 0, 0, 0, 1]</text>\n</g>\n<!-- 102&#45;&gt;103 -->\n<g id=\"edge103\" class=\"edge\">\n<title>102&#45;&gt;103</title>\n<path fill=\"none\" stroke=\"black\" d=\"M4118.23,-88.95C4106.35,-79.43 4093.41,-69.07 4081.6,-59.62\"/>\n<polygon fill=\"black\" stroke=\"black\" points=\"4083.63,-56.76 4073.64,-53.24 4079.25,-62.22 4083.63,-56.76\"/>\n</g>\n<!-- 104 -->\n<g id=\"node105\" class=\"node\">\n<title>104</title>\n<polygon fill=\"#e539c0\" stroke=\"black\" points=\"4389.5,-53 4167.5,-53 4167.5,0 4389.5,0 4389.5,-53\"/>\n<text text-anchor=\"middle\" x=\"4278.5\" y=\"-37.8\" font-family=\"Helvetica,sans-Serif\" font-size=\"14.00\">entropy = 0.0</text>\n<text text-anchor=\"middle\" x=\"4278.5\" y=\"-22.8\" font-family=\"Helvetica,sans-Serif\" font-size=\"14.00\">samples = 25</text>\n<text text-anchor=\"middle\" x=\"4278.5\" y=\"-7.8\" font-family=\"Helvetica,sans-Serif\" font-size=\"14.00\">value = [0, 0, 0, 0, 0, 0, 0, 0, 25, 0]</text>\n</g>\n<!-- 102&#45;&gt;104 -->\n<g id=\"edge104\" class=\"edge\">\n<title>102&#45;&gt;104</title>\n<path fill=\"none\" stroke=\"black\" d=\"M4201.12,-88.95C4213.1,-79.43 4226.15,-69.07 4238.06,-59.62\"/>\n<polygon fill=\"black\" stroke=\"black\" points=\"4240.44,-62.2 4246.09,-53.24 4236.08,-56.71 4240.44,-62.2\"/>\n</g>\n<!-- 106 -->\n<g id=\"node107\" class=\"node\">\n<title>106</title>\n<polygon fill=\"#e53bc1\" stroke=\"black\" points=\"4521.5,-365 4291.5,-365 4291.5,-297 4521.5,-297 4521.5,-365\"/>\n<text text-anchor=\"middle\" x=\"4406.5\" y=\"-349.8\" font-family=\"Helvetica,sans-Serif\" font-size=\"14.00\">orbital_radius &lt;= &#45;1.434</text>\n<text text-anchor=\"middle\" x=\"4406.5\" y=\"-334.8\" font-family=\"Helvetica,sans-Serif\" font-size=\"14.00\">entropy = 0.075</text>\n<text text-anchor=\"middle\" x=\"4406.5\" y=\"-319.8\" font-family=\"Helvetica,sans-Serif\" font-size=\"14.00\">samples = 109</text>\n<text text-anchor=\"middle\" x=\"4406.5\" y=\"-304.8\" font-family=\"Helvetica,sans-Serif\" font-size=\"14.00\">value = [0, 0, 0, 0, 1, 0, 0, 0, 108, 0]</text>\n</g>\n<!-- 105&#45;&gt;106 -->\n<g id=\"edge106\" class=\"edge\">\n<title>105&#45;&gt;106</title>\n<path fill=\"none\" stroke=\"black\" d=\"M4406.5,-400.88C4406.5,-392.78 4406.5,-383.98 4406.5,-375.47\"/>\n<polygon fill=\"black\" stroke=\"black\" points=\"4410,-375.3 4406.5,-365.3 4403,-375.3 4410,-375.3\"/>\n</g>\n<!-- 111 -->\n<g id=\"node112\" class=\"node\">\n<title>111</title>\n<polygon fill=\"#ec6a82\" stroke=\"black\" points=\"4987,-365 4772,-365 4772,-297 4987,-297 4987,-365\"/>\n<text text-anchor=\"middle\" x=\"4879.5\" y=\"-349.8\" font-family=\"Helvetica,sans-Serif\" font-size=\"14.00\">mass_multiplier &lt;= 0.382</text>\n<text text-anchor=\"middle\" x=\"4879.5\" y=\"-334.8\" font-family=\"Helvetica,sans-Serif\" font-size=\"14.00\">entropy = 0.722</text>\n<text text-anchor=\"middle\" x=\"4879.5\" y=\"-319.8\" font-family=\"Helvetica,sans-Serif\" font-size=\"14.00\">samples = 5</text>\n<text text-anchor=\"middle\" x=\"4879.5\" y=\"-304.8\" font-family=\"Helvetica,sans-Serif\" font-size=\"14.00\">value = [0, 0, 0, 0, 0, 0, 0, 0, 1, 4]</text>\n</g>\n<!-- 105&#45;&gt;111 -->\n<g id=\"edge111\" class=\"edge\">\n<title>105&#45;&gt;111</title>\n<path fill=\"none\" stroke=\"black\" d=\"M4521.61,-403.09C4524.6,-402.38 4527.57,-401.68 4530.5,-401 4607.2,-383.23 4694.06,-366.05 4761.93,-353.27\"/>\n<polygon fill=\"black\" stroke=\"black\" points=\"4762.62,-356.71 4771.81,-351.42 4761.33,-349.83 4762.62,-356.71\"/>\n</g>\n<!-- 107 -->\n<g id=\"node108\" class=\"node\">\n<title>107</title>\n<polygon fill=\"#e749c5\" stroke=\"black\" points=\"4513.5,-261 4291.5,-261 4291.5,-193 4513.5,-193 4513.5,-261\"/>\n<text text-anchor=\"middle\" x=\"4402.5\" y=\"-245.8\" font-family=\"Helvetica,sans-Serif\" font-size=\"14.00\">orbital_radius &lt;= &#45;1.443</text>\n<text text-anchor=\"middle\" x=\"4402.5\" y=\"-230.8\" font-family=\"Helvetica,sans-Serif\" font-size=\"14.00\">entropy = 0.391</text>\n<text text-anchor=\"middle\" x=\"4402.5\" y=\"-215.8\" font-family=\"Helvetica,sans-Serif\" font-size=\"14.00\">samples = 13</text>\n<text text-anchor=\"middle\" x=\"4402.5\" y=\"-200.8\" font-family=\"Helvetica,sans-Serif\" font-size=\"14.00\">value = [0, 0, 0, 0, 1, 0, 0, 0, 12, 0]</text>\n</g>\n<!-- 106&#45;&gt;107 -->\n<g id=\"edge107\" class=\"edge\">\n<title>106&#45;&gt;107</title>\n<path fill=\"none\" stroke=\"black\" d=\"M4405.2,-296.88C4404.88,-288.78 4404.54,-279.98 4404.2,-271.47\"/>\n<polygon fill=\"black\" stroke=\"black\" points=\"4407.7,-271.15 4403.81,-261.3 4400.7,-271.43 4407.7,-271.15\"/>\n</g>\n<!-- 110 -->\n<g id=\"node111\" class=\"node\">\n<title>110</title>\n<polygon fill=\"#e539c0\" stroke=\"black\" points=\"4753.5,-253.5 4531.5,-253.5 4531.5,-200.5 4753.5,-200.5 4753.5,-253.5\"/>\n<text text-anchor=\"middle\" x=\"4642.5\" y=\"-238.3\" font-family=\"Helvetica,sans-Serif\" font-size=\"14.00\">entropy = 0.0</text>\n<text text-anchor=\"middle\" x=\"4642.5\" y=\"-223.3\" font-family=\"Helvetica,sans-Serif\" font-size=\"14.00\">samples = 96</text>\n<text text-anchor=\"middle\" x=\"4642.5\" y=\"-208.3\" font-family=\"Helvetica,sans-Serif\" font-size=\"14.00\">value = [0, 0, 0, 0, 0, 0, 0, 0, 96, 0]</text>\n</g>\n<!-- 106&#45;&gt;110 -->\n<g id=\"edge110\" class=\"edge\">\n<title>106&#45;&gt;110</title>\n<path fill=\"none\" stroke=\"black\" d=\"M4483.12,-296.88C4512.39,-284.24 4545.54,-269.91 4573.99,-257.61\"/>\n<polygon fill=\"black\" stroke=\"black\" points=\"4575.66,-260.7 4583.45,-253.52 4572.89,-254.27 4575.66,-260.7\"/>\n</g>\n<!-- 108 -->\n<g id=\"node109\" class=\"node\">\n<title>108</title>\n<polygon fill=\"#e539c0\" stroke=\"black\" points=\"4512.5,-149.5 4290.5,-149.5 4290.5,-96.5 4512.5,-96.5 4512.5,-149.5\"/>\n<text text-anchor=\"middle\" x=\"4401.5\" y=\"-134.3\" font-family=\"Helvetica,sans-Serif\" font-size=\"14.00\">entropy = 0.0</text>\n<text text-anchor=\"middle\" x=\"4401.5\" y=\"-119.3\" font-family=\"Helvetica,sans-Serif\" font-size=\"14.00\">samples = 12</text>\n<text text-anchor=\"middle\" x=\"4401.5\" y=\"-104.3\" font-family=\"Helvetica,sans-Serif\" font-size=\"14.00\">value = [0, 0, 0, 0, 0, 0, 0, 0, 12, 0]</text>\n</g>\n<!-- 107&#45;&gt;108 -->\n<g id=\"edge108\" class=\"edge\">\n<title>107&#45;&gt;108</title>\n<path fill=\"none\" stroke=\"black\" d=\"M4402.18,-192.88C4402.07,-182.33 4401.96,-170.6 4401.85,-159.85\"/>\n<polygon fill=\"black\" stroke=\"black\" points=\"4405.35,-159.49 4401.75,-149.52 4398.35,-159.55 4405.35,-159.49\"/>\n</g>\n<!-- 109 -->\n<g id=\"node110\" class=\"node\">\n<title>109</title>\n<polygon fill=\"#39e5c5\" stroke=\"black\" points=\"4746,-149.5 4531,-149.5 4531,-96.5 4746,-96.5 4746,-149.5\"/>\n<text text-anchor=\"middle\" x=\"4638.5\" y=\"-134.3\" font-family=\"Helvetica,sans-Serif\" font-size=\"14.00\">entropy = 0.0</text>\n<text text-anchor=\"middle\" x=\"4638.5\" y=\"-119.3\" font-family=\"Helvetica,sans-Serif\" font-size=\"14.00\">samples = 1</text>\n<text text-anchor=\"middle\" x=\"4638.5\" y=\"-104.3\" font-family=\"Helvetica,sans-Serif\" font-size=\"14.00\">value = [0, 0, 0, 0, 1, 0, 0, 0, 0, 0]</text>\n</g>\n<!-- 107&#45;&gt;109 -->\n<g id=\"edge109\" class=\"edge\">\n<title>107&#45;&gt;109</title>\n<path fill=\"none\" stroke=\"black\" d=\"M4479.12,-192.88C4508.39,-180.24 4541.54,-165.91 4569.99,-153.61\"/>\n<polygon fill=\"black\" stroke=\"black\" points=\"4571.66,-156.7 4579.45,-149.52 4568.89,-150.27 4571.66,-156.7\"/>\n</g>\n<!-- 112 -->\n<g id=\"node113\" class=\"node\">\n<title>112</title>\n<polygon fill=\"#e53958\" stroke=\"black\" points=\"4987,-253.5 4772,-253.5 4772,-200.5 4987,-200.5 4987,-253.5\"/>\n<text text-anchor=\"middle\" x=\"4879.5\" y=\"-238.3\" font-family=\"Helvetica,sans-Serif\" font-size=\"14.00\">entropy = 0.0</text>\n<text text-anchor=\"middle\" x=\"4879.5\" y=\"-223.3\" font-family=\"Helvetica,sans-Serif\" font-size=\"14.00\">samples = 4</text>\n<text text-anchor=\"middle\" x=\"4879.5\" y=\"-208.3\" font-family=\"Helvetica,sans-Serif\" font-size=\"14.00\">value = [0, 0, 0, 0, 0, 0, 0, 0, 0, 4]</text>\n</g>\n<!-- 111&#45;&gt;112 -->\n<g id=\"edge112\" class=\"edge\">\n<title>111&#45;&gt;112</title>\n<path fill=\"none\" stroke=\"black\" d=\"M4879.5,-296.88C4879.5,-286.33 4879.5,-274.6 4879.5,-263.85\"/>\n<polygon fill=\"black\" stroke=\"black\" points=\"4883,-263.52 4879.5,-253.52 4876,-263.52 4883,-263.52\"/>\n</g>\n<!-- 113 -->\n<g id=\"node114\" class=\"node\">\n<title>113</title>\n<polygon fill=\"#e539c0\" stroke=\"black\" points=\"5220,-253.5 5005,-253.5 5005,-200.5 5220,-200.5 5220,-253.5\"/>\n<text text-anchor=\"middle\" x=\"5112.5\" y=\"-238.3\" font-family=\"Helvetica,sans-Serif\" font-size=\"14.00\">entropy = 0.0</text>\n<text text-anchor=\"middle\" x=\"5112.5\" y=\"-223.3\" font-family=\"Helvetica,sans-Serif\" font-size=\"14.00\">samples = 1</text>\n<text text-anchor=\"middle\" x=\"5112.5\" y=\"-208.3\" font-family=\"Helvetica,sans-Serif\" font-size=\"14.00\">value = [0, 0, 0, 0, 0, 0, 0, 0, 1, 0]</text>\n</g>\n<!-- 111&#45;&gt;113 -->\n<g id=\"edge113\" class=\"edge\">\n<title>111&#45;&gt;113</title>\n<path fill=\"none\" stroke=\"black\" d=\"M4955.15,-296.88C4984.04,-284.24 5016.77,-269.91 5044.87,-257.61\"/>\n<polygon fill=\"black\" stroke=\"black\" points=\"5046.45,-260.74 5054.2,-253.52 5043.64,-254.32 5046.45,-260.74\"/>\n</g>\n<!-- 115 -->\n<g id=\"node116\" class=\"node\">\n<title>115</title>\n<polygon fill=\"#e643c3\" stroke=\"black\" points=\"5109.5,-781 4879.5,-781 4879.5,-713 5109.5,-713 5109.5,-781\"/>\n<text text-anchor=\"middle\" x=\"4994.5\" y=\"-765.8\" font-family=\"Helvetica,sans-Serif\" font-size=\"14.00\">mass_wrt &lt;= 0.356</text>\n<text text-anchor=\"middle\" x=\"4994.5\" y=\"-750.8\" font-family=\"Helvetica,sans-Serif\" font-size=\"14.00\">entropy = 0.364</text>\n<text text-anchor=\"middle\" x=\"4994.5\" y=\"-735.8\" font-family=\"Helvetica,sans-Serif\" font-size=\"14.00\">samples = 118</text>\n<text text-anchor=\"middle\" x=\"4994.5\" y=\"-720.8\" font-family=\"Helvetica,sans-Serif\" font-size=\"14.00\">value = [0, 0, 1, 0, 3, 0, 0, 2, 112, 0]</text>\n</g>\n<!-- 114&#45;&gt;115 -->\n<g id=\"edge115\" class=\"edge\">\n<title>114&#45;&gt;115</title>\n<path fill=\"none\" stroke=\"black\" d=\"M4957.36,-816.88C4961.92,-808.42 4966.89,-799.21 4971.66,-790.35\"/>\n<polygon fill=\"black\" stroke=\"black\" points=\"4974.88,-791.76 4976.54,-781.3 4968.72,-788.44 4974.88,-791.76\"/>\n</g>\n<!-- 130 -->\n<g id=\"node131\" class=\"node\">\n<title>130</title>\n<polygon fill=\"#fbdef4\" stroke=\"black\" points=\"6329.5,-781 6107.5,-781 6107.5,-713 6329.5,-713 6329.5,-781\"/>\n<text text-anchor=\"middle\" x=\"6218.5\" y=\"-765.8\" font-family=\"Helvetica,sans-Serif\" font-size=\"14.00\">mass_multiplier &lt;= 0.651</text>\n<text text-anchor=\"middle\" x=\"6218.5\" y=\"-750.8\" font-family=\"Helvetica,sans-Serif\" font-size=\"14.00\">entropy = 1.461</text>\n<text text-anchor=\"middle\" x=\"6218.5\" y=\"-735.8\" font-family=\"Helvetica,sans-Serif\" font-size=\"14.00\">samples = 20</text>\n<text text-anchor=\"middle\" x=\"6218.5\" y=\"-720.8\" font-family=\"Helvetica,sans-Serif\" font-size=\"14.00\">value = [0, 0, 1, 0, 0, 0, 0, 8, 10, 1]</text>\n</g>\n<!-- 114&#45;&gt;130 -->\n<g id=\"edge130\" class=\"edge\">\n<title>114&#45;&gt;130</title>\n<path fill=\"none\" stroke=\"black\" d=\"M5058.33,-818.38C5061.07,-817.89 5063.8,-817.43 5066.5,-817 5438.87,-758.04 5886.23,-748.48 6097.15,-747.55\"/>\n<polygon fill=\"black\" stroke=\"black\" points=\"6097.34,-751.05 6107.32,-747.51 6097.31,-744.05 6097.34,-751.05\"/>\n</g>\n<!-- 116 -->\n<g id=\"node117\" class=\"node\">\n<title>116</title>\n<polygon fill=\"#e53bc1\" stroke=\"black\" points=\"5109.5,-677 4879.5,-677 4879.5,-609 5109.5,-609 5109.5,-677\"/>\n<text text-anchor=\"middle\" x=\"4994.5\" y=\"-661.8\" font-family=\"Helvetica,sans-Serif\" font-size=\"14.00\">stellar_magnitude &lt;= &#45;0.933</text>\n<text text-anchor=\"middle\" x=\"4994.5\" y=\"-646.8\" font-family=\"Helvetica,sans-Serif\" font-size=\"14.00\">entropy = 0.079</text>\n<text text-anchor=\"middle\" x=\"4994.5\" y=\"-631.8\" font-family=\"Helvetica,sans-Serif\" font-size=\"14.00\">samples = 103</text>\n<text text-anchor=\"middle\" x=\"4994.5\" y=\"-616.8\" font-family=\"Helvetica,sans-Serif\" font-size=\"14.00\">value = [0, 0, 0, 0, 0, 0, 0, 1, 102, 0]</text>\n</g>\n<!-- 115&#45;&gt;116 -->\n<g id=\"edge116\" class=\"edge\">\n<title>115&#45;&gt;116</title>\n<path fill=\"none\" stroke=\"black\" d=\"M4994.5,-712.88C4994.5,-704.78 4994.5,-695.98 4994.5,-687.47\"/>\n<polygon fill=\"black\" stroke=\"black\" points=\"4998,-687.3 4994.5,-677.3 4991,-687.3 4998,-687.3\"/>\n</g>\n<!-- 121 -->\n<g id=\"node122\" class=\"node\">\n<title>121</title>\n<polygon fill=\"#f08cda\" stroke=\"black\" points=\"5457.5,-677 5235.5,-677 5235.5,-609 5457.5,-609 5457.5,-677\"/>\n<text text-anchor=\"middle\" x=\"5346.5\" y=\"-661.8\" font-family=\"Helvetica,sans-Serif\" font-size=\"14.00\">radius_multiplier &lt;= 0.38</text>\n<text text-anchor=\"middle\" x=\"5346.5\" y=\"-646.8\" font-family=\"Helvetica,sans-Serif\" font-size=\"14.00\">entropy = 1.375</text>\n<text text-anchor=\"middle\" x=\"5346.5\" y=\"-631.8\" font-family=\"Helvetica,sans-Serif\" font-size=\"14.00\">samples = 15</text>\n<text text-anchor=\"middle\" x=\"5346.5\" y=\"-616.8\" font-family=\"Helvetica,sans-Serif\" font-size=\"14.00\">value = [0, 0, 1, 0, 3, 0, 0, 1, 10, 0]</text>\n</g>\n<!-- 115&#45;&gt;121 -->\n<g id=\"edge121\" class=\"edge\">\n<title>115&#45;&gt;121</title>\n<path fill=\"none\" stroke=\"black\" d=\"M5108.78,-712.88C5146.1,-702.07 5187.66,-690.03 5225.45,-679.08\"/>\n<polygon fill=\"black\" stroke=\"black\" points=\"5226.86,-682.31 5235.49,-676.17 5224.91,-675.59 5226.86,-682.31\"/>\n</g>\n<!-- 117 -->\n<g id=\"node118\" class=\"node\">\n<title>117</title>\n<polygon fill=\"#ec6ad0\" stroke=\"black\" points=\"4979,-573 4764,-573 4764,-505 4979,-505 4979,-573\"/>\n<text text-anchor=\"middle\" x=\"4871.5\" y=\"-557.8\" font-family=\"Helvetica,sans-Serif\" font-size=\"14.00\">radius_multiplier &lt;= &#45;0.209</text>\n<text text-anchor=\"middle\" x=\"4871.5\" y=\"-542.8\" font-family=\"Helvetica,sans-Serif\" font-size=\"14.00\">entropy = 0.722</text>\n<text text-anchor=\"middle\" x=\"4871.5\" y=\"-527.8\" font-family=\"Helvetica,sans-Serif\" font-size=\"14.00\">samples = 5</text>\n<text text-anchor=\"middle\" x=\"4871.5\" y=\"-512.8\" font-family=\"Helvetica,sans-Serif\" font-size=\"14.00\">value = [0, 0, 0, 0, 0, 0, 0, 1, 4, 0]</text>\n</g>\n<!-- 116&#45;&gt;117 -->\n<g id=\"edge117\" class=\"edge\">\n<title>116&#45;&gt;117</title>\n<path fill=\"none\" stroke=\"black\" d=\"M4954.57,-608.88C4943.39,-599.62 4931.14,-589.45 4919.55,-579.85\"/>\n<polygon fill=\"black\" stroke=\"black\" points=\"4921.59,-576.99 4911.66,-573.3 4917.12,-582.38 4921.59,-576.99\"/>\n</g>\n<!-- 120 -->\n<g id=\"node121\" class=\"node\">\n<title>120</title>\n<polygon fill=\"#e539c0\" stroke=\"black\" points=\"5219.5,-565.5 4997.5,-565.5 4997.5,-512.5 5219.5,-512.5 5219.5,-565.5\"/>\n<text text-anchor=\"middle\" x=\"5108.5\" y=\"-550.3\" font-family=\"Helvetica,sans-Serif\" font-size=\"14.00\">entropy = 0.0</text>\n<text text-anchor=\"middle\" x=\"5108.5\" y=\"-535.3\" font-family=\"Helvetica,sans-Serif\" font-size=\"14.00\">samples = 98</text>\n<text text-anchor=\"middle\" x=\"5108.5\" y=\"-520.3\" font-family=\"Helvetica,sans-Serif\" font-size=\"14.00\">value = [0, 0, 0, 0, 0, 0, 0, 0, 98, 0]</text>\n</g>\n<!-- 116&#45;&gt;120 -->\n<g id=\"edge120\" class=\"edge\">\n<title>116&#45;&gt;120</title>\n<path fill=\"none\" stroke=\"black\" d=\"M5031.51,-608.88C5044.66,-597.12 5059.44,-583.89 5072.51,-572.2\"/>\n<polygon fill=\"black\" stroke=\"black\" points=\"5074.86,-574.8 5079.98,-565.52 5070.19,-569.58 5074.86,-574.8\"/>\n</g>\n<!-- 118 -->\n<g id=\"node119\" class=\"node\">\n<title>118</title>\n<polygon fill=\"#a339e5\" stroke=\"black\" points=\"4755,-461.5 4540,-461.5 4540,-408.5 4755,-408.5 4755,-461.5\"/>\n<text text-anchor=\"middle\" x=\"4647.5\" y=\"-446.3\" font-family=\"Helvetica,sans-Serif\" font-size=\"14.00\">entropy = 0.0</text>\n<text text-anchor=\"middle\" x=\"4647.5\" y=\"-431.3\" font-family=\"Helvetica,sans-Serif\" font-size=\"14.00\">samples = 1</text>\n<text text-anchor=\"middle\" x=\"4647.5\" y=\"-416.3\" font-family=\"Helvetica,sans-Serif\" font-size=\"14.00\">value = [0, 0, 0, 0, 0, 0, 0, 1, 0, 0]</text>\n</g>\n<!-- 117&#45;&gt;118 -->\n<g id=\"edge118\" class=\"edge\">\n<title>117&#45;&gt;118</title>\n<path fill=\"none\" stroke=\"black\" d=\"M4798.77,-504.88C4771.12,-492.29 4739.81,-478.03 4712.87,-465.77\"/>\n<polygon fill=\"black\" stroke=\"black\" points=\"4714.1,-462.48 4703.54,-461.52 4711.19,-468.85 4714.1,-462.48\"/>\n</g>\n<!-- 119 -->\n<g id=\"node120\" class=\"node\">\n<title>119</title>\n<polygon fill=\"#e539c0\" stroke=\"black\" points=\"4988,-461.5 4773,-461.5 4773,-408.5 4988,-408.5 4988,-461.5\"/>\n<text text-anchor=\"middle\" x=\"4880.5\" y=\"-446.3\" font-family=\"Helvetica,sans-Serif\" font-size=\"14.00\">entropy = 0.0</text>\n<text text-anchor=\"middle\" x=\"4880.5\" y=\"-431.3\" font-family=\"Helvetica,sans-Serif\" font-size=\"14.00\">samples = 4</text>\n<text text-anchor=\"middle\" x=\"4880.5\" y=\"-416.3\" font-family=\"Helvetica,sans-Serif\" font-size=\"14.00\">value = [0, 0, 0, 0, 0, 0, 0, 0, 4, 0]</text>\n</g>\n<!-- 117&#45;&gt;119 -->\n<g id=\"edge119\" class=\"edge\">\n<title>117&#45;&gt;119</title>\n<path fill=\"none\" stroke=\"black\" d=\"M4874.42,-504.88C4875.36,-494.22 4876.41,-482.35 4877.37,-471.52\"/>\n<polygon fill=\"black\" stroke=\"black\" points=\"4880.86,-471.79 4878.25,-461.52 4873.88,-471.17 4880.86,-471.79\"/>\n</g>\n<!-- 122 -->\n<g id=\"node123\" class=\"node\">\n<title>122</title>\n<polygon fill=\"#e852c8\" stroke=\"black\" points=\"5454,-573 5239,-573 5239,-505 5454,-505 5454,-573\"/>\n<text text-anchor=\"middle\" x=\"5346.5\" y=\"-557.8\" font-family=\"Helvetica,sans-Serif\" font-size=\"14.00\">orbital_radius &lt;= 1.051</text>\n<text text-anchor=\"middle\" x=\"5346.5\" y=\"-542.8\" font-family=\"Helvetica,sans-Serif\" font-size=\"14.00\">entropy = 0.503</text>\n<text text-anchor=\"middle\" x=\"5346.5\" y=\"-527.8\" font-family=\"Helvetica,sans-Serif\" font-size=\"14.00\">samples = 9</text>\n<text text-anchor=\"middle\" x=\"5346.5\" y=\"-512.8\" font-family=\"Helvetica,sans-Serif\" font-size=\"14.00\">value = [0, 0, 0, 0, 0, 0, 0, 1, 8, 0]</text>\n</g>\n<!-- 121&#45;&gt;122 -->\n<g id=\"edge122\" class=\"edge\">\n<title>121&#45;&gt;122</title>\n<path fill=\"none\" stroke=\"black\" d=\"M5346.5,-608.88C5346.5,-600.78 5346.5,-591.98 5346.5,-583.47\"/>\n<polygon fill=\"black\" stroke=\"black\" points=\"5350,-583.3 5346.5,-573.3 5343,-583.3 5350,-583.3\"/>\n</g>\n<!-- 125 -->\n<g id=\"node126\" class=\"node\">\n<title>125</title>\n<polygon fill=\"#cef8f0\" stroke=\"black\" points=\"5687,-573 5472,-573 5472,-505 5687,-505 5687,-573\"/>\n<text text-anchor=\"middle\" x=\"5579.5\" y=\"-557.8\" font-family=\"Helvetica,sans-Serif\" font-size=\"14.00\">discovery_year &lt;= 1.345</text>\n<text text-anchor=\"middle\" x=\"5579.5\" y=\"-542.8\" font-family=\"Helvetica,sans-Serif\" font-size=\"14.00\">entropy = 1.459</text>\n<text text-anchor=\"middle\" x=\"5579.5\" y=\"-527.8\" font-family=\"Helvetica,sans-Serif\" font-size=\"14.00\">samples = 6</text>\n<text text-anchor=\"middle\" x=\"5579.5\" y=\"-512.8\" font-family=\"Helvetica,sans-Serif\" font-size=\"14.00\">value = [0, 0, 1, 0, 3, 0, 0, 0, 2, 0]</text>\n</g>\n<!-- 121&#45;&gt;125 -->\n<g id=\"edge125\" class=\"edge\">\n<title>121&#45;&gt;125</title>\n<path fill=\"none\" stroke=\"black\" d=\"M5422.15,-608.88C5445.26,-598.77 5470.82,-587.58 5494.51,-577.21\"/>\n<polygon fill=\"black\" stroke=\"black\" points=\"5496.08,-580.34 5503.83,-573.12 5493.27,-573.93 5496.08,-580.34\"/>\n</g>\n<!-- 123 -->\n<g id=\"node124\" class=\"node\">\n<title>123</title>\n<polygon fill=\"#a339e5\" stroke=\"black\" points=\"5221,-461.5 5006,-461.5 5006,-408.5 5221,-408.5 5221,-461.5\"/>\n<text text-anchor=\"middle\" x=\"5113.5\" y=\"-446.3\" font-family=\"Helvetica,sans-Serif\" font-size=\"14.00\">entropy = 0.0</text>\n<text text-anchor=\"middle\" x=\"5113.5\" y=\"-431.3\" font-family=\"Helvetica,sans-Serif\" font-size=\"14.00\">samples = 1</text>\n<text text-anchor=\"middle\" x=\"5113.5\" y=\"-416.3\" font-family=\"Helvetica,sans-Serif\" font-size=\"14.00\">value = [0, 0, 0, 0, 0, 0, 0, 1, 0, 0]</text>\n</g>\n<!-- 122&#45;&gt;123 -->\n<g id=\"edge123\" class=\"edge\">\n<title>122&#45;&gt;123</title>\n<path fill=\"none\" stroke=\"black\" d=\"M5270.85,-504.88C5241.96,-492.24 5209.23,-477.91 5181.13,-465.61\"/>\n<polygon fill=\"black\" stroke=\"black\" points=\"5182.36,-462.32 5171.8,-461.52 5179.55,-468.74 5182.36,-462.32\"/>\n</g>\n<!-- 124 -->\n<g id=\"node125\" class=\"node\">\n<title>124</title>\n<polygon fill=\"#e539c0\" stroke=\"black\" points=\"5454,-461.5 5239,-461.5 5239,-408.5 5454,-408.5 5454,-461.5\"/>\n<text text-anchor=\"middle\" x=\"5346.5\" y=\"-446.3\" font-family=\"Helvetica,sans-Serif\" font-size=\"14.00\">entropy = 0.0</text>\n<text text-anchor=\"middle\" x=\"5346.5\" y=\"-431.3\" font-family=\"Helvetica,sans-Serif\" font-size=\"14.00\">samples = 8</text>\n<text text-anchor=\"middle\" x=\"5346.5\" y=\"-416.3\" font-family=\"Helvetica,sans-Serif\" font-size=\"14.00\">value = [0, 0, 0, 0, 0, 0, 0, 0, 8, 0]</text>\n</g>\n<!-- 122&#45;&gt;124 -->\n<g id=\"edge124\" class=\"edge\">\n<title>122&#45;&gt;124</title>\n<path fill=\"none\" stroke=\"black\" d=\"M5346.5,-504.88C5346.5,-494.33 5346.5,-482.6 5346.5,-471.85\"/>\n<polygon fill=\"black\" stroke=\"black\" points=\"5350,-471.52 5346.5,-461.52 5343,-471.52 5350,-471.52\"/>\n</g>\n<!-- 126 -->\n<g id=\"node127\" class=\"node\">\n<title>126</title>\n<polygon fill=\"#39e5c5\" stroke=\"black\" points=\"5687,-461.5 5472,-461.5 5472,-408.5 5687,-408.5 5687,-461.5\"/>\n<text text-anchor=\"middle\" x=\"5579.5\" y=\"-446.3\" font-family=\"Helvetica,sans-Serif\" font-size=\"14.00\">entropy = 0.0</text>\n<text text-anchor=\"middle\" x=\"5579.5\" y=\"-431.3\" font-family=\"Helvetica,sans-Serif\" font-size=\"14.00\">samples = 3</text>\n<text text-anchor=\"middle\" x=\"5579.5\" y=\"-416.3\" font-family=\"Helvetica,sans-Serif\" font-size=\"14.00\">value = [0, 0, 0, 0, 3, 0, 0, 0, 0, 0]</text>\n</g>\n<!-- 125&#45;&gt;126 -->\n<g id=\"edge126\" class=\"edge\">\n<title>125&#45;&gt;126</title>\n<path fill=\"none\" stroke=\"black\" d=\"M5579.5,-504.88C5579.5,-494.33 5579.5,-482.6 5579.5,-471.85\"/>\n<polygon fill=\"black\" stroke=\"black\" points=\"5583,-471.52 5579.5,-461.52 5576,-471.52 5583,-471.52\"/>\n</g>\n<!-- 127 -->\n<g id=\"node128\" class=\"node\">\n<title>127</title>\n<polygon fill=\"#f29ce0\" stroke=\"black\" points=\"5920,-469 5705,-469 5705,-401 5920,-401 5920,-469\"/>\n<text text-anchor=\"middle\" x=\"5812.5\" y=\"-453.8\" font-family=\"Helvetica,sans-Serif\" font-size=\"14.00\">stellar_magnitude &lt;= &#45;0.614</text>\n<text text-anchor=\"middle\" x=\"5812.5\" y=\"-438.8\" font-family=\"Helvetica,sans-Serif\" font-size=\"14.00\">entropy = 0.918</text>\n<text text-anchor=\"middle\" x=\"5812.5\" y=\"-423.8\" font-family=\"Helvetica,sans-Serif\" font-size=\"14.00\">samples = 3</text>\n<text text-anchor=\"middle\" x=\"5812.5\" y=\"-408.8\" font-family=\"Helvetica,sans-Serif\" font-size=\"14.00\">value = [0, 0, 1, 0, 0, 0, 0, 0, 2, 0]</text>\n</g>\n<!-- 125&#45;&gt;127 -->\n<g id=\"edge127\" class=\"edge\">\n<title>125&#45;&gt;127</title>\n<path fill=\"none\" stroke=\"black\" d=\"M5655.15,-504.88C5678.26,-494.77 5703.82,-483.58 5727.51,-473.21\"/>\n<polygon fill=\"black\" stroke=\"black\" points=\"5729.08,-476.34 5736.83,-469.12 5726.27,-469.93 5729.08,-476.34\"/>\n</g>\n<!-- 128 -->\n<g id=\"node129\" class=\"node\">\n<title>128</title>\n<polygon fill=\"#e539c0\" stroke=\"black\" points=\"5803,-357.5 5588,-357.5 5588,-304.5 5803,-304.5 5803,-357.5\"/>\n<text text-anchor=\"middle\" x=\"5695.5\" y=\"-342.3\" font-family=\"Helvetica,sans-Serif\" font-size=\"14.00\">entropy = 0.0</text>\n<text text-anchor=\"middle\" x=\"5695.5\" y=\"-327.3\" font-family=\"Helvetica,sans-Serif\" font-size=\"14.00\">samples = 2</text>\n<text text-anchor=\"middle\" x=\"5695.5\" y=\"-312.3\" font-family=\"Helvetica,sans-Serif\" font-size=\"14.00\">value = [0, 0, 0, 0, 0, 0, 0, 0, 2, 0]</text>\n</g>\n<!-- 127&#45;&gt;128 -->\n<g id=\"edge128\" class=\"edge\">\n<title>127&#45;&gt;128</title>\n<path fill=\"none\" stroke=\"black\" d=\"M5774.51,-400.88C5761.02,-389.12 5745.85,-375.89 5732.44,-364.2\"/>\n<polygon fill=\"black\" stroke=\"black\" points=\"5734.61,-361.45 5724.77,-357.52 5730.01,-366.73 5734.61,-361.45\"/>\n</g>\n<!-- 129 -->\n<g id=\"node130\" class=\"node\">\n<title>129</title>\n<polygon fill=\"#7be539\" stroke=\"black\" points=\"6036,-357.5 5821,-357.5 5821,-304.5 6036,-304.5 6036,-357.5\"/>\n<text text-anchor=\"middle\" x=\"5928.5\" y=\"-342.3\" font-family=\"Helvetica,sans-Serif\" font-size=\"14.00\">entropy = 0.0</text>\n<text text-anchor=\"middle\" x=\"5928.5\" y=\"-327.3\" font-family=\"Helvetica,sans-Serif\" font-size=\"14.00\">samples = 1</text>\n<text text-anchor=\"middle\" x=\"5928.5\" y=\"-312.3\" font-family=\"Helvetica,sans-Serif\" font-size=\"14.00\">value = [0, 0, 1, 0, 0, 0, 0, 0, 0, 0]</text>\n</g>\n<!-- 127&#45;&gt;129 -->\n<g id=\"edge129\" class=\"edge\">\n<title>127&#45;&gt;129</title>\n<path fill=\"none\" stroke=\"black\" d=\"M5850.16,-400.88C5863.54,-389.12 5878.58,-375.89 5891.88,-364.2\"/>\n<polygon fill=\"black\" stroke=\"black\" points=\"5894.28,-366.75 5899.48,-357.52 5889.66,-361.49 5894.28,-366.75\"/>\n</g>\n<!-- 131 -->\n<g id=\"node132\" class=\"node\">\n<title>131</title>\n<polygon fill=\"#f193dd\" stroke=\"black\" points=\"6329.5,-677 6107.5,-677 6107.5,-609 6329.5,-609 6329.5,-677\"/>\n<text text-anchor=\"middle\" x=\"6218.5\" y=\"-661.8\" font-family=\"Helvetica,sans-Serif\" font-size=\"14.00\">stellar_magnitude &lt;= &#45;0.913</text>\n<text text-anchor=\"middle\" x=\"6218.5\" y=\"-646.8\" font-family=\"Helvetica,sans-Serif\" font-size=\"14.00\">entropy = 1.159</text>\n<text text-anchor=\"middle\" x=\"6218.5\" y=\"-631.8\" font-family=\"Helvetica,sans-Serif\" font-size=\"14.00\">samples = 15</text>\n<text text-anchor=\"middle\" x=\"6218.5\" y=\"-616.8\" font-family=\"Helvetica,sans-Serif\" font-size=\"14.00\">value = [0, 0, 0, 0, 0, 0, 0, 4, 10, 1]</text>\n</g>\n<!-- 130&#45;&gt;131 -->\n<g id=\"edge131\" class=\"edge\">\n<title>130&#45;&gt;131</title>\n<path fill=\"none\" stroke=\"black\" d=\"M6218.5,-712.88C6218.5,-704.78 6218.5,-695.98 6218.5,-687.47\"/>\n<polygon fill=\"black\" stroke=\"black\" points=\"6222,-687.3 6218.5,-677.3 6215,-687.3 6222,-687.3\"/>\n</g>\n<!-- 140 -->\n<g id=\"node141\" class=\"node\">\n<title>140</title>\n<polygon fill=\"#ba6aec\" stroke=\"black\" points=\"6681,-677 6466,-677 6466,-609 6681,-609 6681,-677\"/>\n<text text-anchor=\"middle\" x=\"6573.5\" y=\"-661.8\" font-family=\"Helvetica,sans-Serif\" font-size=\"14.00\">orbital_period &lt;= 1.015</text>\n<text text-anchor=\"middle\" x=\"6573.5\" y=\"-646.8\" font-family=\"Helvetica,sans-Serif\" font-size=\"14.00\">entropy = 0.722</text>\n<text text-anchor=\"middle\" x=\"6573.5\" y=\"-631.8\" font-family=\"Helvetica,sans-Serif\" font-size=\"14.00\">samples = 5</text>\n<text text-anchor=\"middle\" x=\"6573.5\" y=\"-616.8\" font-family=\"Helvetica,sans-Serif\" font-size=\"14.00\">value = [0, 0, 1, 0, 0, 0, 0, 4, 0, 0]</text>\n</g>\n<!-- 130&#45;&gt;140 -->\n<g id=\"edge140\" class=\"edge\">\n<title>130&#45;&gt;140</title>\n<path fill=\"none\" stroke=\"black\" d=\"M6329.85,-714.01C6370.04,-702.46 6415.51,-689.39 6456.2,-677.7\"/>\n<polygon fill=\"black\" stroke=\"black\" points=\"6457.24,-681.05 6465.88,-674.92 6455.31,-674.32 6457.24,-681.05\"/>\n</g>\n<!-- 132 -->\n<g id=\"node133\" class=\"node\">\n<title>132</title>\n<polygon fill=\"#d19cf2\" stroke=\"black\" points=\"6267,-573 6052,-573 6052,-505 6267,-505 6267,-573\"/>\n<text text-anchor=\"middle\" x=\"6159.5\" y=\"-557.8\" font-family=\"Helvetica,sans-Serif\" font-size=\"14.00\">stellar_magnitude &lt;= &#45;0.966</text>\n<text text-anchor=\"middle\" x=\"6159.5\" y=\"-542.8\" font-family=\"Helvetica,sans-Serif\" font-size=\"14.00\">entropy = 0.918</text>\n<text text-anchor=\"middle\" x=\"6159.5\" y=\"-527.8\" font-family=\"Helvetica,sans-Serif\" font-size=\"14.00\">samples = 3</text>\n<text text-anchor=\"middle\" x=\"6159.5\" y=\"-512.8\" font-family=\"Helvetica,sans-Serif\" font-size=\"14.00\">value = [0, 0, 0, 0, 0, 0, 0, 2, 0, 1]</text>\n</g>\n<!-- 131&#45;&gt;132 -->\n<g id=\"edge132\" class=\"edge\">\n<title>131&#45;&gt;132</title>\n<path fill=\"none\" stroke=\"black\" d=\"M6199.34,-608.88C6194.4,-600.33 6189.01,-591.01 6183.84,-582.07\"/>\n<polygon fill=\"black\" stroke=\"black\" points=\"6186.8,-580.2 6178.76,-573.3 6180.74,-583.71 6186.8,-580.2\"/>\n</g>\n<!-- 135 -->\n<g id=\"node136\" class=\"node\">\n<title>135</title>\n<polygon fill=\"#ea61cd\" stroke=\"black\" points=\"6507.5,-573 6285.5,-573 6285.5,-505 6507.5,-505 6507.5,-573\"/>\n<text text-anchor=\"middle\" x=\"6396.5\" y=\"-557.8\" font-family=\"Helvetica,sans-Serif\" font-size=\"14.00\">mass_multiplier &lt;= &#45;1.476</text>\n<text text-anchor=\"middle\" x=\"6396.5\" y=\"-542.8\" font-family=\"Helvetica,sans-Serif\" font-size=\"14.00\">entropy = 0.65</text>\n<text text-anchor=\"middle\" x=\"6396.5\" y=\"-527.8\" font-family=\"Helvetica,sans-Serif\" font-size=\"14.00\">samples = 12</text>\n<text text-anchor=\"middle\" x=\"6396.5\" y=\"-512.8\" font-family=\"Helvetica,sans-Serif\" font-size=\"14.00\">value = [0, 0, 0, 0, 0, 0, 0, 2, 10, 0]</text>\n</g>\n<!-- 131&#45;&gt;135 -->\n<g id=\"edge135\" class=\"edge\">\n<title>131&#45;&gt;135</title>\n<path fill=\"none\" stroke=\"black\" d=\"M6276.29,-608.88C6293.32,-599.12 6312.1,-588.37 6329.64,-578.31\"/>\n<polygon fill=\"black\" stroke=\"black\" points=\"6331.76,-581.13 6338.69,-573.12 6328.28,-575.06 6331.76,-581.13\"/>\n</g>\n<!-- 133 -->\n<g id=\"node134\" class=\"node\">\n<title>133</title>\n<polygon fill=\"#a339e5\" stroke=\"black\" points=\"6153,-461.5 5938,-461.5 5938,-408.5 6153,-408.5 6153,-461.5\"/>\n<text text-anchor=\"middle\" x=\"6045.5\" y=\"-446.3\" font-family=\"Helvetica,sans-Serif\" font-size=\"14.00\">entropy = 0.0</text>\n<text text-anchor=\"middle\" x=\"6045.5\" y=\"-431.3\" font-family=\"Helvetica,sans-Serif\" font-size=\"14.00\">samples = 2</text>\n<text text-anchor=\"middle\" x=\"6045.5\" y=\"-416.3\" font-family=\"Helvetica,sans-Serif\" font-size=\"14.00\">value = [0, 0, 0, 0, 0, 0, 0, 2, 0, 0]</text>\n</g>\n<!-- 132&#45;&gt;133 -->\n<g id=\"edge133\" class=\"edge\">\n<title>132&#45;&gt;133</title>\n<path fill=\"none\" stroke=\"black\" d=\"M6122.49,-504.88C6109.34,-493.12 6094.56,-479.89 6081.49,-468.2\"/>\n<polygon fill=\"black\" stroke=\"black\" points=\"6083.81,-465.58 6074.02,-461.52 6079.14,-470.8 6083.81,-465.58\"/>\n</g>\n<!-- 134 -->\n<g id=\"node135\" class=\"node\">\n<title>134</title>\n<polygon fill=\"#e53958\" stroke=\"black\" points=\"6386,-461.5 6171,-461.5 6171,-408.5 6386,-408.5 6386,-461.5\"/>\n<text text-anchor=\"middle\" x=\"6278.5\" y=\"-446.3\" font-family=\"Helvetica,sans-Serif\" font-size=\"14.00\">entropy = 0.0</text>\n<text text-anchor=\"middle\" x=\"6278.5\" y=\"-431.3\" font-family=\"Helvetica,sans-Serif\" font-size=\"14.00\">samples = 1</text>\n<text text-anchor=\"middle\" x=\"6278.5\" y=\"-416.3\" font-family=\"Helvetica,sans-Serif\" font-size=\"14.00\">value = [0, 0, 0, 0, 0, 0, 0, 0, 0, 1]</text>\n</g>\n<!-- 132&#45;&gt;134 -->\n<g id=\"edge134\" class=\"edge\">\n<title>132&#45;&gt;134</title>\n<path fill=\"none\" stroke=\"black\" d=\"M6198.14,-504.88C6211.86,-493.12 6227.29,-479.89 6240.93,-468.2\"/>\n<polygon fill=\"black\" stroke=\"black\" points=\"6243.41,-470.69 6248.73,-461.52 6238.86,-465.37 6243.41,-470.69\"/>\n</g>\n<!-- 136 -->\n<g id=\"node137\" class=\"node\">\n<title>136</title>\n<polygon fill=\"#d19cf2\" stroke=\"black\" points=\"6619,-469 6404,-469 6404,-401 6619,-401 6619,-469\"/>\n<text text-anchor=\"middle\" x=\"6511.5\" y=\"-453.8\" font-family=\"Helvetica,sans-Serif\" font-size=\"14.00\">radius_multiplier &lt;= 0.724</text>\n<text text-anchor=\"middle\" x=\"6511.5\" y=\"-438.8\" font-family=\"Helvetica,sans-Serif\" font-size=\"14.00\">entropy = 0.918</text>\n<text text-anchor=\"middle\" x=\"6511.5\" y=\"-423.8\" font-family=\"Helvetica,sans-Serif\" font-size=\"14.00\">samples = 3</text>\n<text text-anchor=\"middle\" x=\"6511.5\" y=\"-408.8\" font-family=\"Helvetica,sans-Serif\" font-size=\"14.00\">value = [0, 0, 0, 0, 0, 0, 0, 2, 1, 0]</text>\n</g>\n<!-- 135&#45;&gt;136 -->\n<g id=\"edge136\" class=\"edge\">\n<title>135&#45;&gt;136</title>\n<path fill=\"none\" stroke=\"black\" d=\"M6433.84,-504.88C6444.18,-495.71 6455.52,-485.65 6466.26,-476.12\"/>\n<polygon fill=\"black\" stroke=\"black\" points=\"6468.8,-478.55 6473.96,-469.3 6464.15,-473.32 6468.8,-478.55\"/>\n</g>\n<!-- 139 -->\n<g id=\"node140\" class=\"node\">\n<title>139</title>\n<polygon fill=\"#e539c0\" stroke=\"black\" points=\"6852,-461.5 6637,-461.5 6637,-408.5 6852,-408.5 6852,-461.5\"/>\n<text text-anchor=\"middle\" x=\"6744.5\" y=\"-446.3\" font-family=\"Helvetica,sans-Serif\" font-size=\"14.00\">entropy = 0.0</text>\n<text text-anchor=\"middle\" x=\"6744.5\" y=\"-431.3\" font-family=\"Helvetica,sans-Serif\" font-size=\"14.00\">samples = 9</text>\n<text text-anchor=\"middle\" x=\"6744.5\" y=\"-416.3\" font-family=\"Helvetica,sans-Serif\" font-size=\"14.00\">value = [0, 0, 0, 0, 0, 0, 0, 0, 9, 0]</text>\n</g>\n<!-- 135&#45;&gt;139 -->\n<g id=\"edge139\" class=\"edge\">\n<title>135&#45;&gt;139</title>\n<path fill=\"none\" stroke=\"black\" d=\"M6507.57,-505.45C6552.6,-492.25 6604.13,-477.14 6647.6,-464.4\"/>\n<polygon fill=\"black\" stroke=\"black\" points=\"6648.71,-467.72 6657.32,-461.55 6646.74,-461.01 6648.71,-467.72\"/>\n</g>\n<!-- 137 -->\n<g id=\"node138\" class=\"node\">\n<title>137</title>\n<polygon fill=\"#a339e5\" stroke=\"black\" points=\"6502,-357.5 6287,-357.5 6287,-304.5 6502,-304.5 6502,-357.5\"/>\n<text text-anchor=\"middle\" x=\"6394.5\" y=\"-342.3\" font-family=\"Helvetica,sans-Serif\" font-size=\"14.00\">entropy = 0.0</text>\n<text text-anchor=\"middle\" x=\"6394.5\" y=\"-327.3\" font-family=\"Helvetica,sans-Serif\" font-size=\"14.00\">samples = 2</text>\n<text text-anchor=\"middle\" x=\"6394.5\" y=\"-312.3\" font-family=\"Helvetica,sans-Serif\" font-size=\"14.00\">value = [0, 0, 0, 0, 0, 0, 0, 2, 0, 0]</text>\n</g>\n<!-- 136&#45;&gt;137 -->\n<g id=\"edge137\" class=\"edge\">\n<title>136&#45;&gt;137</title>\n<path fill=\"none\" stroke=\"black\" d=\"M6473.51,-400.88C6460.02,-389.12 6444.85,-375.89 6431.44,-364.2\"/>\n<polygon fill=\"black\" stroke=\"black\" points=\"6433.61,-361.45 6423.77,-357.52 6429.01,-366.73 6433.61,-361.45\"/>\n</g>\n<!-- 138 -->\n<g id=\"node139\" class=\"node\">\n<title>138</title>\n<polygon fill=\"#e539c0\" stroke=\"black\" points=\"6735,-357.5 6520,-357.5 6520,-304.5 6735,-304.5 6735,-357.5\"/>\n<text text-anchor=\"middle\" x=\"6627.5\" y=\"-342.3\" font-family=\"Helvetica,sans-Serif\" font-size=\"14.00\">entropy = 0.0</text>\n<text text-anchor=\"middle\" x=\"6627.5\" y=\"-327.3\" font-family=\"Helvetica,sans-Serif\" font-size=\"14.00\">samples = 1</text>\n<text text-anchor=\"middle\" x=\"6627.5\" y=\"-312.3\" font-family=\"Helvetica,sans-Serif\" font-size=\"14.00\">value = [0, 0, 0, 0, 0, 0, 0, 0, 1, 0]</text>\n</g>\n<!-- 136&#45;&gt;138 -->\n<g id=\"edge138\" class=\"edge\">\n<title>136&#45;&gt;138</title>\n<path fill=\"none\" stroke=\"black\" d=\"M6549.16,-400.88C6562.54,-389.12 6577.58,-375.89 6590.88,-364.2\"/>\n<polygon fill=\"black\" stroke=\"black\" points=\"6593.28,-366.75 6598.48,-357.52 6588.66,-361.49 6593.28,-366.75\"/>\n</g>\n<!-- 141 -->\n<g id=\"node142\" class=\"node\">\n<title>141</title>\n<polygon fill=\"#a339e5\" stroke=\"black\" points=\"6741,-565.5 6526,-565.5 6526,-512.5 6741,-512.5 6741,-565.5\"/>\n<text text-anchor=\"middle\" x=\"6633.5\" y=\"-550.3\" font-family=\"Helvetica,sans-Serif\" font-size=\"14.00\">entropy = 0.0</text>\n<text text-anchor=\"middle\" x=\"6633.5\" y=\"-535.3\" font-family=\"Helvetica,sans-Serif\" font-size=\"14.00\">samples = 4</text>\n<text text-anchor=\"middle\" x=\"6633.5\" y=\"-520.3\" font-family=\"Helvetica,sans-Serif\" font-size=\"14.00\">value = [0, 0, 0, 0, 0, 0, 0, 4, 0, 0]</text>\n</g>\n<!-- 140&#45;&gt;141 -->\n<g id=\"edge141\" class=\"edge\">\n<title>140&#45;&gt;141</title>\n<path fill=\"none\" stroke=\"black\" d=\"M6592.98,-608.88C6599.51,-597.78 6606.81,-585.37 6613.39,-574.18\"/>\n<polygon fill=\"black\" stroke=\"black\" points=\"6616.43,-575.91 6618.49,-565.52 6610.4,-572.36 6616.43,-575.91\"/>\n</g>\n<!-- 142 -->\n<g id=\"node143\" class=\"node\">\n<title>142</title>\n<polygon fill=\"#7be539\" stroke=\"black\" points=\"6974,-565.5 6759,-565.5 6759,-512.5 6974,-512.5 6974,-565.5\"/>\n<text text-anchor=\"middle\" x=\"6866.5\" y=\"-550.3\" font-family=\"Helvetica,sans-Serif\" font-size=\"14.00\">entropy = 0.0</text>\n<text text-anchor=\"middle\" x=\"6866.5\" y=\"-535.3\" font-family=\"Helvetica,sans-Serif\" font-size=\"14.00\">samples = 1</text>\n<text text-anchor=\"middle\" x=\"6866.5\" y=\"-520.3\" font-family=\"Helvetica,sans-Serif\" font-size=\"14.00\">value = [0, 0, 1, 0, 0, 0, 0, 0, 0, 0]</text>\n</g>\n<!-- 140&#45;&gt;142 -->\n<g id=\"edge142\" class=\"edge\">\n<title>140&#45;&gt;142</title>\n<path fill=\"none\" stroke=\"black\" d=\"M6668.63,-608.88C6705.75,-595.96 6747.91,-581.28 6783.74,-568.81\"/>\n<polygon fill=\"black\" stroke=\"black\" points=\"6784.9,-572.11 6793.19,-565.52 6782.6,-565.5 6784.9,-572.11\"/>\n</g>\n<!-- 144 -->\n<g id=\"node145\" class=\"node\">\n<title>144</title>\n<polygon fill=\"#399de5\" stroke=\"black\" points=\"5291,-877.5 5076,-877.5 5076,-824.5 5291,-824.5 5291,-877.5\"/>\n<text text-anchor=\"middle\" x=\"5183.5\" y=\"-862.3\" font-family=\"Helvetica,sans-Serif\" font-size=\"14.00\">entropy = 0.0</text>\n<text text-anchor=\"middle\" x=\"5183.5\" y=\"-847.3\" font-family=\"Helvetica,sans-Serif\" font-size=\"14.00\">samples = 3</text>\n<text text-anchor=\"middle\" x=\"5183.5\" y=\"-832.3\" font-family=\"Helvetica,sans-Serif\" font-size=\"14.00\">value = [0, 0, 0, 0, 0, 3, 0, 0, 0, 0]</text>\n</g>\n<!-- 143&#45;&gt;144 -->\n<g id=\"edge144\" class=\"edge\">\n<title>143&#45;&gt;144</title>\n<path fill=\"none\" stroke=\"black\" d=\"M5183.5,-920.88C5183.5,-910.33 5183.5,-898.6 5183.5,-887.85\"/>\n<polygon fill=\"black\" stroke=\"black\" points=\"5187,-887.52 5183.5,-877.52 5180,-887.52 5187,-887.52\"/>\n</g>\n<!-- 145 -->\n<g id=\"node146\" class=\"node\">\n<title>145</title>\n<polygon fill=\"#39e55e\" stroke=\"black\" points=\"5524,-877.5 5309,-877.5 5309,-824.5 5524,-824.5 5524,-877.5\"/>\n<text text-anchor=\"middle\" x=\"5416.5\" y=\"-862.3\" font-family=\"Helvetica,sans-Serif\" font-size=\"14.00\">entropy = 0.0</text>\n<text text-anchor=\"middle\" x=\"5416.5\" y=\"-847.3\" font-family=\"Helvetica,sans-Serif\" font-size=\"14.00\">samples = 2</text>\n<text text-anchor=\"middle\" x=\"5416.5\" y=\"-832.3\" font-family=\"Helvetica,sans-Serif\" font-size=\"14.00\">value = [0, 0, 0, 2, 0, 0, 0, 0, 0, 0]</text>\n</g>\n<!-- 143&#45;&gt;145 -->\n<g id=\"edge145\" class=\"edge\">\n<title>143&#45;&gt;145</title>\n<path fill=\"none\" stroke=\"black\" d=\"M5259.15,-920.88C5288.04,-908.24 5320.77,-893.91 5348.87,-881.61\"/>\n<polygon fill=\"black\" stroke=\"black\" points=\"5350.45,-884.74 5358.2,-877.52 5347.64,-878.32 5350.45,-884.74\"/>\n</g>\n<!-- 147 -->\n<g id=\"node148\" class=\"node\">\n<title>147</title>\n<polygon fill=\"#f4e6fc\" stroke=\"black\" points=\"7514,-1093 7277,-1093 7277,-1025 7514,-1025 7514,-1093\"/>\n<text text-anchor=\"middle\" x=\"7395.5\" y=\"-1077.8\" font-family=\"Helvetica,sans-Serif\" font-size=\"14.00\">orbital_period &lt;= 2.345</text>\n<text text-anchor=\"middle\" x=\"7395.5\" y=\"-1062.8\" font-family=\"Helvetica,sans-Serif\" font-size=\"14.00\">entropy = 2.257</text>\n<text text-anchor=\"middle\" x=\"7395.5\" y=\"-1047.8\" font-family=\"Helvetica,sans-Serif\" font-size=\"14.00\">samples = 54</text>\n<text text-anchor=\"middle\" x=\"7395.5\" y=\"-1032.8\" font-family=\"Helvetica,sans-Serif\" font-size=\"14.00\">value = [14, 0, 7, 1, 0, 0, 2, 19, 10, 1]</text>\n</g>\n<!-- 146&#45;&gt;147 -->\n<g id=\"edge147\" class=\"edge\">\n<title>146&#45;&gt;147</title>\n<path fill=\"none\" stroke=\"black\" d=\"M7395.5,-1128.88C7395.5,-1120.78 7395.5,-1111.98 7395.5,-1103.47\"/>\n<polygon fill=\"black\" stroke=\"black\" points=\"7399,-1103.3 7395.5,-1093.3 7392,-1103.3 7399,-1103.3\"/>\n</g>\n<!-- 168 -->\n<g id=\"node169\" class=\"node\">\n<title>168</title>\n<polygon fill=\"#48e76a\" stroke=\"black\" points=\"7872.5,-1093 7650.5,-1093 7650.5,-1025 7872.5,-1025 7872.5,-1093\"/>\n<text text-anchor=\"middle\" x=\"7761.5\" y=\"-1077.8\" font-family=\"Helvetica,sans-Serif\" font-size=\"14.00\">orbital_period &lt;= 2.269</text>\n<text text-anchor=\"middle\" x=\"7761.5\" y=\"-1062.8\" font-family=\"Helvetica,sans-Serif\" font-size=\"14.00\">entropy = 0.364</text>\n<text text-anchor=\"middle\" x=\"7761.5\" y=\"-1047.8\" font-family=\"Helvetica,sans-Serif\" font-size=\"14.00\">samples = 72</text>\n<text text-anchor=\"middle\" x=\"7761.5\" y=\"-1032.8\" font-family=\"Helvetica,sans-Serif\" font-size=\"14.00\">value = [5, 0, 0, 67, 0, 0, 0, 0, 0, 0]</text>\n</g>\n<!-- 146&#45;&gt;168 -->\n<g id=\"edge168\" class=\"edge\">\n<title>146&#45;&gt;168</title>\n<path fill=\"none\" stroke=\"black\" d=\"M7514.08,-1128.95C7554.57,-1117.67 7599.89,-1105.04 7640.57,-1093.7\"/>\n<polygon fill=\"black\" stroke=\"black\" points=\"7641.57,-1097.06 7650.26,-1091 7639.69,-1090.31 7641.57,-1097.06\"/>\n</g>\n<!-- 148 -->\n<g id=\"node149\" class=\"node\">\n<title>148</title>\n<polygon fill=\"#e4c6f7\" stroke=\"black\" points=\"7392.5,-989 7162.5,-989 7162.5,-921 7392.5,-921 7392.5,-989\"/>\n<text text-anchor=\"middle\" x=\"7277.5\" y=\"-973.8\" font-family=\"Helvetica,sans-Serif\" font-size=\"14.00\">stellar_magnitude &lt;= &#45;0.368</text>\n<text text-anchor=\"middle\" x=\"7277.5\" y=\"-958.8\" font-family=\"Helvetica,sans-Serif\" font-size=\"14.00\">entropy = 2.051</text>\n<text text-anchor=\"middle\" x=\"7277.5\" y=\"-943.8\" font-family=\"Helvetica,sans-Serif\" font-size=\"14.00\">samples = 41</text>\n<text text-anchor=\"middle\" x=\"7277.5\" y=\"-928.8\" font-family=\"Helvetica,sans-Serif\" font-size=\"14.00\">value = [1, 0, 7, 1, 0, 0, 2, 19, 10, 1]</text>\n</g>\n<!-- 147&#45;&gt;148 -->\n<g id=\"edge148\" class=\"edge\">\n<title>147&#45;&gt;148</title>\n<path fill=\"none\" stroke=\"black\" d=\"M7357.19,-1024.88C7346.47,-1015.62 7334.71,-1005.45 7323.6,-995.85\"/>\n<polygon fill=\"black\" stroke=\"black\" points=\"7325.88,-993.19 7316.02,-989.3 7321.3,-998.49 7325.88,-993.19\"/>\n</g>\n<!-- 167 -->\n<g id=\"node168\" class=\"node\">\n<title>167</title>\n<polygon fill=\"#e58139\" stroke=\"black\" points=\"7632.5,-981.5 7410.5,-981.5 7410.5,-928.5 7632.5,-928.5 7632.5,-981.5\"/>\n<text text-anchor=\"middle\" x=\"7521.5\" y=\"-966.3\" font-family=\"Helvetica,sans-Serif\" font-size=\"14.00\">entropy = 0.0</text>\n<text text-anchor=\"middle\" x=\"7521.5\" y=\"-951.3\" font-family=\"Helvetica,sans-Serif\" font-size=\"14.00\">samples = 13</text>\n<text text-anchor=\"middle\" x=\"7521.5\" y=\"-936.3\" font-family=\"Helvetica,sans-Serif\" font-size=\"14.00\">value = [13, 0, 0, 0, 0, 0, 0, 0, 0, 0]</text>\n</g>\n<!-- 147&#45;&gt;167 -->\n<g id=\"edge167\" class=\"edge\">\n<title>147&#45;&gt;167</title>\n<path fill=\"none\" stroke=\"black\" d=\"M7436.41,-1024.88C7451.08,-1013.01 7467.58,-999.65 7482.12,-987.88\"/>\n<polygon fill=\"black\" stroke=\"black\" points=\"7484.41,-990.53 7489.98,-981.52 7480,-985.09 7484.41,-990.53\"/>\n</g>\n<!-- 149 -->\n<g id=\"node150\" class=\"node\">\n<title>149</title>\n<polygon fill=\"#b25ae9\" stroke=\"black\" points=\"7388.5,-885 7166.5,-885 7166.5,-817 7388.5,-817 7388.5,-885\"/>\n<text text-anchor=\"middle\" x=\"7277.5\" y=\"-869.8\" font-family=\"Helvetica,sans-Serif\" font-size=\"14.00\">mass_multiplier &lt;= 1.64</text>\n<text text-anchor=\"middle\" x=\"7277.5\" y=\"-854.8\" font-family=\"Helvetica,sans-Serif\" font-size=\"14.00\">entropy = 0.88</text>\n<text text-anchor=\"middle\" x=\"7277.5\" y=\"-839.8\" font-family=\"Helvetica,sans-Serif\" font-size=\"14.00\">samples = 19</text>\n<text text-anchor=\"middle\" x=\"7277.5\" y=\"-824.8\" font-family=\"Helvetica,sans-Serif\" font-size=\"14.00\">value = [1, 0, 0, 0, 0, 0, 0, 16, 1, 1]</text>\n</g>\n<!-- 148&#45;&gt;149 -->\n<g id=\"edge149\" class=\"edge\">\n<title>148&#45;&gt;149</title>\n<path fill=\"none\" stroke=\"black\" d=\"M7277.5,-920.88C7277.5,-912.78 7277.5,-903.98 7277.5,-895.47\"/>\n<polygon fill=\"black\" stroke=\"black\" points=\"7281,-895.3 7277.5,-885.3 7274,-895.3 7281,-895.3\"/>\n</g>\n<!-- 156 -->\n<g id=\"node157\" class=\"node\">\n<title>156</title>\n<polygon fill=\"#fce5f7\" stroke=\"black\" points=\"7854,-885 7639,-885 7639,-817 7854,-817 7854,-885\"/>\n<text text-anchor=\"middle\" x=\"7746.5\" y=\"-869.8\" font-family=\"Helvetica,sans-Serif\" font-size=\"14.00\">orbital_period &lt;= 2.036</text>\n<text text-anchor=\"middle\" x=\"7746.5\" y=\"-854.8\" font-family=\"Helvetica,sans-Serif\" font-size=\"14.00\">entropy = 1.962</text>\n<text text-anchor=\"middle\" x=\"7746.5\" y=\"-839.8\" font-family=\"Helvetica,sans-Serif\" font-size=\"14.00\">samples = 22</text>\n<text text-anchor=\"middle\" x=\"7746.5\" y=\"-824.8\" font-family=\"Helvetica,sans-Serif\" font-size=\"14.00\">value = [0, 0, 7, 1, 0, 0, 2, 3, 9, 0]</text>\n</g>\n<!-- 148&#45;&gt;156 -->\n<g id=\"edge156\" class=\"edge\">\n<title>148&#45;&gt;156</title>\n<path fill=\"none\" stroke=\"black\" d=\"M7392.62,-923.1C7395.61,-922.38 7398.57,-921.68 7401.5,-921 7476.76,-903.48 7561.89,-886.42 7628.75,-873.65\"/>\n<polygon fill=\"black\" stroke=\"black\" points=\"7629.73,-877.03 7638.9,-871.72 7628.42,-870.15 7629.73,-877.03\"/>\n</g>\n<!-- 150 -->\n<g id=\"node151\" class=\"node\">\n<title>150</title>\n<polygon fill=\"#a945e7\" stroke=\"black\" points=\"7154.5,-781 6932.5,-781 6932.5,-713 7154.5,-713 7154.5,-781\"/>\n<text text-anchor=\"middle\" x=\"7043.5\" y=\"-765.8\" font-family=\"Helvetica,sans-Serif\" font-size=\"14.00\">name &lt;= &#45;1.623</text>\n<text text-anchor=\"middle\" x=\"7043.5\" y=\"-750.8\" font-family=\"Helvetica,sans-Serif\" font-size=\"14.00\">entropy = 0.323</text>\n<text text-anchor=\"middle\" x=\"7043.5\" y=\"-735.8\" font-family=\"Helvetica,sans-Serif\" font-size=\"14.00\">samples = 17</text>\n<text text-anchor=\"middle\" x=\"7043.5\" y=\"-720.8\" font-family=\"Helvetica,sans-Serif\" font-size=\"14.00\">value = [0, 0, 0, 0, 0, 0, 0, 16, 1, 0]</text>\n</g>\n<!-- 149&#45;&gt;150 -->\n<g id=\"edge150\" class=\"edge\">\n<title>149&#45;&gt;150</title>\n<path fill=\"none\" stroke=\"black\" d=\"M7201.53,-816.88C7178.32,-806.77 7152.64,-795.58 7128.86,-785.21\"/>\n<polygon fill=\"black\" stroke=\"black\" points=\"7130.06,-781.91 7119.49,-781.12 7127.26,-788.33 7130.06,-781.91\"/>\n</g>\n<!-- 153 -->\n<g id=\"node154\" class=\"node\">\n<title>153</title>\n<polygon fill=\"#ffffff\" stroke=\"black\" points=\"7388,-781 7173,-781 7173,-713 7388,-713 7388,-781\"/>\n<text text-anchor=\"middle\" x=\"7280.5\" y=\"-765.8\" font-family=\"Helvetica,sans-Serif\" font-size=\"14.00\">mass_multiplier &lt;= 1.901</text>\n<text text-anchor=\"middle\" x=\"7280.5\" y=\"-750.8\" font-family=\"Helvetica,sans-Serif\" font-size=\"14.00\">entropy = 1.0</text>\n<text text-anchor=\"middle\" x=\"7280.5\" y=\"-735.8\" font-family=\"Helvetica,sans-Serif\" font-size=\"14.00\">samples = 2</text>\n<text text-anchor=\"middle\" x=\"7280.5\" y=\"-720.8\" font-family=\"Helvetica,sans-Serif\" font-size=\"14.00\">value = [1, 0, 0, 0, 0, 0, 0, 0, 0, 1]</text>\n</g>\n<!-- 149&#45;&gt;153 -->\n<g id=\"edge153\" class=\"edge\">\n<title>149&#45;&gt;153</title>\n<path fill=\"none\" stroke=\"black\" d=\"M7278.47,-816.88C7278.71,-808.78 7278.97,-799.98 7279.22,-791.47\"/>\n<polygon fill=\"black\" stroke=\"black\" points=\"7282.73,-791.4 7279.52,-781.3 7275.73,-791.19 7282.73,-791.4\"/>\n</g>\n<!-- 151 -->\n<g id=\"node152\" class=\"node\">\n<title>151</title>\n<polygon fill=\"#e539c0\" stroke=\"black\" points=\"6914,-669.5 6699,-669.5 6699,-616.5 6914,-616.5 6914,-669.5\"/>\n<text text-anchor=\"middle\" x=\"6806.5\" y=\"-654.3\" font-family=\"Helvetica,sans-Serif\" font-size=\"14.00\">entropy = 0.0</text>\n<text text-anchor=\"middle\" x=\"6806.5\" y=\"-639.3\" font-family=\"Helvetica,sans-Serif\" font-size=\"14.00\">samples = 1</text>\n<text text-anchor=\"middle\" x=\"6806.5\" y=\"-624.3\" font-family=\"Helvetica,sans-Serif\" font-size=\"14.00\">value = [0, 0, 0, 0, 0, 0, 0, 0, 1, 0]</text>\n</g>\n<!-- 150&#45;&gt;151 -->\n<g id=\"edge151\" class=\"edge\">\n<title>150&#45;&gt;151</title>\n<path fill=\"none\" stroke=\"black\" d=\"M6966.55,-712.88C6937.17,-700.24 6903.88,-685.91 6875.3,-673.61\"/>\n<polygon fill=\"black\" stroke=\"black\" points=\"6876.37,-670.26 6865.8,-669.52 6873.6,-676.69 6876.37,-670.26\"/>\n</g>\n<!-- 152 -->\n<g id=\"node153\" class=\"node\">\n<title>152</title>\n<polygon fill=\"#a339e5\" stroke=\"black\" points=\"7154.5,-669.5 6932.5,-669.5 6932.5,-616.5 7154.5,-616.5 7154.5,-669.5\"/>\n<text text-anchor=\"middle\" x=\"7043.5\" y=\"-654.3\" font-family=\"Helvetica,sans-Serif\" font-size=\"14.00\">entropy = 0.0</text>\n<text text-anchor=\"middle\" x=\"7043.5\" y=\"-639.3\" font-family=\"Helvetica,sans-Serif\" font-size=\"14.00\">samples = 16</text>\n<text text-anchor=\"middle\" x=\"7043.5\" y=\"-624.3\" font-family=\"Helvetica,sans-Serif\" font-size=\"14.00\">value = [0, 0, 0, 0, 0, 0, 0, 16, 0, 0]</text>\n</g>\n<!-- 150&#45;&gt;152 -->\n<g id=\"edge152\" class=\"edge\">\n<title>150&#45;&gt;152</title>\n<path fill=\"none\" stroke=\"black\" d=\"M7043.5,-712.88C7043.5,-702.33 7043.5,-690.6 7043.5,-679.85\"/>\n<polygon fill=\"black\" stroke=\"black\" points=\"7047,-679.52 7043.5,-669.52 7040,-679.52 7047,-679.52\"/>\n</g>\n<!-- 154 -->\n<g id=\"node155\" class=\"node\">\n<title>154</title>\n<polygon fill=\"#e53958\" stroke=\"black\" points=\"7388,-669.5 7173,-669.5 7173,-616.5 7388,-616.5 7388,-669.5\"/>\n<text text-anchor=\"middle\" x=\"7280.5\" y=\"-654.3\" font-family=\"Helvetica,sans-Serif\" font-size=\"14.00\">entropy = 0.0</text>\n<text text-anchor=\"middle\" x=\"7280.5\" y=\"-639.3\" font-family=\"Helvetica,sans-Serif\" font-size=\"14.00\">samples = 1</text>\n<text text-anchor=\"middle\" x=\"7280.5\" y=\"-624.3\" font-family=\"Helvetica,sans-Serif\" font-size=\"14.00\">value = [0, 0, 0, 0, 0, 0, 0, 0, 0, 1]</text>\n</g>\n<!-- 153&#45;&gt;154 -->\n<g id=\"edge154\" class=\"edge\">\n<title>153&#45;&gt;154</title>\n<path fill=\"none\" stroke=\"black\" d=\"M7280.5,-712.88C7280.5,-702.33 7280.5,-690.6 7280.5,-679.85\"/>\n<polygon fill=\"black\" stroke=\"black\" points=\"7284,-679.52 7280.5,-669.52 7277,-679.52 7284,-679.52\"/>\n</g>\n<!-- 155 -->\n<g id=\"node156\" class=\"node\">\n<title>155</title>\n<polygon fill=\"#e58139\" stroke=\"black\" points=\"7621,-669.5 7406,-669.5 7406,-616.5 7621,-616.5 7621,-669.5\"/>\n<text text-anchor=\"middle\" x=\"7513.5\" y=\"-654.3\" font-family=\"Helvetica,sans-Serif\" font-size=\"14.00\">entropy = 0.0</text>\n<text text-anchor=\"middle\" x=\"7513.5\" y=\"-639.3\" font-family=\"Helvetica,sans-Serif\" font-size=\"14.00\">samples = 1</text>\n<text text-anchor=\"middle\" x=\"7513.5\" y=\"-624.3\" font-family=\"Helvetica,sans-Serif\" font-size=\"14.00\">value = [1, 0, 0, 0, 0, 0, 0, 0, 0, 0]</text>\n</g>\n<!-- 153&#45;&gt;155 -->\n<g id=\"edge155\" class=\"edge\">\n<title>153&#45;&gt;155</title>\n<path fill=\"none\" stroke=\"black\" d=\"M7356.15,-712.88C7385.04,-700.24 7417.77,-685.91 7445.87,-673.61\"/>\n<polygon fill=\"black\" stroke=\"black\" points=\"7447.45,-676.74 7455.2,-669.52 7444.64,-670.32 7447.45,-676.74\"/>\n</g>\n<!-- 157 -->\n<g id=\"node158\" class=\"node\">\n<title>157</title>\n<polygon fill=\"#f29ce0\" stroke=\"black\" points=\"7854,-781 7639,-781 7639,-713 7854,-713 7854,-781\"/>\n<text text-anchor=\"middle\" x=\"7746.5\" y=\"-765.8\" font-family=\"Helvetica,sans-Serif\" font-size=\"14.00\">radius_multiplier &lt;= 0.169</text>\n<text text-anchor=\"middle\" x=\"7746.5\" y=\"-750.8\" font-family=\"Helvetica,sans-Serif\" font-size=\"14.00\">entropy = 1.555</text>\n<text text-anchor=\"middle\" x=\"7746.5\" y=\"-735.8\" font-family=\"Helvetica,sans-Serif\" font-size=\"14.00\">samples = 15</text>\n<text text-anchor=\"middle\" x=\"7746.5\" y=\"-720.8\" font-family=\"Helvetica,sans-Serif\" font-size=\"14.00\">value = [0, 0, 0, 1, 0, 0, 2, 3, 9, 0]</text>\n</g>\n<!-- 156&#45;&gt;157 -->\n<g id=\"edge157\" class=\"edge\">\n<title>156&#45;&gt;157</title>\n<path fill=\"none\" stroke=\"black\" d=\"M7746.5,-816.88C7746.5,-808.78 7746.5,-799.98 7746.5,-791.47\"/>\n<polygon fill=\"black\" stroke=\"black\" points=\"7750,-791.3 7746.5,-781.3 7743,-791.3 7750,-791.3\"/>\n</g>\n<!-- 166 -->\n<g id=\"node167\" class=\"node\">\n<title>166</title>\n<polygon fill=\"#7be539\" stroke=\"black\" points=\"8087,-773.5 7872,-773.5 7872,-720.5 8087,-720.5 8087,-773.5\"/>\n<text text-anchor=\"middle\" x=\"7979.5\" y=\"-758.3\" font-family=\"Helvetica,sans-Serif\" font-size=\"14.00\">entropy = 0.0</text>\n<text text-anchor=\"middle\" x=\"7979.5\" y=\"-743.3\" font-family=\"Helvetica,sans-Serif\" font-size=\"14.00\">samples = 7</text>\n<text text-anchor=\"middle\" x=\"7979.5\" y=\"-728.3\" font-family=\"Helvetica,sans-Serif\" font-size=\"14.00\">value = [0, 0, 7, 0, 0, 0, 0, 0, 0, 0]</text>\n</g>\n<!-- 156&#45;&gt;166 -->\n<g id=\"edge166\" class=\"edge\">\n<title>156&#45;&gt;166</title>\n<path fill=\"none\" stroke=\"black\" d=\"M7822.15,-816.88C7851.04,-804.24 7883.77,-789.91 7911.87,-777.61\"/>\n<polygon fill=\"black\" stroke=\"black\" points=\"7913.45,-780.74 7921.2,-773.52 7910.64,-774.32 7913.45,-780.74\"/>\n</g>\n<!-- 158 -->\n<g id=\"node159\" class=\"node\">\n<title>158</title>\n<polygon fill=\"#e852c8\" stroke=\"black\" points=\"7854,-677 7639,-677 7639,-609 7854,-609 7854,-677\"/>\n<text text-anchor=\"middle\" x=\"7746.5\" y=\"-661.8\" font-family=\"Helvetica,sans-Serif\" font-size=\"14.00\">name &lt;= 1.293</text>\n<text text-anchor=\"middle\" x=\"7746.5\" y=\"-646.8\" font-family=\"Helvetica,sans-Serif\" font-size=\"14.00\">entropy = 0.503</text>\n<text text-anchor=\"middle\" x=\"7746.5\" y=\"-631.8\" font-family=\"Helvetica,sans-Serif\" font-size=\"14.00\">samples = 9</text>\n<text text-anchor=\"middle\" x=\"7746.5\" y=\"-616.8\" font-family=\"Helvetica,sans-Serif\" font-size=\"14.00\">value = [0, 0, 0, 1, 0, 0, 0, 0, 8, 0]</text>\n</g>\n<!-- 157&#45;&gt;158 -->\n<g id=\"edge158\" class=\"edge\">\n<title>157&#45;&gt;158</title>\n<path fill=\"none\" stroke=\"black\" d=\"M7746.5,-712.88C7746.5,-704.78 7746.5,-695.98 7746.5,-687.47\"/>\n<polygon fill=\"black\" stroke=\"black\" points=\"7750,-687.3 7746.5,-677.3 7743,-687.3 7750,-687.3\"/>\n</g>\n<!-- 161 -->\n<g id=\"node162\" class=\"node\">\n<title>161</title>\n<polygon fill=\"#e8cef8\" stroke=\"black\" points=\"8087,-677 7872,-677 7872,-609 8087,-609 8087,-677\"/>\n<text text-anchor=\"middle\" x=\"7979.5\" y=\"-661.8\" font-family=\"Helvetica,sans-Serif\" font-size=\"14.00\">distance &lt;= 1.089</text>\n<text text-anchor=\"middle\" x=\"7979.5\" y=\"-646.8\" font-family=\"Helvetica,sans-Serif\" font-size=\"14.00\">entropy = 1.459</text>\n<text text-anchor=\"middle\" x=\"7979.5\" y=\"-631.8\" font-family=\"Helvetica,sans-Serif\" font-size=\"14.00\">samples = 6</text>\n<text text-anchor=\"middle\" x=\"7979.5\" y=\"-616.8\" font-family=\"Helvetica,sans-Serif\" font-size=\"14.00\">value = [0, 0, 0, 0, 0, 0, 2, 3, 1, 0]</text>\n</g>\n<!-- 157&#45;&gt;161 -->\n<g id=\"edge161\" class=\"edge\">\n<title>157&#45;&gt;161</title>\n<path fill=\"none\" stroke=\"black\" d=\"M7822.15,-712.88C7845.26,-702.77 7870.82,-691.58 7894.51,-681.21\"/>\n<polygon fill=\"black\" stroke=\"black\" points=\"7896.08,-684.34 7903.83,-677.12 7893.27,-677.93 7896.08,-684.34\"/>\n</g>\n<!-- 159 -->\n<g id=\"node160\" class=\"node\">\n<title>159</title>\n<polygon fill=\"#e539c0\" stroke=\"black\" points=\"7621,-565.5 7406,-565.5 7406,-512.5 7621,-512.5 7621,-565.5\"/>\n<text text-anchor=\"middle\" x=\"7513.5\" y=\"-550.3\" font-family=\"Helvetica,sans-Serif\" font-size=\"14.00\">entropy = 0.0</text>\n<text text-anchor=\"middle\" x=\"7513.5\" y=\"-535.3\" font-family=\"Helvetica,sans-Serif\" font-size=\"14.00\">samples = 8</text>\n<text text-anchor=\"middle\" x=\"7513.5\" y=\"-520.3\" font-family=\"Helvetica,sans-Serif\" font-size=\"14.00\">value = [0, 0, 0, 0, 0, 0, 0, 0, 8, 0]</text>\n</g>\n<!-- 158&#45;&gt;159 -->\n<g id=\"edge159\" class=\"edge\">\n<title>158&#45;&gt;159</title>\n<path fill=\"none\" stroke=\"black\" d=\"M7670.85,-608.88C7641.96,-596.24 7609.23,-581.91 7581.13,-569.61\"/>\n<polygon fill=\"black\" stroke=\"black\" points=\"7582.36,-566.32 7571.8,-565.52 7579.55,-572.74 7582.36,-566.32\"/>\n</g>\n<!-- 160 -->\n<g id=\"node161\" class=\"node\">\n<title>160</title>\n<polygon fill=\"#39e55e\" stroke=\"black\" points=\"7854,-565.5 7639,-565.5 7639,-512.5 7854,-512.5 7854,-565.5\"/>\n<text text-anchor=\"middle\" x=\"7746.5\" y=\"-550.3\" font-family=\"Helvetica,sans-Serif\" font-size=\"14.00\">entropy = 0.0</text>\n<text text-anchor=\"middle\" x=\"7746.5\" y=\"-535.3\" font-family=\"Helvetica,sans-Serif\" font-size=\"14.00\">samples = 1</text>\n<text text-anchor=\"middle\" x=\"7746.5\" y=\"-520.3\" font-family=\"Helvetica,sans-Serif\" font-size=\"14.00\">value = [0, 0, 0, 1, 0, 0, 0, 0, 0, 0]</text>\n</g>\n<!-- 158&#45;&gt;160 -->\n<g id=\"edge160\" class=\"edge\">\n<title>158&#45;&gt;160</title>\n<path fill=\"none\" stroke=\"black\" d=\"M7746.5,-608.88C7746.5,-598.33 7746.5,-586.6 7746.5,-575.85\"/>\n<polygon fill=\"black\" stroke=\"black\" points=\"7750,-575.52 7746.5,-565.52 7743,-575.52 7750,-575.52\"/>\n</g>\n<!-- 162 -->\n<g id=\"node163\" class=\"node\">\n<title>162</title>\n<polygon fill=\"#c27bee\" stroke=\"black\" points=\"8087,-573 7872,-573 7872,-505 8087,-505 8087,-573\"/>\n<text text-anchor=\"middle\" x=\"7979.5\" y=\"-557.8\" font-family=\"Helvetica,sans-Serif\" font-size=\"14.00\">radius_wrt &lt;= &#45;0.295</text>\n<text text-anchor=\"middle\" x=\"7979.5\" y=\"-542.8\" font-family=\"Helvetica,sans-Serif\" font-size=\"14.00\">entropy = 0.811</text>\n<text text-anchor=\"middle\" x=\"7979.5\" y=\"-527.8\" font-family=\"Helvetica,sans-Serif\" font-size=\"14.00\">samples = 4</text>\n<text text-anchor=\"middle\" x=\"7979.5\" y=\"-512.8\" font-family=\"Helvetica,sans-Serif\" font-size=\"14.00\">value = [0, 0, 0, 0, 0, 0, 0, 3, 1, 0]</text>\n</g>\n<!-- 161&#45;&gt;162 -->\n<g id=\"edge162\" class=\"edge\">\n<title>161&#45;&gt;162</title>\n<path fill=\"none\" stroke=\"black\" d=\"M7979.5,-608.88C7979.5,-600.78 7979.5,-591.98 7979.5,-583.47\"/>\n<polygon fill=\"black\" stroke=\"black\" points=\"7983,-583.3 7979.5,-573.3 7976,-583.3 7983,-583.3\"/>\n</g>\n<!-- 165 -->\n<g id=\"node166\" class=\"node\">\n<title>165</title>\n<polygon fill=\"#3c39e5\" stroke=\"black\" points=\"8320,-565.5 8105,-565.5 8105,-512.5 8320,-512.5 8320,-565.5\"/>\n<text text-anchor=\"middle\" x=\"8212.5\" y=\"-550.3\" font-family=\"Helvetica,sans-Serif\" font-size=\"14.00\">entropy = 0.0</text>\n<text text-anchor=\"middle\" x=\"8212.5\" y=\"-535.3\" font-family=\"Helvetica,sans-Serif\" font-size=\"14.00\">samples = 2</text>\n<text text-anchor=\"middle\" x=\"8212.5\" y=\"-520.3\" font-family=\"Helvetica,sans-Serif\" font-size=\"14.00\">value = [0, 0, 0, 0, 0, 0, 2, 0, 0, 0]</text>\n</g>\n<!-- 161&#45;&gt;165 -->\n<g id=\"edge165\" class=\"edge\">\n<title>161&#45;&gt;165</title>\n<path fill=\"none\" stroke=\"black\" d=\"M8055.15,-608.88C8084.04,-596.24 8116.77,-581.91 8144.87,-569.61\"/>\n<polygon fill=\"black\" stroke=\"black\" points=\"8146.45,-572.74 8154.2,-565.52 8143.64,-566.32 8146.45,-572.74\"/>\n</g>\n<!-- 163 -->\n<g id=\"node164\" class=\"node\">\n<title>163</title>\n<polygon fill=\"#e539c0\" stroke=\"black\" points=\"7970,-461.5 7755,-461.5 7755,-408.5 7970,-408.5 7970,-461.5\"/>\n<text text-anchor=\"middle\" x=\"7862.5\" y=\"-446.3\" font-family=\"Helvetica,sans-Serif\" font-size=\"14.00\">entropy = 0.0</text>\n<text text-anchor=\"middle\" x=\"7862.5\" y=\"-431.3\" font-family=\"Helvetica,sans-Serif\" font-size=\"14.00\">samples = 1</text>\n<text text-anchor=\"middle\" x=\"7862.5\" y=\"-416.3\" font-family=\"Helvetica,sans-Serif\" font-size=\"14.00\">value = [0, 0, 0, 0, 0, 0, 0, 0, 1, 0]</text>\n</g>\n<!-- 162&#45;&gt;163 -->\n<g id=\"edge163\" class=\"edge\">\n<title>162&#45;&gt;163</title>\n<path fill=\"none\" stroke=\"black\" d=\"M7941.51,-504.88C7928.02,-493.12 7912.85,-479.89 7899.44,-468.2\"/>\n<polygon fill=\"black\" stroke=\"black\" points=\"7901.61,-465.45 7891.77,-461.52 7897.01,-470.73 7901.61,-465.45\"/>\n</g>\n<!-- 164 -->\n<g id=\"node165\" class=\"node\">\n<title>164</title>\n<polygon fill=\"#a339e5\" stroke=\"black\" points=\"8203,-461.5 7988,-461.5 7988,-408.5 8203,-408.5 8203,-461.5\"/>\n<text text-anchor=\"middle\" x=\"8095.5\" y=\"-446.3\" font-family=\"Helvetica,sans-Serif\" font-size=\"14.00\">entropy = 0.0</text>\n<text text-anchor=\"middle\" x=\"8095.5\" y=\"-431.3\" font-family=\"Helvetica,sans-Serif\" font-size=\"14.00\">samples = 3</text>\n<text text-anchor=\"middle\" x=\"8095.5\" y=\"-416.3\" font-family=\"Helvetica,sans-Serif\" font-size=\"14.00\">value = [0, 0, 0, 0, 0, 0, 0, 3, 0, 0]</text>\n</g>\n<!-- 162&#45;&gt;164 -->\n<g id=\"edge164\" class=\"edge\">\n<title>162&#45;&gt;164</title>\n<path fill=\"none\" stroke=\"black\" d=\"M8017.16,-504.88C8030.54,-493.12 8045.58,-479.89 8058.88,-468.2\"/>\n<polygon fill=\"black\" stroke=\"black\" points=\"8061.28,-470.75 8066.48,-461.52 8056.66,-465.49 8061.28,-470.75\"/>\n</g>\n<!-- 169 -->\n<g id=\"node170\" class=\"node\">\n<title>169</title>\n<polygon fill=\"#39e55e\" stroke=\"black\" points=\"7872.5,-981.5 7650.5,-981.5 7650.5,-928.5 7872.5,-928.5 7872.5,-981.5\"/>\n<text text-anchor=\"middle\" x=\"7761.5\" y=\"-966.3\" font-family=\"Helvetica,sans-Serif\" font-size=\"14.00\">entropy = 0.0</text>\n<text text-anchor=\"middle\" x=\"7761.5\" y=\"-951.3\" font-family=\"Helvetica,sans-Serif\" font-size=\"14.00\">samples = 66</text>\n<text text-anchor=\"middle\" x=\"7761.5\" y=\"-936.3\" font-family=\"Helvetica,sans-Serif\" font-size=\"14.00\">value = [0, 0, 0, 66, 0, 0, 0, 0, 0, 0]</text>\n</g>\n<!-- 168&#45;&gt;169 -->\n<g id=\"edge169\" class=\"edge\">\n<title>168&#45;&gt;169</title>\n<path fill=\"none\" stroke=\"black\" d=\"M7761.5,-1024.88C7761.5,-1014.33 7761.5,-1002.6 7761.5,-991.85\"/>\n<polygon fill=\"black\" stroke=\"black\" points=\"7765,-991.52 7761.5,-981.52 7758,-991.52 7765,-991.52\"/>\n</g>\n<!-- 170 -->\n<g id=\"node171\" class=\"node\">\n<title>170</title>\n<polygon fill=\"#ea9a61\" stroke=\"black\" points=\"8106,-989 7891,-989 7891,-921 8106,-921 8106,-989\"/>\n<text text-anchor=\"middle\" x=\"7998.5\" y=\"-973.8\" font-family=\"Helvetica,sans-Serif\" font-size=\"14.00\">distance &lt;= 0.587</text>\n<text text-anchor=\"middle\" x=\"7998.5\" y=\"-958.8\" font-family=\"Helvetica,sans-Serif\" font-size=\"14.00\">entropy = 0.65</text>\n<text text-anchor=\"middle\" x=\"7998.5\" y=\"-943.8\" font-family=\"Helvetica,sans-Serif\" font-size=\"14.00\">samples = 6</text>\n<text text-anchor=\"middle\" x=\"7998.5\" y=\"-928.8\" font-family=\"Helvetica,sans-Serif\" font-size=\"14.00\">value = [5, 0, 0, 1, 0, 0, 0, 0, 0, 0]</text>\n</g>\n<!-- 168&#45;&gt;170 -->\n<g id=\"edge170\" class=\"edge\">\n<title>168&#45;&gt;170</title>\n<path fill=\"none\" stroke=\"black\" d=\"M7838.45,-1024.88C7861.95,-1014.77 7887.96,-1003.58 7912.05,-993.21\"/>\n<polygon fill=\"black\" stroke=\"black\" points=\"7913.73,-996.29 7921.53,-989.12 7910.96,-989.86 7913.73,-996.29\"/>\n</g>\n<!-- 171 -->\n<g id=\"node172\" class=\"node\">\n<title>171</title>\n<polygon fill=\"#e58139\" stroke=\"black\" points=\"8101,-877.5 7886,-877.5 7886,-824.5 8101,-824.5 8101,-877.5\"/>\n<text text-anchor=\"middle\" x=\"7993.5\" y=\"-862.3\" font-family=\"Helvetica,sans-Serif\" font-size=\"14.00\">entropy = 0.0</text>\n<text text-anchor=\"middle\" x=\"7993.5\" y=\"-847.3\" font-family=\"Helvetica,sans-Serif\" font-size=\"14.00\">samples = 4</text>\n<text text-anchor=\"middle\" x=\"7993.5\" y=\"-832.3\" font-family=\"Helvetica,sans-Serif\" font-size=\"14.00\">value = [4, 0, 0, 0, 0, 0, 0, 0, 0, 0]</text>\n</g>\n<!-- 170&#45;&gt;171 -->\n<g id=\"edge171\" class=\"edge\">\n<title>170&#45;&gt;171</title>\n<path fill=\"none\" stroke=\"black\" d=\"M7996.88,-920.88C7996.35,-910.22 7995.77,-898.35 7995.24,-887.52\"/>\n<polygon fill=\"black\" stroke=\"black\" points=\"7998.74,-887.34 7994.75,-877.52 7991.74,-887.68 7998.74,-887.34\"/>\n</g>\n<!-- 172 -->\n<g id=\"node173\" class=\"node\">\n<title>172</title>\n<polygon fill=\"#ffffff\" stroke=\"black\" points=\"8334,-885 8119,-885 8119,-817 8334,-817 8334,-885\"/>\n<text text-anchor=\"middle\" x=\"8226.5\" y=\"-869.8\" font-family=\"Helvetica,sans-Serif\" font-size=\"14.00\">mass_multiplier &lt;= 0.766</text>\n<text text-anchor=\"middle\" x=\"8226.5\" y=\"-854.8\" font-family=\"Helvetica,sans-Serif\" font-size=\"14.00\">entropy = 1.0</text>\n<text text-anchor=\"middle\" x=\"8226.5\" y=\"-839.8\" font-family=\"Helvetica,sans-Serif\" font-size=\"14.00\">samples = 2</text>\n<text text-anchor=\"middle\" x=\"8226.5\" y=\"-824.8\" font-family=\"Helvetica,sans-Serif\" font-size=\"14.00\">value = [1, 0, 0, 1, 0, 0, 0, 0, 0, 0]</text>\n</g>\n<!-- 170&#45;&gt;172 -->\n<g id=\"edge172\" class=\"edge\">\n<title>170&#45;&gt;172</title>\n<path fill=\"none\" stroke=\"black\" d=\"M8072.53,-920.88C8095.04,-910.81 8119.93,-899.67 8143.03,-889.34\"/>\n<polygon fill=\"black\" stroke=\"black\" points=\"8144.76,-892.4 8152.46,-885.12 8141.9,-886.01 8144.76,-892.4\"/>\n</g>\n<!-- 173 -->\n<g id=\"node174\" class=\"node\">\n<title>173</title>\n<polygon fill=\"#e58139\" stroke=\"black\" points=\"8331,-773.5 8116,-773.5 8116,-720.5 8331,-720.5 8331,-773.5\"/>\n<text text-anchor=\"middle\" x=\"8223.5\" y=\"-758.3\" font-family=\"Helvetica,sans-Serif\" font-size=\"14.00\">entropy = 0.0</text>\n<text text-anchor=\"middle\" x=\"8223.5\" y=\"-743.3\" font-family=\"Helvetica,sans-Serif\" font-size=\"14.00\">samples = 1</text>\n<text text-anchor=\"middle\" x=\"8223.5\" y=\"-728.3\" font-family=\"Helvetica,sans-Serif\" font-size=\"14.00\">value = [1, 0, 0, 0, 0, 0, 0, 0, 0, 0]</text>\n</g>\n<!-- 172&#45;&gt;173 -->\n<g id=\"edge173\" class=\"edge\">\n<title>172&#45;&gt;173</title>\n<path fill=\"none\" stroke=\"black\" d=\"M8225.53,-816.88C8225.21,-806.22 8224.86,-794.35 8224.54,-783.52\"/>\n<polygon fill=\"black\" stroke=\"black\" points=\"8228.04,-783.41 8224.25,-773.52 8221.05,-783.62 8228.04,-783.41\"/>\n</g>\n<!-- 174 -->\n<g id=\"node175\" class=\"node\">\n<title>174</title>\n<polygon fill=\"#39e55e\" stroke=\"black\" points=\"8564,-773.5 8349,-773.5 8349,-720.5 8564,-720.5 8564,-773.5\"/>\n<text text-anchor=\"middle\" x=\"8456.5\" y=\"-758.3\" font-family=\"Helvetica,sans-Serif\" font-size=\"14.00\">entropy = 0.0</text>\n<text text-anchor=\"middle\" x=\"8456.5\" y=\"-743.3\" font-family=\"Helvetica,sans-Serif\" font-size=\"14.00\">samples = 1</text>\n<text text-anchor=\"middle\" x=\"8456.5\" y=\"-728.3\" font-family=\"Helvetica,sans-Serif\" font-size=\"14.00\">value = [0, 0, 0, 1, 0, 0, 0, 0, 0, 0]</text>\n</g>\n<!-- 172&#45;&gt;174 -->\n<g id=\"edge174\" class=\"edge\">\n<title>172&#45;&gt;174</title>\n<path fill=\"none\" stroke=\"black\" d=\"M8301.17,-816.88C8329.69,-804.24 8362,-789.91 8389.74,-777.61\"/>\n<polygon fill=\"black\" stroke=\"black\" points=\"8391.23,-780.77 8398.96,-773.52 8388.39,-774.37 8391.23,-780.77\"/>\n</g>\n</g>\n</svg>\n"
          },
          "metadata": {},
          "execution_count": 28
        }
      ]
    }
  ],
  "metadata": {
    "colab": {
      "provenance": []
    },
    "kernelspec": {
      "display_name": "Python 3",
      "name": "python3"
    },
    "language_info": {
      "name": "python"
    }
  },
  "nbformat": 4,
  "nbformat_minor": 0
}